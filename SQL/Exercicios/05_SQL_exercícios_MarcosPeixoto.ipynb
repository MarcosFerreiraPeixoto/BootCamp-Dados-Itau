{
 "cells": [
  {
   "cell_type": "markdown",
   "id": "cc2c9296",
   "metadata": {},
   "source": [
    "<pre>BOOTCAMP DE DADOS ITAÚ\n",
    "Lista: SQL 05\n",
    "Aluno: Marcos Ferreira de Albuquerque Amado Peixoto\n",
    "\n",
    "\n",
    "\n",
    "<h3><b>QUESTÃO 1:</b></h3>\n",
    "Para as tabelas da base `northwind` (indentico ao exercício de treino):\n",
    "    1. Identifique as chaves primária e estrangeira;\n",
    "    2. Faça um EDR (chaves primária e estrangeira + uma coluna).</PRE>"
   ]
  },
  {
   "cell_type": "code",
   "execution_count": null,
   "id": "46e2fa17",
   "metadata": {},
   "outputs": [],
   "source": [
    "#REPOSTA ENVIADA EM UM ARQUIVO .PDF"
   ]
  },
  {
   "cell_type": "markdown",
   "id": "5a77af46",
   "metadata": {},
   "source": [
    "<pre><h3><b>QUESTÃO 2:</b></h3>\n",
    "Quantas ordens de compra há para cada categoria de produto?</pre>"
   ]
  },
  {
   "cell_type": "code",
   "execution_count": null,
   "id": "a2d9d303",
   "metadata": {},
   "outputs": [],
   "source": [
    "SELECT \n",
    "\tcategories.category_id AS categoria, \n",
    "\tCOUNT(DISTINCT(order_id)) AS quantidade_de_ordens_por_categoria\n",
    "FROM order_details\n",
    "LEFT JOIN products ON order_details.product_id = products.product_id\n",
    "LEFT JOIN categories ON products.category_id = categories.category_id\n",
    "GROUP BY categories.category_id;\n"
   ]
  }
 ],
 "metadata": {
  "kernelspec": {
   "display_name": "Python 3",
   "language": "python",
   "name": "python3"
  },
  "language_info": {
   "codemirror_mode": {
    "name": "ipython",
    "version": 3
   },
   "file_extension": ".py",
   "mimetype": "text/x-python",
   "name": "python",
   "nbconvert_exporter": "python",
   "pygments_lexer": "ipython3",
   "version": "3.8.8"
  },
  "toc": {
   "base_numbering": 1,
   "nav_menu": {},
   "number_sections": true,
   "sideBar": true,
   "skip_h1_title": false,
   "title_cell": "Table of Contents",
   "title_sidebar": "Contents",
   "toc_cell": false,
   "toc_position": {},
   "toc_section_display": true,
   "toc_window_display": false
  }
 },
 "nbformat": 4,
 "nbformat_minor": 5
}
