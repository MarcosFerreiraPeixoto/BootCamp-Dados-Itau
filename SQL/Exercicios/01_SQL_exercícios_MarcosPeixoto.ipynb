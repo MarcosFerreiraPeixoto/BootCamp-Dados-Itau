{
 "cells": [
  {
   "cell_type": "markdown",
   "id": "624ddc47",
   "metadata": {},
   "source": [
    "\n",
    "<pre>BOOTCAMP DE DADOS ITAÚ\n",
    "Lista: SQL 01\n",
    "Aluno: Marcos Ferreira de Albuquerque Amado Peixoto\n",
    "\n",
    "\n",
    "\n",
    "<h3><b>QUESTÃO 1:</b></h3>\n",
    "Selecione da tabela empolyees:\n",
    "    Os sobrenomes distintos dos empregrados;\n",
    "    Empregados que nasceram entre 1950 e 1958 (inclusos);\n",
    "    Empregados que nasceram em 1963 e foram contratados em 1993;\n",
    "    Todos os empregrados que reportam o chefe de id 5;</pre> "
   ]
  },
  {
   "cell_type": "code",
   "execution_count": null,
   "id": "e242e4bd",
   "metadata": {},
   "outputs": [],
   "source": [
    "SELECT DISTINCT (last_name) FROM employees\n",
    "WHERE \n",
    "    birth_date BETWEEN '1950-01-01' AND '1958-12-31'\n",
    "    OR birth_date BETWEEN '1963-01-01' AND '1963-12-01'\t\n",
    "    OR reports_to = 5;"
   ]
  },
  {
   "cell_type": "markdown",
   "id": "d034251a",
   "metadata": {},
   "source": [
    "<pre><h3><b>QUESTÃO 2:</b></h3>\n",
    "Selecione da tabela order_details:\n",
    "    Produtos com 0.05 ou menos de desconto;</pre>"
   ]
  },
  {
   "cell_type": "code",
   "execution_count": null,
   "id": "d2c81614",
   "metadata": {},
   "outputs": [],
   "source": [
    "SELECT product_id FROM order_details WHERE discount <= '0.05';"
   ]
  },
  {
   "cell_type": "markdown",
   "id": "effea080",
   "metadata": {},
   "source": [
    "<pre><h3><b>QUESTÃO 3:</b></h3>\n",
    "Selecione da tabels orders:\n",
    "    Ordens enviadas em Setembro de 1996.\n",
    "    Ordens que possuam o campo região preenchido.</pre>"
   ]
  },
  {
   "cell_type": "code",
   "execution_count": null,
   "id": "1a27b46b",
   "metadata": {},
   "outputs": [],
   "source": [
    "SELECT order_id, ship_region, order_date FROM orders \n",
    "WHERE \n",
    "\tship_region IS NOT NULL\n",
    "\tAND order_date BETWEEN '1996-09-01' AND '1996-09-30';"
   ]
  },
  {
   "cell_type": "markdown",
   "id": "74e9f57d",
   "metadata": {},
   "source": [
    "<pre><h3><b>QUESTÃO 4:</b></h3>\n",
    "Selecione da tabela suppliers:\n",
    "    Todos os contatos que tenham a palavra manager no titulo.</PRE>"
   ]
  },
  {
   "cell_type": "code",
   "execution_count": null,
   "id": "beb8b628",
   "metadata": {},
   "outputs": [],
   "source": [
    "SELECT contact_name FROM suppliers\n",
    "WHERE contact_title LIKE '%Manager%';"
   ]
  }
 ],
 "metadata": {
  "kernelspec": {
   "display_name": "Python 3",
   "language": "python",
   "name": "python3"
  },
  "language_info": {
   "codemirror_mode": {
    "name": "ipython",
    "version": 3
   },
   "file_extension": ".py",
   "mimetype": "text/x-python",
   "name": "python",
   "nbconvert_exporter": "python",
   "pygments_lexer": "ipython3",
   "version": "3.8.8"
  },
  "toc": {
   "base_numbering": 1,
   "nav_menu": {},
   "number_sections": true,
   "sideBar": true,
   "skip_h1_title": false,
   "title_cell": "Table of Contents",
   "title_sidebar": "Contents",
   "toc_cell": false,
   "toc_position": {},
   "toc_section_display": true,
   "toc_window_display": false
  }
 },
 "nbformat": 4,
 "nbformat_minor": 5
}
