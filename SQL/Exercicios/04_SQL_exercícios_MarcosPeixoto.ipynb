{
 "cells": [
  {
   "cell_type": "markdown",
   "id": "e39e2e5c",
   "metadata": {},
   "source": [
    "<pre>BOOTCAMP DE DADOS ITAÚ\n",
    "Lista: SQL 04\n",
    "Aluno: Marcos Ferreira de Albuquerque Amado Peixoto\n",
    "\n",
    "\n",
    "\n",
    "<h3><b>QUESTÃO 1:</b></h3>\n",
    "Faça um relatório com o número de ordens fechadas por cada vendedor e o valor total vendido por cada um. Ordene pelo nome dos vendedores.</PRE>"
   ]
  },
  {
   "cell_type": "code",
   "execution_count": null,
   "id": "d967901d",
   "metadata": {},
   "outputs": [],
   "source": [
    "SELECT \n",
    "\temployees.first_name AS nome_vendedor,\n",
    "\tCOUNT(DISTINCT(orders.order_id)) AS qnt_ordens_fechadas,\n",
    "\tROUND(SUM((order_details.unit_price * order_details.quantity) * (1 - order_details.discount))::numeric, 2) AS total_vendido\n",
    "FROM orders\n",
    "JOIN order_details ON orders.order_id = order_details.order_id\n",
    "JOIN employees ON orders.employee_id = employees.employee_id\n",
    "GROUP BY employees.first_name\n",
    "ORDER BY employees.first_name;"
   ]
  },
  {
   "cell_type": "markdown",
   "id": "7b744161",
   "metadata": {},
   "source": [
    "<pre><h3><b>QUESTÃO 2:</b></h3>\n",
    "Qual a fração do valor vendido por cada cada vendedor em relação ao valor total das vendas?</pre>"
   ]
  },
  {
   "cell_type": "code",
   "execution_count": null,
   "id": "b2f03158",
   "metadata": {},
   "outputs": [],
   "source": [
    "SELECT \n",
    "\temployees.first_name AS nome_vendedor,\n",
    "\tCOUNT(DISTINCT(orders.order_id)) AS qnt_ordens_fechadas,\n",
    "\tROUND((SUM((order_details.unit_price * order_details.quantity) * (1 - order_details.discount)) /\n",
    "\t(SELECT \n",
    "\t \tSUM((unit_price * quantity) * (1 - discount)) \n",
    "\t FROM order_details))::numeric, 2) AS fracao__valor_vendas_totais\n",
    "FROM orders\n",
    "JOIN order_details ON orders.order_id = order_details.order_id\n",
    "JOIN employees ON orders.employee_id = employees.employee_id\n",
    "GROUP BY employees.first_name\n",
    "ORDER BY employees.first_name;"
   ]
  }
 ],
 "metadata": {
  "kernelspec": {
   "display_name": "Python 3",
   "language": "python",
   "name": "python3"
  },
  "language_info": {
   "codemirror_mode": {
    "name": "ipython",
    "version": 3
   },
   "file_extension": ".py",
   "mimetype": "text/x-python",
   "name": "python",
   "nbconvert_exporter": "python",
   "pygments_lexer": "ipython3",
   "version": "3.8.8"
  },
  "toc": {
   "base_numbering": 1,
   "nav_menu": {},
   "number_sections": true,
   "sideBar": true,
   "skip_h1_title": false,
   "title_cell": "Table of Contents",
   "title_sidebar": "Contents",
   "toc_cell": false,
   "toc_position": {},
   "toc_section_display": true,
   "toc_window_display": false
  }
 },
 "nbformat": 4,
 "nbformat_minor": 5
}
