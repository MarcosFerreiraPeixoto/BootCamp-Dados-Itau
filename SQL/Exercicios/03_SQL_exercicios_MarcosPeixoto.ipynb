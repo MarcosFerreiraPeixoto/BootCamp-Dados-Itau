{
 "cells": [
  {
   "cell_type": "markdown",
   "id": "dc3c4d15",
   "metadata": {},
   "source": [
    "<pre>BOOTCAMP DE DADOS ITAÚ\n",
    "Lista: SQL 03\n",
    "Aluno: Marcos Ferreira de Albuquerque Amado Peixoto\n",
    "\n",
    "\n",
    "\n",
    "<h3><b>QUESTÃO 1:</b></h3>\n",
    "Quanto cada cliente gastou em cada tipo de frete (tabela orders)?</PRE>"
   ]
  },
  {
   "cell_type": "code",
   "execution_count": null,
   "id": "b951b890",
   "metadata": {},
   "outputs": [],
   "source": [
    "SELECT customer_id, ship_via, SUM(freight) FROM orders\n",
    "GROUP BY customer_id, ship_via\n",
    "ORDER BY customer_id, ship_via; \n",
    "\n",
    "-- Ordenação feita apenas para facilitar a visualização (não foi pedido pelo exercício)"
   ]
  },
  {
   "cell_type": "markdown",
   "id": "976e5fed",
   "metadata": {},
   "source": [
    "<pre><h3><b>QUESTÃO 2:</b></h3>\n",
    "O valor do produto mais barato, mais caro e a média dos valores unitários por fornecedor e categoria.</pre>"
   ]
  },
  {
   "cell_type": "code",
   "execution_count": null,
   "id": "eb43e645",
   "metadata": {},
   "outputs": [],
   "source": [
    "SELECT \n",
    "\tsupplier_id, \n",
    "\tcategory_id, \n",
    "\tMAX(unit_price) AS max_price, \n",
    "\tMIN(unit_price) AS min_price, \n",
    "\tAVG(unit_price) AS avg_price \n",
    "FROM products\n",
    "GROUP BY supplier_id, category_id\n",
    "ORDER BY supplier_id, category_id;\n",
    "\n",
    "-- Ordenação feita apenas para facilitar a visualização (não foi pedido pelo exercício)"
   ]
  }
 ],
 "metadata": {
  "kernelspec": {
   "display_name": "Python 3",
   "language": "python",
   "name": "python3"
  },
  "language_info": {
   "codemirror_mode": {
    "name": "ipython",
    "version": 3
   },
   "file_extension": ".py",
   "mimetype": "text/x-python",
   "name": "python",
   "nbconvert_exporter": "python",
   "pygments_lexer": "ipython3",
   "version": "3.8.10"
  },
  "toc": {
   "base_numbering": 1,
   "nav_menu": {},
   "number_sections": true,
   "sideBar": true,
   "skip_h1_title": false,
   "title_cell": "Table of Contents",
   "title_sidebar": "Contents",
   "toc_cell": false,
   "toc_position": {},
   "toc_section_display": true,
   "toc_window_display": false
  }
 },
 "nbformat": 4,
 "nbformat_minor": 5
}
