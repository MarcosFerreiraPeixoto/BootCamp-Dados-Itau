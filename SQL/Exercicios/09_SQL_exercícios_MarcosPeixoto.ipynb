{
 "cells": [
  {
   "cell_type": "markdown",
   "id": "b9bc388a",
   "metadata": {},
   "source": [
    "# Exercícios de revisão"
   ]
  },
  {
   "cell_type": "markdown",
   "id": "d6d8e0f7",
   "metadata": {},
   "source": [
    "1. A empresa decidiu criar um programa de recompensas que premia o vendedor que teve melhor performânce em cada mês. Para isso, pediu ao time de dados um relatório que traga o nome e o valor total vendido (incluído descontos) do melhor vendedor de cada mês."
   ]
  },
  {
   "cell_type": "markdown",
   "id": "a821cb10",
   "metadata": {},
   "source": [
    "  "
   ]
  },
  {
   "cell_type": "code",
   "execution_count": null,
   "id": "911f043b",
   "metadata": {},
   "outputs": [],
   "source": [
    "-- A empresa decidiu criar um programa de recompensas que premia o vendedor que teve melhor performânce em cada mês. \n",
    "--Para isso, pediu ao time de dados um relatório que traga o nome e o valor total vendido (incluído descontos) do melhor vendedor de cada mês.\n",
    "\n",
    "WITH tabela_temporaria AS\n",
    "(SELECT \n",
    "\tTO_CHAR(orders.order_date, 'YYYY-MM') AS mes,\n",
    "\torders.employee_id,\n",
    "\tSUM(order_details.unit_price * order_details.quantity * (1 - order_details.discount)) AS venda_total,\n",
    "\tRANK () OVER (PARTITION BY TO_CHAR(orders.order_date, 'YYYY-MM') ORDER BY  SUM(order_details.unit_price * order_details.quantity * (1 - order_details.discount)) DESC) AS ranque\n",
    "FROM orders\n",
    "LEFT JOIN order_details ON orders.order_id = order_details.order_id\n",
    "GROUP BY \n",
    "\tTO_CHAR(orders.order_date, 'YYYY-MM'),\n",
    "\torders.employee_id)\n",
    "\n",
    "SELECT\n",
    "\tmes,\n",
    "\ttabela_temporaria.employee_id,\n",
    "\tCONCAT(employees.first_name, ' ', employees.last_name) AS nome_completo,\n",
    "\tROUND(venda_total::numeric, 2) AS vendas_totais\n",
    "FROM tabela_temporaria\n",
    "LEFT JOIN employees ON tabela_temporaria.employee_id = employees.employee_id\n",
    "WHERE ranque = 1"
   ]
  },
  {
   "cell_type": "markdown",
   "id": "4aa443c2",
   "metadata": {},
   "source": [
    "2. Quais vendedores ganharam o prêmio de vendedor do mês mais de uma vez e quantas vezes eles ganharam?"
   ]
  },
  {
   "cell_type": "markdown",
   "id": "7f947f1b",
   "metadata": {},
   "source": []
  },
  {
   "cell_type": "code",
   "execution_count": null,
   "id": "3d692f3b",
   "metadata": {},
   "outputs": [],
   "source": [
    "-- Quais vendedores ganharam o prêmio de vendedor do mês mais de uma vez e quantas vezes eles ganharam?\n",
    "\n",
    "CREATE OR REPLACE VIEW vendedores_do_mes AS\n",
    "(WITH tabela_temporaria AS\n",
    "(SELECT \n",
    "\tTO_CHAR(orders.order_date, 'YYYY-MM') AS mes,\n",
    "\torders.employee_id,\n",
    "\tSUM(order_details.unit_price * order_details.quantity * (1 - order_details.discount)) AS venda_total,\n",
    "\tRANK () OVER (PARTITION BY TO_CHAR(orders.order_date, 'YYYY-MM') ORDER BY  SUM(order_details.unit_price * order_details.quantity * (1 - order_details.discount)) DESC) AS ranque\n",
    "FROM orders\n",
    "LEFT JOIN order_details ON orders.order_id = order_details.order_id\n",
    "GROUP BY \n",
    "\tTO_CHAR(orders.order_date, 'YYYY-MM'),\n",
    "\torders.employee_id)\n",
    "\n",
    "SELECT\n",
    "\tmes,\n",
    "\ttabela_temporaria.employee_id,\n",
    "\tCONCAT(employees.first_name, ' ', employees.last_name) AS nome_completo,\n",
    "\tROUND(venda_total::numeric, 2) AS vendas_totais\n",
    "FROM tabela_temporaria\n",
    "LEFT JOIN employees ON tabela_temporaria.employee_id = employees.employee_id\n",
    "WHERE ranque = 1);\n",
    "\n",
    "SELECT \n",
    "\temployee_id,\n",
    "\tnome_completo,\n",
    "\tCOUNT(employee_id) AS quantidade_empregado_do_mes\n",
    "FROM vendedores_do_mes\n",
    "GROUP BY employee_id, nome_completo\n",
    "HAVING COUNT(employee_id) > 2"
   ]
  }
 ],
 "metadata": {
  "kernelspec": {
   "display_name": "Python 3",
   "language": "python",
   "name": "python3"
  },
  "language_info": {
   "codemirror_mode": {
    "name": "ipython",
    "version": 3
   },
   "file_extension": ".py",
   "mimetype": "text/x-python",
   "name": "python",
   "nbconvert_exporter": "python",
   "pygments_lexer": "ipython3",
   "version": "3.8.8"
  },
  "toc": {
   "base_numbering": 1,
   "nav_menu": {},
   "number_sections": true,
   "sideBar": true,
   "skip_h1_title": false,
   "title_cell": "Table of Contents",
   "title_sidebar": "Contents",
   "toc_cell": false,
   "toc_position": {},
   "toc_section_display": true,
   "toc_window_display": false
  }
 },
 "nbformat": 4,
 "nbformat_minor": 5
}
