{
 "cells": [
  {
   "cell_type": "markdown",
   "id": "e4e690a5",
   "metadata": {},
   "source": [
    "<pre>BOOTCAMP DE DADOS ITAÚ\n",
    "Lista: SQL 02\n",
    "Aluno: Marcos Ferreira de Albuquerque Amado Peixoto\n",
    "\n",
    "\n",
    "\n",
    "<h3><b>QUESTÃO 1:</b></h3>\n",
    "Selecione da tabela empolyees (não esqueça de nomear as colunas criadas):\n",
    "    A idade que os empregados tinham quando foram contratados em ordem crescente;\n",
    "    Qual a pessoa mais jovem que foi contratada?</PRE>"
   ]
  },
  {
   "cell_type": "code",
   "execution_count": null,
   "id": "b3fd9390",
   "metadata": {},
   "outputs": [],
   "source": [
    "SELECT \n",
    "\tfirst_name, \n",
    "\tCASE \n",
    "\t\tWHEN (DATE_PART('month', hire_date) > DATE_PART('month', birth_date)  \n",
    "\t\t\t  AND DATE_PART('day', hire_date) > DATE_PART('day', birth_date)) \n",
    "\t\tTHEN (DATE_PART('year', hire_date) - DATE_PART('year', birth_date))\n",
    "\t\tELSE (DATE_PART('year', hire_date) - DATE_PART('year', birth_date) - 1)\n",
    "\tEND AS hiring_age\n",
    "FROM employees \n",
    "ORDER BY hiring_age ASC;\n",
    "\n",
    "-- Para descobrir quem é a pessoa mais jovem contratada precisamos somente utilizar \"LIMIT 1\" no final do código."
   ]
  },
  {
   "cell_type": "markdown",
   "id": "a0f7f7b3",
   "metadata": {},
   "source": [
    "<pre><h3><b>QUESTÃO 2:</b></h3>\n",
    "Selecione da tabela products:\n",
    "    Os 5 produtos com maior valor agregado atualmente em estoque.</pre>"
   ]
  },
  {
   "cell_type": "code",
   "execution_count": null,
   "id": "95f2b58a",
   "metadata": {},
   "outputs": [],
   "source": [
    "SELECT \n",
    "\tproduct_name,\n",
    "\tCASE\n",
    "\t\tWHEN (unit_price IS NOT NULL AND units_in_stock IS NOT NULL)\n",
    "\t\tTHEN unit_price * units_in_stock\n",
    "\tEND AS stock_cost\n",
    "FROM products\n",
    "ORDER BY stock_cost DESC\n",
    "LIMIT 5;"
   ]
  },
  {
   "cell_type": "markdown",
   "id": "2fe27efb",
   "metadata": {},
   "source": [
    "<pre><h3><b>QUESTÃO 3:</b></h3>\n",
    "Selecione da tabels orders:\n",
    "    O tempo (em dias) entre a compra e a entrega.</pre>"
   ]
  },
  {
   "cell_type": "code",
   "execution_count": null,
   "id": "068f48a0",
   "metadata": {},
   "outputs": [],
   "source": [
    "SELECT\n",
    "\torder_id,\n",
    "\tCASE\n",
    "\t\tWHEN (order_date IS NOT null AND shipped_date IS NOT null)\n",
    "\t\tTHEN (shipped_date - order_date)\n",
    "\tEND AS shipping_time\n",
    "FROM orders;"
   ]
  }
 ],
 "metadata": {
  "kernelspec": {
   "display_name": "Python 3",
   "language": "python",
   "name": "python3"
  },
  "language_info": {
   "codemirror_mode": {
    "name": "ipython",
    "version": 3
   },
   "file_extension": ".py",
   "mimetype": "text/x-python",
   "name": "python",
   "nbconvert_exporter": "python",
   "pygments_lexer": "ipython3",
   "version": "3.8.8"
  },
  "toc": {
   "base_numbering": 1,
   "nav_menu": {},
   "number_sections": true,
   "sideBar": true,
   "skip_h1_title": false,
   "title_cell": "Table of Contents",
   "title_sidebar": "Contents",
   "toc_cell": false,
   "toc_position": {},
   "toc_section_display": true,
   "toc_window_display": false
  }
 },
 "nbformat": 4,
 "nbformat_minor": 5
}
