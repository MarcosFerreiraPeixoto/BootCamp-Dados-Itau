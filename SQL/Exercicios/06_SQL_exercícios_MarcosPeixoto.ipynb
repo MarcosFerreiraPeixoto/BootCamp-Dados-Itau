{
 "cells": [
  {
   "cell_type": "markdown",
   "id": "889cb63f",
   "metadata": {},
   "source": [
    "<pre>BOOTCAMP DE DADOS ITAÚ\n",
    "Lista: SQL 06\n",
    "Aluno: Marcos Ferreira de Albuquerque Amado Peixoto\n",
    "\n",
    "\n",
    "\n",
    "<h3><b>QUESTÃO 1:</b></h3>\n",
    "Resolva o problema abaixo usando as três técnicas aprendidas na aula `06_views_e_subqueries`:\n",
    "\n",
    "    A. Select from select\n",
    "    B. WITH\n",
    "    C. VIEW\n",
    "\n",
    "Quantos vendedores tiveram menos de 300 pedidos e média superior a 700 unidades monetárias por pedido?</PRE>"
   ]
  },
  {
   "cell_type": "code",
   "execution_count": null,
   "id": "2f9e247f",
   "metadata": {},
   "outputs": [],
   "source": [
    "--Método 1 - select from select\n",
    "SELECT\t\n",
    "\tCOUNT(*) AS quantidade_vendedores_validados\n",
    "FROM\n",
    "\t(SELECT \n",
    "\t\temployee_id,\n",
    "\t\tCOUNT(DISTINCT(orders.order_id)),\n",
    "\t\tROUND((SUM(order_details.unit_price * order_details.quantity * (1 - order_details.discount))/COUNT(DISTINCT(orders.order_id)))::numeric, 2)\n",
    "\tFROM orders\n",
    "\tJOIN order_details ON orders.order_id = order_details.order_id\n",
    "\tGROUP BY employee_id\n",
    "\tHAVING \n",
    "\t\tSUM(order_details.unit_price * order_details.quantity * (1 - order_details.discount))/COUNT(DISTINCT(orders.order_id)) > 700 AND\n",
    "\t\tCOUNT(DISTINCT(orders.order_id)) < 300) AS tabela_1;\n",
    "\t\t\n",
    "--Método 2 - with\n",
    "\n",
    "WITH tabela_validada AS (\n",
    "\tSELECT \n",
    "\t\temployee_id,\n",
    "\t\tCOUNT(DISTINCT(orders.order_id)),\n",
    "\t\tROUND((SUM(order_details.unit_price * order_details.quantity * (1 - order_details.discount))/COUNT(DISTINCT(orders.order_id)))::numeric, 2)\n",
    "\tFROM orders\n",
    "\tJOIN order_details ON orders.order_id = order_details.order_id\n",
    "\tGROUP BY employee_id\n",
    "\tHAVING \n",
    "\t\tSUM(order_details.unit_price * order_details.quantity * (1 - order_details.discount))/COUNT(DISTINCT(orders.order_id)) > 700 AND\n",
    "\t\tCOUNT(DISTINCT(orders.order_id)) < 300)\n",
    "SELECT \n",
    "\tCOUNT(employee_id) \n",
    "FROM tabela_validada;\n",
    "\n",
    "--Método 3 - View\n",
    "\n",
    "CREATE VIEW tabela_pos_validacao AS (\n",
    "\tSELECT \n",
    "\t\temployee_id,\n",
    "\t\tCOUNT(DISTINCT(orders.order_id)),\n",
    "\t\tROUND((SUM(order_details.unit_price * order_details.quantity * (1 - order_details.discount))/COUNT(DISTINCT(orders.order_id)))::numeric, 2)\n",
    "\tFROM orders\n",
    "\tJOIN order_details ON orders.order_id = order_details.order_id\n",
    "\tGROUP BY employee_id\n",
    "\tHAVING \n",
    "\t\tSUM(order_details.unit_price * order_details.quantity * (1 - order_details.discount))/COUNT(DISTINCT(orders.order_id)) > 700 AND\n",
    "\t\tCOUNT(DISTINCT(orders.order_id)) < 300)\n",
    "\n",
    "SELECT \n",
    "\tCOUNT(employee_id)\n",
    "FROM tabela_pos_validacao;"
   ]
  }
 ],
 "metadata": {
  "kernelspec": {
   "display_name": "Python 3",
   "language": "python",
   "name": "python3"
  },
  "language_info": {
   "codemirror_mode": {
    "name": "ipython",
    "version": 3
   },
   "file_extension": ".py",
   "mimetype": "text/x-python",
   "name": "python",
   "nbconvert_exporter": "python",
   "pygments_lexer": "ipython3",
   "version": "3.8.8"
  },
  "toc": {
   "base_numbering": 1,
   "nav_menu": {},
   "number_sections": true,
   "sideBar": true,
   "skip_h1_title": false,
   "title_cell": "Table of Contents",
   "title_sidebar": "Contents",
   "toc_cell": false,
   "toc_position": {},
   "toc_section_display": true,
   "toc_window_display": false
  }
 },
 "nbformat": 4,
 "nbformat_minor": 5
}
