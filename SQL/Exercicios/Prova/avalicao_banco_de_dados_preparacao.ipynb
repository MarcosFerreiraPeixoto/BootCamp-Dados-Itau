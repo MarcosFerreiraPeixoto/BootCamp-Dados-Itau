{
 "cells": [
  {
   "cell_type": "markdown",
   "id": "e1b37209",
   "metadata": {},
   "source": [
    "# Instruções"
   ]
  },
  {
   "cell_type": "markdown",
   "id": "a3e34c31",
   "metadata": {},
   "source": [
    "Siga os passos abaixo para se preparar para a atividade de quinta-feira dia 16/12/2021."
   ]
  },
  {
   "cell_type": "code",
   "execution_count": null,
   "id": "4231d544",
   "metadata": {},
   "outputs": [],
   "source": []
  },
  {
   "cell_type": "markdown",
   "id": "a74ad4b5",
   "metadata": {},
   "source": [
    "## Criando a base de dados"
   ]
  },
  {
   "cell_type": "markdown",
   "id": "eacf7348",
   "metadata": {},
   "source": [
    "Crie um schema `hr` no pagAdmin4 e execute o arquivo `hr_database.sql` para criar as tabelas. "
   ]
  },
  {
   "cell_type": "code",
   "execution_count": null,
   "id": "1c22ef34",
   "metadata": {},
   "outputs": [],
   "source": []
  },
  {
   "cell_type": "markdown",
   "id": "8be86096",
   "metadata": {},
   "source": [
    "## Explorando o dataset"
   ]
  },
  {
   "cell_type": "markdown",
   "id": "de160415",
   "metadata": {},
   "source": [
    "Explorar a base de dados é fundamental para um bom trabalho. Para não se pego de surpresa, é interessante que você:\n",
    "\n",
    "1. Saiba quais são as chave primária, estrangeria e indices de cada tabela\n",
    "1. Faça um EDR com as principais informações para te ajudar nas consultas."
   ]
  },
  {
   "cell_type": "markdown",
   "id": "8047fb8f",
   "metadata": {},
   "source": []
  }
 ],
 "metadata": {
  "kernelspec": {
   "display_name": "Python 3",
   "language": "python",
   "name": "python3"
  },
  "language_info": {
   "codemirror_mode": {
    "name": "ipython",
    "version": 3
   },
   "file_extension": ".py",
   "mimetype": "text/x-python",
   "name": "python",
   "nbconvert_exporter": "python",
   "pygments_lexer": "ipython3",
   "version": "3.8.8"
  },
  "toc": {
   "base_numbering": 1,
   "nav_menu": {},
   "number_sections": true,
   "sideBar": true,
   "skip_h1_title": false,
   "title_cell": "Table of Contents",
   "title_sidebar": "Contents",
   "toc_cell": false,
   "toc_position": {
    "height": "calc(100% - 180px)",
    "left": "10px",
    "top": "150px",
    "width": "271.2px"
   },
   "toc_section_display": true,
   "toc_window_display": true
  }
 },
 "nbformat": 4,
 "nbformat_minor": 5
}
