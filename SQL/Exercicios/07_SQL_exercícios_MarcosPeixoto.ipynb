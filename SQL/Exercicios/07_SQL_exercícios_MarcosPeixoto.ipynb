{
 "cells": [
  {
   "cell_type": "markdown",
   "id": "0a1cc760",
   "metadata": {},
   "source": [
    "<pre>BOOTCAMP DE DADOS ITAÚ\n",
    "Lista: SQL 07\n",
    "Aluno: Marcos Ferreira de Albuquerque Amado Peixoto\n",
    "\n",
    "\n",
    "\n",
    "<h3><b>QUESTÃO 1:</b></h3>\n",
    "Crie um relatório que traga o número de pedidos e o valor total deles, bem como seus valores acumulados por mês para cada vendedor.</PRE>"
   ]
  },
  {
   "cell_type": "code",
   "execution_count": null,
   "id": "8a4d5bc9",
   "metadata": {},
   "outputs": [],
   "source": [
    "SELECT \n",
    "\tTO_CHAR(order_date, 'YYYY') AS ano,\n",
    "\tTO_CHAR(order_date, 'YYYY-MM') AS mes,\n",
    "\temployee_id,\n",
    "\tCOUNT(DISTINCT(orders.order_id)) AS qnt_pedidos_no_mes,\n",
    "\tROUND(SUM((order_details.unit_price * order_details.quantity)*(1 - order_details.discount))::numeric,2) AS valor_ordens_mes,\n",
    "\tSUM(ROUND(SUM((order_details.unit_price * order_details.quantity)*(1 - order_details.discount))::numeric,2)) OVER (PARTITION BY employee_id ORDER BY employee_id, TO_CHAR(order_date, 'YYYY-MM')) AS acumulado_valor_ordens_por_vendedor,\n",
    "\tSUM(COUNT(DISTINCT(orders.order_id))) OVER (PARTITION BY employee_id ORDER BY employee_id, TO_CHAR(order_date, 'YYYY-MM')) AS acumulado_qnt_pedidos_por_vendedor\n",
    "FROM orders\n",
    "LEFT JOIN order_details ON orders.order_id = order_details.order_id\n",
    "GROUP BY TO_CHAR(order_date, 'YYYY'), TO_CHAR(order_date, 'YYYY-MM'), employee_id\n",
    "ORDER BY TO_CHAR(order_date, 'YYYY'), TO_CHAR(order_date, 'YYYY-MM'), employee_id;"
   ]
  }
 ],
 "metadata": {
  "kernelspec": {
   "display_name": "Python 3",
   "language": "python",
   "name": "python3"
  },
  "language_info": {
   "codemirror_mode": {
    "name": "ipython",
    "version": 3
   },
   "file_extension": ".py",
   "mimetype": "text/x-python",
   "name": "python",
   "nbconvert_exporter": "python",
   "pygments_lexer": "ipython3",
   "version": "3.8.8"
  },
  "toc": {
   "base_numbering": 1,
   "nav_menu": {},
   "number_sections": true,
   "sideBar": true,
   "skip_h1_title": false,
   "title_cell": "Table of Contents",
   "title_sidebar": "Contents",
   "toc_cell": false,
   "toc_position": {},
   "toc_section_display": true,
   "toc_window_display": false
  }
 },
 "nbformat": 4,
 "nbformat_minor": 5
}
