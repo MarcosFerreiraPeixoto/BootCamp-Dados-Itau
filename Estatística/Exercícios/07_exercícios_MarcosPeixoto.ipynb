{
 "cells": [
  {
   "cell_type": "markdown",
   "metadata": {},
   "source": [
    "Um fabricante de cosméticos afirma que a adição de um novo composto químico em sua linha de shampoos consegue promover em mais de 2 centímetros o crescimento dos fios de cabelo em um período de 60 dias. Duas amostras de pessoas foram selecionadas e testadas, uma utilizando o shampoo novo (com o composto) e a outra com o shampoo antigo (sem o composto).\n",
    "\n",
    "Os resultados (crescimento dos fios de cabelo em centímetros) podem ser verificados na tabela abaixo:\n",
    "\n",
    "\n",
    "Assumindo um nível de confiança de 95% e considerando que as populações se distribuem como uma normal, podemos acreditar na afirmação do fabricante do shampoo? Assinale a alternativa que apresenta a estatística de teste e a decisão correta do teste.\n",
    "\n",
    "Um pouco mais de teoria: como se trata de um problema um pouco diferente do apresentado em nossa aula, vamos esclarecer alguns pontos para ajudar na solução:\n",
    "\n",
    "1) Em testes entre duas amostras, quando realizamos a escolha da distribuição amostral adequada (passo 2) e perguntamos se n ≥ 30, temos que considerar que n = n1 + n2, onde n1 é o tamanho da primeira amostra e n2 o tamanho da segunda;\n",
    "\n",
    "2) Quando n1 + n2 ≥ 30, utilizamos z (normal), e quando n1 + n2 < 30, σ não for conhecido e as populações forem normalmente distribuídas, utilizamos t (t-Student);\n",
    "\n",
    "3) Quando utilizamos a tabela t de Student, em teste de duas amostras, os graus de liberdade são obtidos da seguinte forma: n1 + n2 - 2;\n",
    "\n",
    "4) Quando o problema nos pergunta se podemos acreditar na afirmação do fabricante, está nos indicando o que devemos testar, ou seja, a nossa hipótese alternativa (H1), que no caso é:\n",
    "\n",
    "Onde:\n",
    "\n",
    "μ1 = Crescimento médio dos cabelos com o uso do novo shampoo μ2 = Crescimento médio dos cabelos com o uso do shampoo antigo."
   ]
  },
  {
   "cell_type": "code",
   "execution_count": null,
   "metadata": {},
   "outputs": [],
   "source": []
  },
  {
   "cell_type": "code",
   "execution_count": 21,
   "metadata": {},
   "outputs": [
    {
     "name": "stdout",
     "output_type": "stream",
     "text": [
      "Com uma confiança de 95% a média populacional está no intervalo: 307.688 <= μ <= 352.312\n",
      "A estatística do teste é igual a: 1.479019945774904\n"
     ]
    }
   ],
   "source": [
    "from scipy.stats import norm\n",
    "import numpy as np\n",
    "\n",
    "confianca = 0.95\n",
    "significancia = 1 - confianca\n",
    "probabilidade = confianca + (significancia)/ 2\n",
    "\n",
    "z = 1.65\n",
    "media_amostral = 330\n",
    "desvio_pad = 80\n",
    "n = 35\n",
    "\n",
    "μ = z *  (desvio_pad / np.sqrt(n))\n",
    "print(f'Com uma confiança de 95% a média populacional está no intervalo: {media_amostral - μ:.3f} <= μ <= {media_amostral + μ:.3f}')\n",
    "\n",
    "z_teste = (350 - media_amostral) / (desvio_pad/np.sqrt(n))\n",
    "print(f'A estatística do teste é igual a: {z_teste}')\n",
    "#Com uma confiança de 95% a média populacional está no intervalo: 51.052 <= μ <= 51.548"
   ]
  },
  {
   "cell_type": "code",
   "execution_count": null,
   "metadata": {},
   "outputs": [],
   "source": [
    "Ttest_1sampResult(statistic = array([-1.40184894, 2.70158009]),\n",
    "pvalue = array([ 0.16726344, 0.00945234]))"
   ]
  },
  {
   "cell_type": "markdown",
   "metadata": {},
   "source": [
    "Sabe-se que a vida em horas de um bulbo de lâmpada de 75 W é distribuída de forma aproximadamente normal com desvio padrão de σ = 25. Uma amostra aleatória de 200 bulbos tem uma vida media de 1.014 horas. Construa um intervalo de confiança de 95% para a vida média."
   ]
  },
  {
   "cell_type": "code",
   "execution_count": 3,
   "metadata": {},
   "outputs": [
    {
     "name": "stdout",
     "output_type": "stream",
     "text": [
      "Com uma confiança de 95% a vida média populacional está no intervalo: 1010.535 <= μ <= 1017.465\n"
     ]
    }
   ],
   "source": [
    "from scipy.stats import norm\n",
    "import numpy as np\n",
    "\n",
    "confianca = 0.95\n",
    "significancia = 1 - confianca\n",
    "probabilidade = confianca + (significancia)/ 2\n",
    "\n",
    "z = 1.96\n",
    "media_amostral = 1014\n",
    "desvio_pad = 25\n",
    "n = 200\n",
    "\n",
    "μ = z *  (desvio_pad / np.sqrt(n))\n",
    "print(f'Com uma confiança de 95% a vida média populacional está no intervalo: {media_amostral - μ:.3f} <= μ <= {media_amostral + μ:.3f}')\n",
    "\n",
    "#Com uma confiança de 95% a vida média populacional está no intervalo: 1010.535 <= μ <= 1017.465"
   ]
  },
  {
   "cell_type": "markdown",
   "metadata": {},
   "source": [
    "Qual deve ser o tamanho da amostra para que o intervalo com 99,5% de confiança para a média populacional tenha uma semi-amplitude (ou erro) não superior a 1,5? Sabe-se que a variância populacional é de 23."
   ]
  },
  {
   "cell_type": "code",
   "execution_count": 4,
   "metadata": {},
   "outputs": [
    {
     "name": "stdout",
     "output_type": "stream",
     "text": [
      "O tamanho da amostra para que a semi amplitude do intervalo de 99,5% de confiança da média populacional não seja superior a 1.5, deve ser menor que: 1852.54\n"
     ]
    }
   ],
   "source": [
    "from scipy.stats import norm\n",
    "import numpy as np\n",
    "\n",
    "confianca = 0.995\n",
    "significancia = 1 - confianca\n",
    "probabilidade = confianca + (significancia)/ 2\n",
    "\n",
    "z = norm.ppf(probabilidade)\n",
    "desvio_pad = 23\n",
    "erro = 1.5\n",
    "\n",
    "n =  (desvio_pad / (erro / z))**2\n",
    "print(f'O tamanho da amostra para que a semi amplitude do intervalo de 99,5% de confiança da média populacional não seja superior a 1.5, deve ser menor que: {n:.2f}')\n",
    "\n",
    "#O tamanho da amostra para que a semi amplitude do intervalo de 99,5% de confiança da média populacional não seja superior a 1.5, deve ser menor que: 1852.54"
   ]
  },
  {
   "cell_type": "markdown",
   "metadata": {},
   "source": [
    "Uma marca particular de margarina diet foi analisada para determinar o nível em porcentagem de ácidos graxos insaturados. Uma amostra de seis pacotes resultou nos seguintes dados: 16,8; 17,2; 17,4; 16,9; 16,5 e 17,1. Encontre o intervalo de confiança de 99% para a amostra."
   ]
  },
  {
   "cell_type": "code",
   "execution_count": 6,
   "metadata": {},
   "outputs": [
    {
     "name": "stdout",
     "output_type": "stream",
     "text": [
      "Com uma confiança de 99% a vida média populacional está no intervalo: 16.504 <= μ <= 17.462\n"
     ]
    }
   ],
   "source": [
    "from scipy.stats import norm\n",
    "import numpy as np\n",
    "\n",
    "dados = [16.8, 17.2, 17.4, 16.9, 16.5, 17.1]\n",
    "\n",
    "confianca = 0.99\n",
    "significancia = 1 - confianca\n",
    "probabilidade = confianca + (significancia)/ 2\n",
    "\n",
    "t = 4.0321 #Encontrado procurando na tabela da distribuição t-student para graus de liberdade = 5 e probabilidade = 0.995\n",
    "media_amostral = np.mean(dados)\n",
    "desvio_pad = np.std(dados)\n",
    "n = len(dados)\n",
    "\n",
    "μ = t *  (desvio_pad / np.sqrt(n))\n",
    "print(f'Com uma confiança de 99% a vida média populacional está no intervalo: {media_amostral - μ:.3f} <= μ <= {media_amostral + μ:.3f}')\n",
    "\n",
    "#Com uma confiança de 99% a média populacional está no intervalo: 16.504 <= μ <= 17.462"
   ]
  },
  {
   "cell_type": "markdown",
   "metadata": {},
   "source": [
    "Uma amostra piloto com 12 elementos tem média de 6,7 e desvio padrão de 1,7. Qual deve ser o tamanho da amostra para que a semi amplitude do intervalo de 99,5% de confiança da média populacional não seja superior a 0,8."
   ]
  },
  {
   "cell_type": "code",
   "execution_count": 7,
   "metadata": {},
   "outputs": [
    {
     "name": "stdout",
     "output_type": "stream",
     "text": [
      "O tamanho da amostra para que a semi amplitude do intervalo de 99,5% de confiança da média populacional não seja superior a 0,8, deve ser menor que: 35.58\n"
     ]
    }
   ],
   "source": [
    "from scipy.stats import norm\n",
    "\n",
    "confianca = 0.995\n",
    "significancia = 1 - confianca\n",
    "probabilidade = confianca + (significancia)/ 2\n",
    "\n",
    "z = norm.ppf(probabilidade)\n",
    "media_amostral = 6.7\n",
    "desvio_pad = 1.7\n",
    "n = 12\n",
    "\n",
    "n =  (desvio_pad / (0.8 / z))**2\n",
    "print(f'O tamanho da amostra para que a semi amplitude do intervalo de 99,5% de confiança da média populacional não seja superior a 0.8, deve ser menor que: {n:.2f}')\n",
    "\n",
    "#O tamanho da amostra para que a semi amplitude do intervalo de 99,5% de confiança da média populacional não seja superior a 0.8, deve ser menor que: 35.58"
   ]
  },
  {
   "cell_type": "markdown",
   "metadata": {},
   "source": [
    "Calcular o intervalo de confiança de 95% para a seguinte amostra, com variância populacional desconhecida:\n",
    "\n",
    "19,8; 18,5; 17,6; 16,7; 15,8; 15,4; 14,1; 13,6; 11,9; 11,4; 11,4; 8,8; 7,5; 15,4; 15,4; 19,5; 14,9; 12,7; 11,9; 11,4; 10,1; 7,9"
   ]
  },
  {
   "cell_type": "code",
   "execution_count": 9,
   "metadata": {},
   "outputs": [
    {
     "name": "stdout",
     "output_type": "stream",
     "text": [
      "Com uma confiança de 95% a média populacional está no intervalo: 12.174 <= μ <= 15.253\n"
     ]
    }
   ],
   "source": [
    "from scipy.stats import norm\n",
    "import numpy as np\n",
    "\n",
    "dados = [19.8, 18.5, 17.6, 16.7, 15.8, 15.4, 14.1, 13.6, 11.9, 11.4, 11.4, 8.8, 7.5, 15.4, 15.4, 19.5, 14.9, 12.7, 11.9, 11.4, 10.1, 7.9]\n",
    "\n",
    "confianca = 0.95\n",
    "significancia = 1 - confianca\n",
    "probabilidade = confianca + (significancia)/ 2\n",
    "\n",
    "t = 2.0796 #Encontrado procurando na tabela da distribuição t-student para graus de liberdade = 21 e probabilidade = 0.975\n",
    "media_amostral = np.mean(dados)\n",
    "desvio_pad = np.std(dados)\n",
    "n = len(dados)\n",
    "\n",
    "μ = t *  (desvio_pad / np.sqrt(n))\n",
    "print(f'Com uma confiança de 95% a média populacional está no intervalo: {media_amostral - μ:.3f} <= μ <= {media_amostral + μ:.3f}')\n",
    "\n",
    "#Com uma confiança de 95% a média populacional está no intervalo: 12.174 <= μ <= 15.253"
   ]
  }
 ],
 "metadata": {
  "interpreter": {
   "hash": "a23c8859640bc1fbc613091da76fbf96a069fd467f295e7bb8213e839167d67d"
  },
  "kernelspec": {
   "display_name": "Python 3.8.10 64-bit",
   "language": "python",
   "name": "python3"
  },
  "language_info": {
   "codemirror_mode": {
    "name": "ipython",
    "version": 3
   },
   "file_extension": ".py",
   "mimetype": "text/x-python",
   "name": "python",
   "nbconvert_exporter": "python",
   "pygments_lexer": "ipython3",
   "version": "3.8.10"
  },
  "orig_nbformat": 4
 },
 "nbformat": 4,
 "nbformat_minor": 2
}
