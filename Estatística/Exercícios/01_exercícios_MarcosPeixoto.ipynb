{
 "cells": [
  {
   "cell_type": "markdown",
   "id": "3b6e04f0",
   "metadata": {},
   "source": [
    "## Exercícios para treinar"
   ]
  },
  {
   "cell_type": "markdown",
   "id": "5bf1c796",
   "metadata": {
    "ExecuteTime": {
     "end_time": "2021-07-27T19:50:55.973391Z",
     "start_time": "2021-07-27T19:50:55.954293Z"
    }
   },
   "source": [
    "1. Descreva as seguintes variáveis abaixo como  qualitativa nominal/ordinal ou quantitativa discreta/contínua:\n",
    "\n",
    "    1. ocorrência de hipertensão pré-natal em grávidas com mais de 35 anos (sim ou não):\n",
    "\n",
    "    1. intenção de voto para presidente (as possíveis escolhas são os `nomes` dos presidentes e \"não sei\"):\n",
    "\n",
    "    1. Perda de peso de maratonistas na corrida de São Silvestre (em quilos): \n",
    "\n",
    "    1. intensidade da perda de peso de maratonistas na corrida de São Silvestre (leve, moderada, forte): \n",
    "\n",
    "    1. Grau de satisfação da população brasileira com relação ao trabalho de seu presidente (valores de 0-5 , com zero indicando totalmente insatisfeito, e 5 totalmente satisfeito):\n",
    "\n",
    "1. Calcule a media, variancia e desvio padrão dos alunos."
   ]
  },
  {
   "cell_type": "code",
   "execution_count": 14,
   "id": "b8579c0d",
   "metadata": {
    "ExecuteTime": {
     "end_time": "2021-07-28T12:08:47.122658Z",
     "start_time": "2021-07-28T12:08:47.100907Z"
    }
   },
   "outputs": [
    {
     "data": {
      "text/html": [
       "<div>\n",
       "<style scoped>\n",
       "    .dataframe tbody tr th:only-of-type {\n",
       "        vertical-align: middle;\n",
       "    }\n",
       "\n",
       "    .dataframe tbody tr th {\n",
       "        vertical-align: top;\n",
       "    }\n",
       "\n",
       "    .dataframe thead th {\n",
       "        text-align: right;\n",
       "    }\n",
       "</style>\n",
       "<table border=\"1\" class=\"dataframe\">\n",
       "  <thead>\n",
       "    <tr style=\"text-align: right;\">\n",
       "      <th>Matérias</th>\n",
       "      <th>Fulano</th>\n",
       "      <th>Beltrano</th>\n",
       "      <th>Sicrano</th>\n",
       "    </tr>\n",
       "  </thead>\n",
       "  <tbody>\n",
       "    <tr>\n",
       "      <th>Matemática</th>\n",
       "      <td>8</td>\n",
       "      <td>10.0</td>\n",
       "      <td>7.5</td>\n",
       "    </tr>\n",
       "    <tr>\n",
       "      <th>Português</th>\n",
       "      <td>10</td>\n",
       "      <td>2.0</td>\n",
       "      <td>8.0</td>\n",
       "    </tr>\n",
       "    <tr>\n",
       "      <th>Inglês</th>\n",
       "      <td>4</td>\n",
       "      <td>0.5</td>\n",
       "      <td>7.0</td>\n",
       "    </tr>\n",
       "    <tr>\n",
       "      <th>Geografia</th>\n",
       "      <td>8</td>\n",
       "      <td>1.0</td>\n",
       "      <td>8.0</td>\n",
       "    </tr>\n",
       "    <tr>\n",
       "      <th>História</th>\n",
       "      <td>6</td>\n",
       "      <td>3.0</td>\n",
       "      <td>8.0</td>\n",
       "    </tr>\n",
       "    <tr>\n",
       "      <th>Física</th>\n",
       "      <td>10</td>\n",
       "      <td>9.5</td>\n",
       "      <td>8.5</td>\n",
       "    </tr>\n",
       "    <tr>\n",
       "      <th>Química</th>\n",
       "      <td>8</td>\n",
       "      <td>10.0</td>\n",
       "      <td>7.0</td>\n",
       "    </tr>\n",
       "  </tbody>\n",
       "</table>\n",
       "</div>"
      ],
      "text/plain": [
       "Matérias    Fulano  Beltrano  Sicrano\n",
       "Matemática       8      10.0      7.5\n",
       "Português       10       2.0      8.0\n",
       "Inglês           4       0.5      7.0\n",
       "Geografia        8       1.0      8.0\n",
       "História         6       3.0      8.0\n",
       "Física          10       9.5      8.5\n",
       "Química          8      10.0      7.0"
      ]
     },
     "execution_count": 14,
     "metadata": {},
     "output_type": "execute_result"
    }
   ],
   "source": [
    "import pandas as pd\n",
    "import numpy as np\n",
    "\n",
    "df2 = pd.DataFrame(data = {'Fulano': [8, 10, 4, 8, 6, 10, 8],\n",
    "                          'Beltrano': [10, 2, 0.5, 1, 3, 9.5, 10],\n",
    "                          'Sicrano': [7.5, 8, 7, 8, 8, 8.5, 7]}, \n",
    "                  index = ['Matemática', \n",
    "                           'Português', \n",
    "                           'Inglês', \n",
    "                           'Geografia', \n",
    "                           'História', \n",
    "                           'Física', \n",
    "                           'Química'])\n",
    "df2.rename_axis('Matérias', axis = 'columns', inplace = True)\n",
    "df2"
   ]
  },
  {
   "cell_type": "markdown",
   "id": "952df894",
   "metadata": {},
   "source": [
    "Usando o pandas"
   ]
  },
  {
   "cell_type": "code",
   "execution_count": null,
   "id": "3e60bfc1",
   "metadata": {},
   "outputs": [],
   "source": [
    "fulano = df2['Fulano']\n",
    "beltrano = df2['Beltrano']\n",
    "sicrano = df2['Sicrano']\n",
    "\n",
    "def imprime_valores_pandas (dataframe):\n",
    "\n",
    "    print(f' A média é de {dataframe.mean()}')\n",
    "    print(f' variância é de {dataframe.var()}')\n",
    "    print(f' O desvio padrão é de {dataframe.std()}')\n",
    "\n",
    "imprime_valores_pandas(fulano)\n",
    "print('---------')\n",
    "imprime_valores_pandas(beltrano)\n",
    "print('---------')\n",
    "imprime_valores_pandas(sicrano)"
   ]
  },
  {
   "cell_type": "markdown",
   "id": "99e66d8c",
   "metadata": {},
   "source": [
    "Usando o numpy"
   ]
  },
  {
   "cell_type": "code",
   "execution_count": 21,
   "id": "30541523",
   "metadata": {},
   "outputs": [
    {
     "name": "stdout",
     "output_type": "stream",
     "text": [
      " A média é de 7.714285714285714\n",
      " variância é de 4.57142857142857\n",
      " O desvio padrão é de 2.1380899352993947\n",
      "---------\n",
      " A média é de 5.142857142857143\n",
      " variância é de 19.892857142857146\n",
      " O desvio padrão é de 4.46014093307119\n",
      "---------\n",
      " A média é de 7.714285714285714\n",
      " variância é de 0.32142857142857145\n",
      " O desvio padrão é de 0.5669467095138409\n"
     ]
    }
   ],
   "source": [
    "fulano = df2['Fulano']\n",
    "beltrano = df2['Beltrano']\n",
    "sicrano = df2['Sicrano']\n",
    "\n",
    "def imprime_valores_numpy (dataframe):\n",
    "\n",
    "    print(f' A média é de {np.mean(dataframe)}')\n",
    "    print(f' variância é de {np.var(dataframe, ddof=1)}')\n",
    "    print(f' O desvio padrão é de {np.std(dataframe, ddof=1)}')\n",
    "\n",
    "#def pega_valores_numpy (dataframe):\n",
    "imprime_valores_numpy(fulano)\n",
    "print('---------')\n",
    "imprime_valores_numpy(beltrano)\n",
    "print('---------')\n",
    "imprime_valores_numpy(sicrano)"
   ]
  },
  {
   "cell_type": "markdown",
   "id": "4e53413c",
   "metadata": {},
   "source": [
    "Sem usar pacotes"
   ]
  },
  {
   "cell_type": "code",
   "execution_count": 1,
   "id": "d23424a2",
   "metadata": {},
   "outputs": [],
   "source": [
    "def calcular_media (lista_valores):\n",
    "    \n",
    "    return sum(lista_valores)/len(lista_valores)\n",
    "\n",
    "def calcular_variancia (lista_valores):\n",
    "   \n",
    "    media = calcular_media(lista_valores)\n",
    "    quadrado_dif_media = [(valor - media)**2 for valor in lista_valores]\n",
    "    variancia = sum(quadrado_dif_media) / (len(quadrado_dif_media) - 1)\n",
    "\n",
    "    return variancia\n",
    "\n",
    "def calcular_desvio_padrao (lista_valores):\n",
    "    \n",
    "    variancia = calcular_variancia(lista_valores)\n",
    "    desvio_padrao = variancia**(1/2)\n",
    "    \n",
    "    return desvio_padrao"
   ]
  },
  {
   "cell_type": "code",
   "execution_count": 20,
   "id": "91bbd2c7",
   "metadata": {},
   "outputs": [
    {
     "name": "stdout",
     "output_type": "stream",
     "text": [
      " A média é de 7.714285714285714\n",
      " variância é de 4.57142857142857\n",
      " O desvio padrão é de 2.1380899352993947\n",
      "---------\n",
      " A média é de 5.142857142857143\n",
      " variância é de 19.892857142857146\n",
      " O desvio padrão é de 4.46014093307119\n",
      "---------\n",
      " A média é de 7.714285714285714\n",
      " variância é de 0.32142857142857145\n",
      " O desvio padrão é de 0.5669467095138409\n"
     ]
    }
   ],
   "source": [
    "fulano = df2['Fulano'].to_list()\n",
    "beltrano = df2['Beltrano'].to_list()\n",
    "sicrano = df2['Sicrano'].to_list()\n",
    "\n",
    "def imprime_valores (lista):\n",
    "    print(f' A média é de {calcular_media(lista)}')\n",
    "    print(f' variância é de {calcular_variancia(lista)}')\n",
    "    print(f' O desvio padrão é de {calcular_desvio_padrao(lista)}')\n",
    "\n",
    "imprime_valores(fulano)\n",
    "print('---------')\n",
    "imprime_valores(beltrano)\n",
    "print('---------')\n",
    "imprime_valores(sicrano)"
   ]
  },
  {
   "cell_type": "markdown",
   "id": "06cf57d1",
   "metadata": {},
   "source": [
    "Boxplot"
   ]
  },
  {
   "cell_type": "code",
   "execution_count": 30,
   "id": "f96265b4",
   "metadata": {},
   "outputs": [
    {
     "data": {
      "text/plain": [
       "array([[<AxesSubplot:title={'center':'Fulano'}>]], dtype=object)"
      ]
     },
     "execution_count": 30,
     "metadata": {},
     "output_type": "execute_result"
    },
    {
     "data": {
      "image/png": "[encoded data removed]",
      "text/plain": [
       "<Figure size 432x288 with 1 Axes>"
      ]
     },
     "metadata": {
      "needs_background": "light"
     },
     "output_type": "display_data"
    },
    {
     "data": {
      "image/png": "[encoded data removed]",
      "text/plain": [
       "<Figure size 432x288 with 1 Axes>"
      ]
     },
     "metadata": {
      "needs_background": "light"
     },
     "output_type": "display_data"
    }
   ],
   "source": [
    "fulano = df2['Fulano']\n",
    "beltrano = df2['Beltrano']\n",
    "sicrano = df2['Sicrano']\n",
    "\n",
    "df2.boxplot(column='Fulano')\n",
    "df2.hist(column='Fulano')"
   ]
  }
 ],
 "metadata": {
  "kernelspec": {
   "display_name": "Python 3",
   "language": "python",
   "name": "python3"
  },
  "language_info": {
   "codemirror_mode": {
    "name": "ipython",
    "version": 3
   },
   "file_extension": ".py",
   "mimetype": "text/x-python",
   "name": "python",
   "nbconvert_exporter": "python",
   "pygments_lexer": "ipython3",
   "version": "3.8.10"
  },
  "toc": {
   "base_numbering": 1,
   "nav_menu": {},
   "number_sections": true,
   "sideBar": true,
   "skip_h1_title": false,
   "title_cell": "Table of Contents",
   "title_sidebar": "Contents",
   "toc_cell": false,
   "toc_position": {},
   "toc_section_display": true,
   "toc_window_display": false
  }
 },
 "nbformat": 4,
 "nbformat_minor": 5
}
