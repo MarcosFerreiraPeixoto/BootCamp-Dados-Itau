{
 "cells": [
  {
   "cell_type": "markdown",
   "id": "5f0bcbbd",
   "metadata": {},
   "source": [
    "# Exercicios"
   ]
  },
  {
   "cell_type": "markdown",
   "id": "a1db93c1",
   "metadata": {},
   "source": [
    "1. Uma moeda está viciada: a chance de se obter uma cara usando ela é de 0,6. Qual probabilidade de essa moeda apresentar, em qualquer ordem, 3 caras e 7 coroas."
   ]
  },
  {
   "cell_type": "code",
   "execution_count": 89,
   "id": "e522f0ab",
   "metadata": {},
   "outputs": [
    {
     "name": "stdout",
     "output_type": "stream",
     "text": [
      "0.04246732799999992\n"
     ]
    }
   ],
   "source": [
    "from itertools import permutations, combinations, combinations_with_replacement, product\n",
    "\n",
    "espaco = product(['C', 'K'], repeat=10)\n",
    "\n",
    "prob_cara = 0.6\n",
    "prob_coroa = 1 - prob_cara\n",
    "prob_total = 0\n",
    "\n",
    "for evento in espaco:\n",
    "    n_caras = evento.count('C')\n",
    "    n_coroas = evento.count('K')\n",
    "    \n",
    "    if n_caras == 3 and n_coroas == 7:\n",
    "        prob_total += prob_cara**n_caras * prob_coroa**n_coroas\n",
    "    \n",
    "print(prob_total)"
   ]
  },
  {
   "cell_type": "markdown",
   "id": "0d1d588e",
   "metadata": {},
   "source": [
    "2. Como reproduzir o resultado acima usando os conceitos de permutação, arranjo, etc....?\n"
   ]
  },
  {
   "cell_type": "markdown",
   "metadata": {},
   "source": [
    "> Se designarmos por A o evento que consiste na obtenção 3 caras e 7 coroas em 10 lançamentos, então:\n",
    "$$P(A) = 0.6^3 * 0.4^7 * P_{10}^{7,3} $$\n",
    "\n",
    "$$P_{10}^{7,3} = \\frac{10!}{7!3!} $$\n",
    "\n",
    "$$P(A) = 0.6^3 * 0.4^7 * \\frac{10!}{7!3!} $$\n",
    "\n",
    "$$P(A) = 0.04246733 $$"
   ]
  },
  {
   "cell_type": "code",
   "execution_count": 87,
   "id": "4349ec60",
   "metadata": {},
   "outputs": [
    {
     "name": "stdout",
     "output_type": "stream",
     "text": [
      "0.04246732800000001\n"
     ]
    }
   ],
   "source": [
    "def fatorial (numero):\n",
    "    resultado_fatorial = 1\n",
    "    \n",
    "    for i in range(1, numero + 1):\n",
    "        if numero > 0:\n",
    "            resultado_fatorial *= i\n",
    "\n",
    "    return resultado_fatorial\n",
    "\n",
    "\n",
    "P = (0.6**3 * 0.4**7) * fatorial(10)/(fatorial(7)*fatorial(3))"
   ]
  },
  {
   "cell_type": "markdown",
   "id": "b121d382",
   "metadata": {},
   "source": [
    "3. Em um programa de auditório, havia 3 portas (A, B, C), dentro da qual uma continha um prêmio. O participante escolheu a porta A e antes de abrir a porta o apresentador abriu a porta C, na qual não havia nada. O participante aumentará a probabilidade de acertar a porta caso mude a escolha dele da porta A para a B?"
   ]
  },
  {
   "cell_type": "markdown",
   "id": "9aa859a4",
   "metadata": {},
   "source": [
    "Importando bibliotecas necessárias"
   ]
  },
  {
   "cell_type": "code",
   "execution_count": 10,
   "id": "0adbc454",
   "metadata": {},
   "outputs": [],
   "source": [
    "import random"
   ]
  },
  {
   "cell_type": "markdown",
   "id": "4b27c9a1",
   "metadata": {},
   "source": [
    "Probabilidade de sucesso sem mudança de portas"
   ]
  },
  {
   "cell_type": "code",
   "execution_count": 81,
   "id": "b8e11006",
   "metadata": {},
   "outputs": [
    {
     "name": "stdout",
     "output_type": "stream",
     "text": [
      "A probabilidade de sucesso estimada para essa estratégia é de: 33.36%\n"
     ]
    }
   ],
   "source": [
    "portas = ['A', 'B', 'C']\n",
    "\n",
    "qnt_tentativas = 100000\n",
    "sucessos = 0\n",
    "\n",
    "for i in range(qnt_tentativas):\n",
    "    porta_premiada = portas[random.randint(0,2)]\n",
    "    porta_escolhida = portas[random.randint(0,2)]\n",
    "\n",
    "    if porta_premiada == porta_escolhida:\n",
    "        sucessos += 1\n",
    "\n",
    "probabilidade_sucesso = sucessos/qnt_tentativas\n",
    "print(f'A probabilidade de sucesso estimada para essa estratégia é de: {probabilidade_sucesso*100:.2f}%')"
   ]
  },
  {
   "cell_type": "markdown",
   "id": "15a1eb7f",
   "metadata": {},
   "source": [
    "Probabilidade de sucesso com mudança de portas:"
   ]
  },
  {
   "cell_type": "code",
   "execution_count": 72,
   "id": "898dfe47",
   "metadata": {},
   "outputs": [
    {
     "name": "stdout",
     "output_type": "stream",
     "text": [
      "A probabilidade de sucesso estimada para essa estratégia é de: 66.68%\n"
     ]
    }
   ],
   "source": [
    "qnt_tentativas = 100000\n",
    "sucessos = 0\n",
    "\n",
    "for i in range(qnt_tentativas):\n",
    "    portas = ['A', 'B', 'C']\n",
    "    \n",
    "    porta_premiada = portas[random.randint(0,2)] #Definindo a porta premiada aleatoriamente\n",
    "    porta_escolhida = portas[random.randint(0,2)] #Definindo a porta escolhida aleatoriamente\n",
    "    porta_aberta = ''\n",
    "\n",
    "    #Abrindo uma porta (não pode ser a escolhida pelo participante ou a premiada)\n",
    "    while len(portas) == 3:\n",
    "        porta_aberta = portas[random.randint(0,2)]\n",
    "\n",
    "        if porta_aberta != porta_escolhida and porta_aberta != porta_premiada: #Verificando se a porta aberta é a escolhida pelo participante ou a premiada\n",
    "            portas.remove(porta_aberta) #Se ela não for, removemos a porta aberta da lista de portas disponíveis. Se não o loop reinicia e escolhemos outra porta.\n",
    "    \n",
    "    #Trocando a porta escolhida inicialmente pela porta que sobrou\n",
    "    if portas.index(porta_escolhida) == 0:\n",
    "        porta_escolhida = portas[1]\n",
    "    elif portas.index(porta_escolhida) == 1:\n",
    "        porta_escolhida = portas [0]\n",
    "\n",
    "    #Verificando se o participante ganhou o prêmio:\n",
    "    if porta_escolhida == porta_premiada:\n",
    "        sucessos += 1\n",
    "    \n",
    "probabilidade_sucesso = sucessos/qnt_tentativas\n",
    "print(f'A probabilidade de sucesso estimada para essa estratégia é de: {probabilidade_sucesso*100:.2f}%')"
   ]
  },
  {
   "cell_type": "markdown",
   "id": "fc797409",
   "metadata": {},
   "source": [
    "Estimamos as probabilidade de sucesso para dois cenários: \n",
    " - No primeiro cenário o jogador não troca de porta e carrega a sua escolha incial até o fim do jogo; \n",
    " - No segundo cenário o jogador opta por trocar de porta quando uma das portas vazias é revelada.\n",
    "\n",
    "Para o primeiro cenário estimamos um probabilidade média de sucesso de 33.33%, para o segundo cenário a probabilidade de sucesso aumentou para 66.66%! \n",
    "\n",
    "Por que isso aconteceu?\n",
    "\n",
    "Podemos analisar esse problema sob a seguinte perspectiva: \n",
    "\n",
    "\n",
    "\n",
    "Como temos 3 portas e apenas uma delas é a premiada, o jogador inicialmente tem um probabilidade de <b>33% de acertar</b> na sua escolha e <b>66% de errar</b>.\n",
    "\n",
    "Se o jogador escolheu a porta premiada inicialmente (33% de chance, como mencionado anteriormente), o apresentador vai abrir uma das portas vazias e vai oferecer a oportunidade de trocar a sua porta inicial (premiada) pela porta que sobrou (uma das portas vazias). Caso você opte por trocar, você vai terminar com a porta vazia.\n",
    "\n",
    "Agora, se o jogador escolheu inicialmente uma das portas vazias (66% de chance), o apresentador vai abrir a outra porta vazia e vai oferecer a oportunidade de trocar a sua porta incial (vazia) pela porta que sobrou (premiada). Caso você opte trocar você vai terminar com a porta premiada.\n",
    "\n",
    "Então, se a sua estratégia for sempre trocar de porta quando oferecido, você terá as suas chances invertidas: caso você inicialmente escolha inicialmente uma das portas vazias, ao trocar você terminará com a porta premiada (<b>66% de chance de ganhar</b>); e caso você escolha inicialmente a porta premiada, ao trocar\n",
    " você terminará com uma porta vazia (<b>33% de chance de perder</b>)\n",
    "\n",
    "\n",
    "\n",
    "\n"
   ]
  }
 ],
 "metadata": {
  "kernelspec": {
   "display_name": "Python 3",
   "language": "python",
   "name": "python3"
  },
  "language_info": {
   "codemirror_mode": {
    "name": "ipython",
    "version": 3
   },
   "file_extension": ".py",
   "mimetype": "text/x-python",
   "name": "python",
   "nbconvert_exporter": "python",
   "pygments_lexer": "ipython3",
   "version": "3.8.10"
  },
  "toc": {
   "base_numbering": 1,
   "nav_menu": {},
   "number_sections": true,
   "sideBar": true,
   "skip_h1_title": false,
   "title_cell": "Table of Contents",
   "title_sidebar": "Contents",
   "toc_cell": false,
   "toc_position": {},
   "toc_section_display": true,
   "toc_window_display": false
  }
 },
 "nbformat": 4,
 "nbformat_minor": 5
}
