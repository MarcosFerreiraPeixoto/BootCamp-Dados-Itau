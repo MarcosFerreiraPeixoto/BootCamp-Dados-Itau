{
 "cells": [
  {
   "cell_type": "markdown",
   "id": "3a4f280e",
   "metadata": {},
   "source": [
    "# Exercício para entregar"
   ]
  },
  {
   "cell_type": "markdown",
   "id": "9f9b2f6e",
   "metadata": {},
   "source": [
    "## Controle de qualidade"
   ]
  },
  {
   "cell_type": "markdown",
   "id": "cd6144a8",
   "metadata": {},
   "source": [
    "Uma companhia multinacional tem três fábricas que produzem o mesmo tipo de produto. A fábrica I é responsável por 30% do total produzido, a fábrica II produz 45% do total, e o restante vem da fábrica III. Cada uma das fábricas, no entanto, produz uma proporção de produtos que não atendem aos padrões estabelecidos pelas normas internacionais. Tais produtos são considerados \"defeituosos\" e correspondem a 1%, 2% e 1,5%, respectivamente, dos totais produzidos por fábrica.\n",
    "\n",
    "No centro de distribuição, é feito o controle de qualidade da produção combinada das fábricas.\n",
    "\n",
    "1. Qual é a probabilidade de encontrar um produto defeituoso durante a inspeção de qualidade?\n",
    "2. Se durante a inspeção encontrarmos um produto defeituoso, qual é a probabilidade de que ele tenha sido produzino na Fábrica II?"
   ]
  },
  {
   "cell_type": "code",
   "execution_count": 8,
   "id": "55209335",
   "metadata": {},
   "outputs": [
    {
     "name": "stdout",
     "output_type": "stream",
     "text": [
      "A probabilidade de encontrar um produto defeituoso durante a inspeção de qualidade é de 1.57%\n"
     ]
    }
   ],
   "source": [
    "#Questão 1:\n",
    "#Qual é a probabilidade de encontrar um produto defeituoso durante a inspeção de qualidade?\n",
    "\n",
    "P_prod_I = 0.30\n",
    "P_prod_II = 0.45\n",
    "P_prod_III = 0.25\n",
    "\n",
    "P_defeituoso_I = 0.01\n",
    "P_defeituoso_II = 0.02\n",
    "P_defeituoso_III = 0.015\n",
    "\n",
    "P_defeituoso = P_prod_I * P_defeituoso_I + P_prod_II * P_defeituoso_II + P_prod_III * P_defeituoso_III\n",
    "print(f'A probabilidade de encontrar um produto defeituoso durante a inspeção de qualidade é de {(P_defeituoso * 100):.2f}%')"
   ]
  },
  {
   "cell_type": "code",
   "execution_count": 9,
   "id": "cb235eb8",
   "metadata": {},
   "outputs": [
    {
     "name": "stdout",
     "output_type": "stream",
     "text": [
      "A probabilidade de encontrarmos um produto defeituoso que tenha sido produzido na Fábrica II durante a inspeção é de 57.14%\n"
     ]
    }
   ],
   "source": [
    "#Questão 2:\n",
    "#Se durante a inspeção encontrarmos um produto defeituoso, qual é a probabilidade de que ele tenha sido produzido na Fábrica II?\n",
    "\n",
    "P_prod_II_defeituoso = (P_defeituoso_II * P_prod_II) / P_defeituoso\n",
    "\n",
    "print(f'A probabilidade de encontrarmos um produto defeituoso que tenha sido produzido na Fábrica II durante a inspeção é de {(P_prod_II_defeituoso * 100):.2f}%')"
   ]
  }
 ],
 "metadata": {
  "kernelspec": {
   "display_name": "Python 3",
   "language": "python",
   "name": "python3"
  },
  "language_info": {
   "codemirror_mode": {
    "name": "ipython",
    "version": 3
   },
   "file_extension": ".py",
   "mimetype": "text/x-python",
   "name": "python",
   "nbconvert_exporter": "python",
   "pygments_lexer": "ipython3",
   "version": "3.8.10"
  },
  "toc": {
   "base_numbering": 1,
   "nav_menu": {},
   "number_sections": true,
   "sideBar": true,
   "skip_h1_title": false,
   "title_cell": "Table of Contents",
   "title_sidebar": "Contents",
   "toc_cell": false,
   "toc_position": {
    "height": "calc(100% - 180px)",
    "left": "10px",
    "top": "150px",
    "width": "198.188px"
   },
   "toc_section_display": true,
   "toc_window_display": true
  }
 },
 "nbformat": 4,
 "nbformat_minor": 5
}
