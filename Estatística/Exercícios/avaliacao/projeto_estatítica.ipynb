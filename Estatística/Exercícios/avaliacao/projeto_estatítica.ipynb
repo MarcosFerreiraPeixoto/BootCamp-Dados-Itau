{
 "cells": [
  {
   "cell_type": "markdown",
   "id": "1b321405",
   "metadata": {},
   "source": [
    "# Introdução ao projeto"
   ]
  },
  {
   "cell_type": "markdown",
   "id": "a8d5bdb8",
   "metadata": {},
   "source": [
    "Você acabou de ser contratado para trabalhar no IBGE e analisar os dados do PNAD - 2015. Desenvolva o projeto seguindo as instruções.\n",
    "\n",
    "**Leia atentamente as notas abaixo e NÃO ENTRE EM PÂNICO!**\n",
    "\n",
    "1. O Prazo de entrega do projeto é até **03/02/2022 as 09:30**.\n",
    "1. Nas questões dissertativas, seja direto.\n",
    "1. O valor total das etapas do projeto é 12 pontos.\n",
    "1. O valor máximo da nota será 10.\n",
    "1. Questões em branco terão o valor descontado.\n",
    "1. Questões erradas **não** serão descontadas.\n",
    "1. Consulta ao material e notas de aula permitida. \n",
    "1. Podem ser usados materias suplementares que vocês encontraram na internet **ao longo do curso**.\n",
    "1. Sem contato com os colegas. As dúvidas deverão ser enviadas aos professores. \n",
    "1. **Dúvidas** sobre `python` e `pandas` devem ser trazidas o **mais rápido possível**.\n",
    "1. No caso de resoluções ou desenhos manuais, cole uma cópia da resolução numa célula markdown.\n",
    "1. Alguns colegas farão o projeto numa data posterior por questões de saúde. Por favor não comentem em público sobre as questões até que todos tenham entregue o arquivo final."
   ]
  },
  {
   "cell_type": "code",
   "execution_count": 17,
   "id": "b256dc7d",
   "metadata": {},
   "outputs": [],
   "source": [
    "import pandas as pd\n",
    "import numpy as np\n",
    "import matplotlib as plt\n",
    "import seaborn as sns\n",
    "import random\n",
    "from random import sample"
   ]
  },
  {
   "cell_type": "markdown",
   "id": "e32d3834",
   "metadata": {},
   "source": [
    "## Pesquisa Nacional por Amostra de Domicílios - 2015\n",
    "\n",
    "A <b>Pesquisa Nacional por Amostra de Domicílios - PNAD</b> investiga anualmente, de forma permanente, características gerais da população, de educação, trabalho, rendimento e habitação e outras, com periodicidade variável, de acordo com as necessidades de informação para o país, como as características sobre migração, fecundidade, nupcialidade, saúde, segurança alimentar, entre outros temas. O levantamento dessas estatísticas constitui, ao longo dos 49 anos de realização da pesquisa, um importante instrumento para formulação, validação e avaliação de políticas orientadas para o desenvolvimento socioeconômico e a melhoria das condições de vida no Brasil.\n",
    "\n",
    "## Variáveis utilizadas\n",
    "\n",
    "### Renda\n",
    "\n",
    "Rendimento mensal do trabalho principal para pessoas de 10 anos ou mais de idade.\n",
    "\n",
    "### Idade\n",
    "\n",
    "Idade do morador na data de referência em anos.\n",
    "\n",
    "### Altura (elaboração própria)\n",
    "\n",
    "Altura do morador em metros.\n",
    "\n",
    "### UF\n",
    "\n",
    "|Código|Descrição|\n",
    "|---|---|\n",
    "|11|Rondônia|\n",
    "|12|Acre|\n",
    "|13|Amazonas|\n",
    "|14|Roraima|\n",
    "|15|Pará|\n",
    "|16|Amapá|\n",
    "|17|Tocantins|\n",
    "|21|Maranhão|\n",
    "|22|Piauí|\n",
    "|23|Ceará|\n",
    "|24|Rio Grande do Norte|\n",
    "|25|Paraíba|\n",
    "|26|Pernambuco|\n",
    "|27|Alagoas|\n",
    "|28|Sergipe|\n",
    "|29|Bahia|\n",
    "|31|Minas Gerais|\n",
    "|32|Espírito Santo|\n",
    "|33|Rio de Janeiro|\n",
    "|35|São Paulo|\n",
    "|41|Paraná|\n",
    "|42|Santa Catarina|\n",
    "|43|Rio Grande do Sul|\n",
    "|50|Mato Grosso do Sul|\n",
    "|51|Mato Grosso|\n",
    "|52|Goiás|\n",
    "|53|Distrito Federal|\n",
    "\n",
    "### Sexo\n",
    "\n",
    "|Código|Descrição|\n",
    "|---|---|\n",
    "|0|Masculino|\n",
    "|1|Feminino|\n",
    "\n",
    "### Anos de Estudo\n",
    "\n",
    "|Código|Descrição|\n",
    "|---|---|\n",
    "|1|Sem instrução e menos de 1 ano|\n",
    "|2|1 ano|\n",
    "|3|2 anos|\n",
    "|4|3 anos|\n",
    "|5|4 anos|\n",
    "|6|5 anos|\n",
    "|7|6 anos|\n",
    "|8|7 anos|\n",
    "|9|8 anos|\n",
    "|10|9 anos|\n",
    "|11|10 anos|\n",
    "|12|11 anos|\n",
    "|13|12 anos|\n",
    "|14|13 anos|\n",
    "|15|14 anos|\n",
    "|16|15 anos ou mais|\n",
    "|17|Não determinados| \n",
    "||Não aplicável|\n",
    "\n",
    "### Cor\n",
    "\n",
    "|Código|Descrição|\n",
    "|---|---|\n",
    "|0|Indígena|\n",
    "|2|Branca|\n",
    "|4|Preta|\n",
    "|6|Amarela|\n",
    "|8|Parda|\n",
    "|9|Sem declaração|\n",
    "\n",
    "### Observações\n",
    "\n",
    "Os seguintes tratamentos foram realizados nos dados originais:\n",
    "1. Foram eliminados os registros onde a <b>Renda</b> era inválida (999 999 999 999);\n",
    "2. Foram eliminados os registros onde a <b>Renda</b> era missing;\n",
    "3. Foram considerados somente os registros das <b>Pessoas de Referência</b> de cada domicílio (responsável pelo domicílio)."
   ]
  },
  {
   "cell_type": "markdown",
   "id": "d7366220",
   "metadata": {},
   "source": [
    "## Dados\n",
    "\n",
    "Carrega a base de dados e mostre as 5 primeiras linhas."
   ]
  },
  {
   "cell_type": "code",
   "execution_count": 18,
   "id": "099a8664",
   "metadata": {
    "ExecuteTime": {
     "end_time": "2022-01-31T22:37:36.702095Z",
     "start_time": "2022-01-31T22:37:36.584175Z"
    }
   },
   "outputs": [
    {
     "data": {
      "text/html": [
       "<div>\n",
       "<style scoped>\n",
       "    .dataframe tbody tr th:only-of-type {\n",
       "        vertical-align: middle;\n",
       "    }\n",
       "\n",
       "    .dataframe tbody tr th {\n",
       "        vertical-align: top;\n",
       "    }\n",
       "\n",
       "    .dataframe thead th {\n",
       "        text-align: right;\n",
       "    }\n",
       "</style>\n",
       "<table border=\"1\" class=\"dataframe\">\n",
       "  <thead>\n",
       "    <tr style=\"text-align: right;\">\n",
       "      <th></th>\n",
       "      <th>UF</th>\n",
       "      <th>Sexo</th>\n",
       "      <th>Idade</th>\n",
       "      <th>Cor</th>\n",
       "      <th>Anos de Estudo</th>\n",
       "      <th>Renda</th>\n",
       "      <th>Altura</th>\n",
       "    </tr>\n",
       "  </thead>\n",
       "  <tbody>\n",
       "    <tr>\n",
       "      <th>0</th>\n",
       "      <td>11</td>\n",
       "      <td>0</td>\n",
       "      <td>23</td>\n",
       "      <td>8</td>\n",
       "      <td>12</td>\n",
       "      <td>800</td>\n",
       "      <td>1.603808</td>\n",
       "    </tr>\n",
       "    <tr>\n",
       "      <th>1</th>\n",
       "      <td>11</td>\n",
       "      <td>1</td>\n",
       "      <td>23</td>\n",
       "      <td>2</td>\n",
       "      <td>12</td>\n",
       "      <td>1150</td>\n",
       "      <td>1.739790</td>\n",
       "    </tr>\n",
       "    <tr>\n",
       "      <th>2</th>\n",
       "      <td>11</td>\n",
       "      <td>1</td>\n",
       "      <td>35</td>\n",
       "      <td>8</td>\n",
       "      <td>15</td>\n",
       "      <td>880</td>\n",
       "      <td>1.760444</td>\n",
       "    </tr>\n",
       "    <tr>\n",
       "      <th>3</th>\n",
       "      <td>11</td>\n",
       "      <td>0</td>\n",
       "      <td>46</td>\n",
       "      <td>2</td>\n",
       "      <td>6</td>\n",
       "      <td>3500</td>\n",
       "      <td>1.783158</td>\n",
       "    </tr>\n",
       "    <tr>\n",
       "      <th>4</th>\n",
       "      <td>11</td>\n",
       "      <td>1</td>\n",
       "      <td>47</td>\n",
       "      <td>8</td>\n",
       "      <td>9</td>\n",
       "      <td>150</td>\n",
       "      <td>1.690631</td>\n",
       "    </tr>\n",
       "    <tr>\n",
       "      <th>...</th>\n",
       "      <td>...</td>\n",
       "      <td>...</td>\n",
       "      <td>...</td>\n",
       "      <td>...</td>\n",
       "      <td>...</td>\n",
       "      <td>...</td>\n",
       "      <td>...</td>\n",
       "    </tr>\n",
       "    <tr>\n",
       "      <th>76835</th>\n",
       "      <td>53</td>\n",
       "      <td>1</td>\n",
       "      <td>46</td>\n",
       "      <td>2</td>\n",
       "      <td>11</td>\n",
       "      <td>812</td>\n",
       "      <td>1.687030</td>\n",
       "    </tr>\n",
       "    <tr>\n",
       "      <th>76836</th>\n",
       "      <td>53</td>\n",
       "      <td>0</td>\n",
       "      <td>30</td>\n",
       "      <td>4</td>\n",
       "      <td>7</td>\n",
       "      <td>1500</td>\n",
       "      <td>1.792934</td>\n",
       "    </tr>\n",
       "    <tr>\n",
       "      <th>76837</th>\n",
       "      <td>53</td>\n",
       "      <td>0</td>\n",
       "      <td>32</td>\n",
       "      <td>8</td>\n",
       "      <td>12</td>\n",
       "      <td>1300</td>\n",
       "      <td>1.830587</td>\n",
       "    </tr>\n",
       "    <tr>\n",
       "      <th>76838</th>\n",
       "      <td>53</td>\n",
       "      <td>0</td>\n",
       "      <td>57</td>\n",
       "      <td>8</td>\n",
       "      <td>4</td>\n",
       "      <td>1500</td>\n",
       "      <td>1.726344</td>\n",
       "    </tr>\n",
       "    <tr>\n",
       "      <th>76839</th>\n",
       "      <td>53</td>\n",
       "      <td>0</td>\n",
       "      <td>38</td>\n",
       "      <td>8</td>\n",
       "      <td>4</td>\n",
       "      <td>900</td>\n",
       "      <td>1.658305</td>\n",
       "    </tr>\n",
       "  </tbody>\n",
       "</table>\n",
       "<p>76840 rows × 7 columns</p>\n",
       "</div>"
      ],
      "text/plain": [
       "       UF  Sexo  Idade  Cor  Anos de Estudo  Renda    Altura\n",
       "0      11     0     23    8              12    800  1.603808\n",
       "1      11     1     23    2              12   1150  1.739790\n",
       "2      11     1     35    8              15    880  1.760444\n",
       "3      11     0     46    2               6   3500  1.783158\n",
       "4      11     1     47    8               9    150  1.690631\n",
       "...    ..   ...    ...  ...             ...    ...       ...\n",
       "76835  53     1     46    2              11    812  1.687030\n",
       "76836  53     0     30    4               7   1500  1.792934\n",
       "76837  53     0     32    8              12   1300  1.830587\n",
       "76838  53     0     57    8               4   1500  1.726344\n",
       "76839  53     0     38    8               4    900  1.658305\n",
       "\n",
       "[76840 rows x 7 columns]"
      ]
     },
     "execution_count": 18,
     "metadata": {},
     "output_type": "execute_result"
    }
   ],
   "source": [
    "df = pd.read_csv('pnad_2015.csv')\n",
    "df"
   ]
  },
  {
   "cell_type": "markdown",
   "id": "d2c2870f",
   "metadata": {},
   "source": [
    "# Estudar o acesso à educação e o  impacto dos estudos na renda da população  "
   ]
  },
  {
   "cell_type": "markdown",
   "id": "3dd4f1ce",
   "metadata": {},
   "source": [
    "A tabela do PNAD 2015 traz, entre outras informações, o número de anos que a pessoa de referência do domicilio estudou, bem como a cor e a renda autodeclaradas."
   ]
  },
  {
   "cell_type": "markdown",
   "id": "58d02157",
   "metadata": {},
   "source": [
    "##  (0,25)\n",
    "\n",
    "Calcule a média, moda e mediana para a variável `Renda`. Faz sentido calcular todos esses valores para essa variável? Você faria algo diferente? Comente suas respotas e intereprete os resultados obtidos."
   ]
  },
  {
   "cell_type": "code",
   "execution_count": 19,
   "id": "ec40ce23",
   "metadata": {},
   "outputs": [],
   "source": [
    "notas = []\n",
    "notas.append(0.25)"
   ]
  },
  {
   "cell_type": "code",
   "execution_count": 20,
   "id": "0f3020f3",
   "metadata": {},
   "outputs": [
    {
     "name": "stdout",
     "output_type": "stream",
     "text": [
      "A media da renda é de 2000.38 reais.\n",
      "A mediana da renda é de 1200.00 reais.\n",
      "A moda da renda é de 788.00 reais.\n",
      "\n",
      "O cálculo dessas três medidas de tendencia central para uma variável quantitativa contínua, como é o caso da renda, \n",
      "faz muito sentido, pois cada uma dessas medidas nos da uma informação um pouco diferente sobre esse dataset. A média\n",
      "é uma medida de centralidade muito importante, porém ela é sensível a outilers; a mediana, por sua vez, é mais \n",
      "robusta a outliers e pode ser uma alternativa melhor para variáveis que apresentem muitos valores extremos, como parece\n",
      "ser o caso da nossa variável renda; já a moda vai nos informar qual é o valor frequente nesse dataset, no caso específico\n",
      "que estamos estudando, o valor da moda é 788 reais e provavelmente se refere ao valor do salário mínimo na época.\n",
      "\n",
      "O único que eu faria diferente neste caso seria realizar o cálculo de alguma medida de dispersão, como o desvio padrão, \n",
      "para pode entender melhor como esse dataset está organizado. Seria interessante também ter uma representação gráfica desses\n",
      "dados como, por exemplo, um histograma.\n",
      "\n"
     ]
    }
   ],
   "source": [
    "media_renda = df['Renda'].mean()\n",
    "mediana_renda = df['Renda'].median()\n",
    "moda_renda = df['Renda'].mode()\n",
    "\n",
    "\n",
    "print(f'A media da renda é de {media_renda:.2f} reais.')\n",
    "print(f'A mediana da renda é de {mediana_renda:.2f} reais.')\n",
    "print(f'A moda da renda é de {moda_renda[0]:.2f} reais.')\n",
    "print('''\n",
    "O cálculo dessas três medidas de tendencia central para uma variável quantitativa contínua, como é o caso da renda, \n",
    "faz muito sentido, pois cada uma dessas medidas nos da uma informação um pouco diferente sobre esse dataset. A média\n",
    "é uma medida de centralidade muito importante, porém ela é sensível a outilers; a mediana, por sua vez, é mais \n",
    "robusta a outliers e pode ser uma alternativa melhor para variáveis que apresentem muitos valores extremos, como parece\n",
    "ser o caso da nossa variável renda; já a moda vai nos informar qual é o valor frequente nesse dataset, no caso específico\n",
    "que estamos estudando, o valor da moda é 788 reais e provavelmente se refere ao valor do salário mínimo na época.\n",
    "\n",
    "O único que eu faria diferente neste caso seria realizar o cálculo de alguma medida de dispersão, como o desvio padrão, \n",
    "para pode entender melhor como esse dataset está organizado. Seria interessante também ter uma representação gráfica desses\n",
    "dados como, por exemplo, um histograma.\n",
    "''')"
   ]
  },
  {
   "cell_type": "markdown",
   "id": "1fb9b601",
   "metadata": {},
   "source": [
    "##  (0,25)\n",
    "\n",
    "Calcule as medidas de tendência central para a variável `Cor`. Faz sentido calcular todas elas para essa variável? Você faria algo diferente? Comente suas respotas e intereprete os resultados obtidos."
   ]
  },
  {
   "cell_type": "code",
   "execution_count": 21,
   "id": "d89c7cad",
   "metadata": {},
   "outputs": [],
   "source": [
    "notas.append(0.25)"
   ]
  },
  {
   "cell_type": "code",
   "execution_count": 22,
   "id": "8a3719f9",
   "metadata": {},
   "outputs": [
    {
     "name": "stdout",
     "output_type": "stream",
     "text": [
      "A media variável cor é de 5.03.\n",
      "A mediana variável cor é de 4.00.\n",
      "A moda variável cor é de 8.00.\n",
      "\n",
      "Como a variável cor é uma variável discreta o cálculo da maior parte dessas medidas de tendência central não faz sentido \n",
      "algum. Só podemos tirar algum sentido da moda, que nesse caso vai informar a cor mais frequente no dataset, que é a cor preta.\n",
      "\n",
      "No caso de variáveis qualitativas eu não calcularia nenhuma das medidas de tendencia central, ao invés disso eu utilizaria \n",
      "algum instrumentro gráfico para vizualizar essa variável, nesse caso específico eu utilizaria um gráfico de barras.\n",
      "\n"
     ]
    }
   ],
   "source": [
    "media_cor = df['Cor'].mean()\n",
    "mediana_cor = df['Cor'].median()\n",
    "moda_cor = df['Cor'].mode()\n",
    "\n",
    "\n",
    "print(f'A media variável cor é de {media_cor:.2f}.')\n",
    "print(f'A mediana variável cor é de {mediana_cor:.2f}.')\n",
    "print(f'A moda variável cor é de {moda_cor[0]:.2f}.')\n",
    "\n",
    "print('''\n",
    "Como a variável cor é uma variável discreta o cálculo da maior parte dessas medidas de tendência central não faz sentido \n",
    "algum. Só podemos tirar algum sentido da moda, que nesse caso vai informar a cor mais frequente no dataset, que é a cor preta.\n",
    "\n",
    "No caso de variáveis qualitativas eu não calcularia nenhuma das medidas de tendencia central, ao invés disso eu utilizaria \n",
    "algum instrumentro gráfico para vizualizar essa variável, nesse caso específico eu utilizaria um gráfico de barras.\n",
    "''')"
   ]
  },
  {
   "cell_type": "markdown",
   "id": "acdaafbb",
   "metadata": {},
   "source": [
    "## (0,25) \n",
    "\n",
    "Como você classificaria a variável `Anos de Estudo`? Os dados podem ser usados como estão?\n",
    "\n",
    "Quando falamos de escolaridade, é comum nos referirmos a ciclos de ensino. Usando a variável `Anos de Estudo`, crie uma coluna `escolaridade` no dataframe com os seguintes valores:\n",
    "\n",
    "* `0 - Sem instrução` para aqueles que estudaram menos de um ano.\n",
    "* `1 - Fund. I incompleto` para quem não completou os 4 anos do ciclo básico.\n",
    "* `2 - Fund. I completo` para quem concluiu os 4 anos do ciclo básico.\n",
    "* `3 - Fund. II incompleto` para quem completou os 4 anos do primeiro ciclo básico e iniciou, mas não concluiu o segundo (não terminou os 8 anos).\n",
    "* `4 - Fund. II completo` para quem concluiu os 4 anos do segundo ciclo básico.\n",
    "* `5 - Médio incompleto` para quem completou os 8 anos do ciclo básico e iniciou, mas não concluiu o ensino médio.\n",
    "* `6 - Médio completo` para quem completou os 4 anos do primeiro  ciclo básico mas não o segundo (não terminou os 8 anos).\n",
    "* `7 - Superior incompleto` para quem concluiu o ensino médio e começou, mas não terminou o ensino superior.\n",
    "* `8 - Superior completo` para quem completou o ensino superior e também para fez pós-graduação.\n",
    "\n",
    "Não inclua na análise pessoas que não souberam definir o tempo de estudo. Por que podemos descartar esses dados sem prejuízos à análise?"
   ]
  },
  {
   "cell_type": "markdown",
   "id": "b6d72314",
   "metadata": {},
   "source": [
    "<details>\n",
    "    <summary>🙆‍♂️ Sugestão de código (clique aqui) 🙋‍</summary>\n",
    "\n",
    "        df = df[df['Anos de Estudo']!=17].copy()\n",
    "\n",
    "        df['escolaridade'] = 'outros'\n",
    "\n",
    "        df.loc[(df['Anos de Estudo']==1), 'escolaridade'] = '0 - Sem instrução'\n",
    "        df.loc[(df['Anos de Estudo']>1) & (df['Anos de Estudo']<5), 'escolaridade'] = '1 - Fund. I incompleto'\n",
    "        df.loc[(df['Anos de Estudo']==5), 'escolaridade' ] = '2 - Fund. I completo'\n",
    "        df.loc[(df['Anos de Estudo']>5) & (df['Anos de Estudo']<9), 'escolaridade'] = '3 - Fund. II incompleto'\n",
    "        df.loc[(df['Anos de Estudo']==9), 'escolaridade'] = '4 - Fund. II completo'\n",
    "        df.loc[(df['Anos de Estudo']>9) & (df['Anos de Estudo']<12), 'escolaridade'] = '5 - Médio incompleto'\n",
    "        df.loc[(df['Anos de Estudo']==12), 'escolaridade'] = '6 - Médio completo'\n",
    "        df.loc[(df['Anos de Estudo']>12) & (df['Anos de Estudo']<16), 'escolaridade'] = '7 - Superior incompleto'\n",
    "        df.loc[(df['Anos de Estudo']==16) , 'escolaridade'] = '8 - Superior completo'\n",
    "\n",
    "        niveis = list(df['escolaridade'].sort_values().unique())\n",
    "        cores = df['Cor'].sort_values().unique().tolist()\n",
    "\n",
    "</details>    "
   ]
  },
  {
   "cell_type": "code",
   "execution_count": 23,
   "id": "b6f84e34",
   "metadata": {},
   "outputs": [],
   "source": [
    "notas.append(0.25)"
   ]
  },
  {
   "cell_type": "code",
   "execution_count": 24,
   "id": "bada7b38",
   "metadata": {},
   "outputs": [
    {
     "name": "stdout",
     "output_type": "stream",
     "text": [
      "A variável Anos de Estudo é uma variável qualitativa ordinal. Seria possível sim utilizar os dados da forma em que\n",
      "eles se encontram agora, porém seria uma análise um pouco diferente da sugerida, que agrupa alguns desses dados.\n"
     ]
    }
   ],
   "source": [
    "print('''A variável Anos de Estudo é uma variável qualitativa ordinal. Seria possível sim utilizar os dados da forma em que\n",
    "eles se encontram agora, porém seria uma análise um pouco diferente da sugerida, que agrupa alguns desses dados.''')"
   ]
  },
  {
   "cell_type": "code",
   "execution_count": 25,
   "id": "076e0cc4",
   "metadata": {},
   "outputs": [
    {
     "name": "stdout",
     "output_type": "stream",
     "text": [
      "Como temos apenas 191 pessoas que não souberam definir o tempo de estudo, e isso representa \n",
      "apenas 0.25% do dataset, essas entradas podem ser removidas sem muitos prejuízos\n"
     ]
    }
   ],
   "source": [
    "qnt_linhas = df.count()[0]\n",
    "qnt_escolaridade_nao_definida = df[df['Anos de Estudo'] == 17].count()[0]\n",
    "\n",
    "print(f'''Como temos apenas {qnt_escolaridade_nao_definida} pessoas que não souberam definir o tempo de estudo, e isso representa \n",
    "apenas {(qnt_escolaridade_nao_definida/qnt_linhas)*100:.2f}% do dataset, essas entradas podem ser removidas sem muitos prejuízos''')"
   ]
  },
  {
   "cell_type": "code",
   "execution_count": 26,
   "id": "33c138f7",
   "metadata": {},
   "outputs": [],
   "source": [
    "df = df[df['Anos de Estudo']!=17].copy()\n",
    "\n",
    "df['Escolaridade'] = 'Outros'\n",
    "\n",
    "df.loc[(df['Anos de Estudo']==1), 'Escolaridade'] = '0 - Sem instrução'\n",
    "df.loc[(df['Anos de Estudo']>1) & (df['Anos de Estudo']<5), 'Escolaridade'] = '1 - Fund. I incompleto'\n",
    "df.loc[(df['Anos de Estudo']==5), 'Escolaridade' ] = '2 - Fund. I completo'\n",
    "df.loc[(df['Anos de Estudo']>5) & (df['Anos de Estudo']<9), 'Escolaridade'] = '3 - Fund. II incompleto'\n",
    "df.loc[(df['Anos de Estudo']==9), 'Escolaridade'] = '4 - Fund. II completo'\n",
    "df.loc[(df['Anos de Estudo']>9) & (df['Anos de Estudo']<12), 'Escolaridade'] = '5 - Médio incompleto'\n",
    "df.loc[(df['Anos de Estudo']==12), 'Escolaridade'] = '6 - Médio completo'\n",
    "df.loc[(df['Anos de Estudo']>12) & (df['Anos de Estudo']<16), 'Escolaridade'] = '7 - Superior incompleto'\n",
    "df.loc[(df['Anos de Estudo']==16) , 'Escolaridade'] = '8 - Superior completo'"
   ]
  },
  {
   "cell_type": "markdown",
   "id": "22fab0e2",
   "metadata": {},
   "source": [
    "## (0,25) \n",
    "Crie uma tabela de frequências para a variável `escolaridade` (absoluta, relativa e o cumulativo para as duas anteriores).\n",
    "\n",
    "As linhas devem ser ordenadas do menor para maior nível de escolaridade."
   ]
  },
  {
   "cell_type": "code",
   "execution_count": 27,
   "id": "910359ed",
   "metadata": {},
   "outputs": [],
   "source": [
    "notas.append(0.25)"
   ]
  },
  {
   "cell_type": "code",
   "execution_count": 28,
   "id": "50527f97",
   "metadata": {},
   "outputs": [],
   "source": [
    "tabela_freq = df.groupby(['Escolaridade'])[['Escolaridade']].count()\n",
    "tabela_freq.columns = ['Freq. Absoluta']\n",
    "tabela_freq['Freq. Relativa'] = round((tabela_freq['Freq. Absoluta'] / df['Escolaridade'].count())*100,2)\n",
    "tabela_freq.sort_values('Escolaridade')\n",
    "tabela_freq['Freq. Cumulativa'] = tabela_freq['Freq. Relativa'].cumsum()\n",
    "\n"
   ]
  },
  {
   "cell_type": "code",
   "execution_count": 29,
   "id": "b96147b7",
   "metadata": {},
   "outputs": [
    {
     "data": {
      "text/html": [
       "<div>\n",
       "<style scoped>\n",
       "    .dataframe tbody tr th:only-of-type {\n",
       "        vertical-align: middle;\n",
       "    }\n",
       "\n",
       "    .dataframe tbody tr th {\n",
       "        vertical-align: top;\n",
       "    }\n",
       "\n",
       "    .dataframe thead th {\n",
       "        text-align: right;\n",
       "    }\n",
       "</style>\n",
       "<table border=\"1\" class=\"dataframe\">\n",
       "  <thead>\n",
       "    <tr style=\"text-align: right;\">\n",
       "      <th></th>\n",
       "      <th>Freq. Absoluta</th>\n",
       "      <th>Freq. Relativa</th>\n",
       "      <th>Freq. Cumulativa</th>\n",
       "    </tr>\n",
       "    <tr>\n",
       "      <th>Escolaridade</th>\n",
       "      <th></th>\n",
       "      <th></th>\n",
       "      <th></th>\n",
       "    </tr>\n",
       "  </thead>\n",
       "  <tbody>\n",
       "    <tr>\n",
       "      <th>0 - Sem instrução</th>\n",
       "      <td>5849</td>\n",
       "      <td>7.63</td>\n",
       "      <td>7.63</td>\n",
       "    </tr>\n",
       "    <tr>\n",
       "      <th>1 - Fund. I incompleto</th>\n",
       "      <td>6380</td>\n",
       "      <td>8.32</td>\n",
       "      <td>15.95</td>\n",
       "    </tr>\n",
       "    <tr>\n",
       "      <th>2 - Fund. I completo</th>\n",
       "      <td>6729</td>\n",
       "      <td>8.78</td>\n",
       "      <td>24.73</td>\n",
       "    </tr>\n",
       "    <tr>\n",
       "      <th>3 - Fund. II incompleto</th>\n",
       "      <td>9633</td>\n",
       "      <td>12.57</td>\n",
       "      <td>37.30</td>\n",
       "    </tr>\n",
       "    <tr>\n",
       "      <th>4 - Fund. II completo</th>\n",
       "      <td>7980</td>\n",
       "      <td>10.41</td>\n",
       "      <td>47.71</td>\n",
       "    </tr>\n",
       "    <tr>\n",
       "      <th>5 - Médio incompleto</th>\n",
       "      <td>3958</td>\n",
       "      <td>5.16</td>\n",
       "      <td>52.87</td>\n",
       "    </tr>\n",
       "    <tr>\n",
       "      <th>6 - Médio completo</th>\n",
       "      <td>20848</td>\n",
       "      <td>27.20</td>\n",
       "      <td>80.07</td>\n",
       "    </tr>\n",
       "    <tr>\n",
       "      <th>7 - Superior incompleto</th>\n",
       "      <td>4477</td>\n",
       "      <td>5.84</td>\n",
       "      <td>85.91</td>\n",
       "    </tr>\n",
       "    <tr>\n",
       "      <th>8 - Superior completo</th>\n",
       "      <td>10795</td>\n",
       "      <td>14.08</td>\n",
       "      <td>99.99</td>\n",
       "    </tr>\n",
       "  </tbody>\n",
       "</table>\n",
       "</div>"
      ],
      "text/plain": [
       "                         Freq. Absoluta  Freq. Relativa  Freq. Cumulativa\n",
       "Escolaridade                                                             \n",
       "0 - Sem instrução                  5849            7.63              7.63\n",
       "1 - Fund. I incompleto             6380            8.32             15.95\n",
       "2 - Fund. I completo               6729            8.78             24.73\n",
       "3 - Fund. II incompleto            9633           12.57             37.30\n",
       "4 - Fund. II completo              7980           10.41             47.71\n",
       "5 - Médio incompleto               3958            5.16             52.87\n",
       "6 - Médio completo                20848           27.20             80.07\n",
       "7 - Superior incompleto            4477            5.84             85.91\n",
       "8 - Superior completo             10795           14.08             99.99"
      ]
     },
     "execution_count": 29,
     "metadata": {},
     "output_type": "execute_result"
    }
   ],
   "source": [
    "tabela_freq"
   ]
  },
  {
   "cell_type": "markdown",
   "id": "ce25ed7f",
   "metadata": {},
   "source": [
    "## (0,25)\n",
    "\n",
    "Crie uma tabela de frequências combianando os campos `escolaridade` e `Cor`. A tabela deve ser normailizada e mostrar somatórios de linhas e colunas."
   ]
  },
  {
   "cell_type": "code",
   "execution_count": 30,
   "id": "35e364e9",
   "metadata": {},
   "outputs": [],
   "source": [
    "notas.append(0.25)"
   ]
  },
  {
   "cell_type": "code",
   "execution_count": 31,
   "id": "d652b155",
   "metadata": {},
   "outputs": [
    {
     "data": {
      "text/html": [
       "<div>\n",
       "<style scoped>\n",
       "    .dataframe tbody tr th:only-of-type {\n",
       "        vertical-align: middle;\n",
       "    }\n",
       "\n",
       "    .dataframe tbody tr th {\n",
       "        vertical-align: top;\n",
       "    }\n",
       "\n",
       "    .dataframe thead th {\n",
       "        text-align: right;\n",
       "    }\n",
       "</style>\n",
       "<table border=\"1\" class=\"dataframe\">\n",
       "  <thead>\n",
       "    <tr style=\"text-align: right;\">\n",
       "      <th>Cor</th>\n",
       "      <th>0</th>\n",
       "      <th>2</th>\n",
       "      <th>4</th>\n",
       "      <th>6</th>\n",
       "      <th>8</th>\n",
       "      <th>Total</th>\n",
       "    </tr>\n",
       "    <tr>\n",
       "      <th>Escolaridade</th>\n",
       "      <th></th>\n",
       "      <th></th>\n",
       "      <th></th>\n",
       "      <th></th>\n",
       "      <th></th>\n",
       "      <th></th>\n",
       "    </tr>\n",
       "  </thead>\n",
       "  <tbody>\n",
       "    <tr>\n",
       "      <th>0 - Sem instrução</th>\n",
       "      <td>0.000639</td>\n",
       "      <td>0.018526</td>\n",
       "      <td>0.010450</td>\n",
       "      <td>0.000117</td>\n",
       "      <td>0.046576</td>\n",
       "      <td>0.076309</td>\n",
       "    </tr>\n",
       "    <tr>\n",
       "      <th>1 - Fund. I incompleto</th>\n",
       "      <td>0.000509</td>\n",
       "      <td>0.024919</td>\n",
       "      <td>0.010385</td>\n",
       "      <td>0.000078</td>\n",
       "      <td>0.047346</td>\n",
       "      <td>0.083237</td>\n",
       "    </tr>\n",
       "    <tr>\n",
       "      <th>2 - Fund. I completo</th>\n",
       "      <td>0.000287</td>\n",
       "      <td>0.035004</td>\n",
       "      <td>0.009054</td>\n",
       "      <td>0.000274</td>\n",
       "      <td>0.043171</td>\n",
       "      <td>0.087790</td>\n",
       "    </tr>\n",
       "    <tr>\n",
       "      <th>3 - Fund. II incompleto</th>\n",
       "      <td>0.000665</td>\n",
       "      <td>0.044358</td>\n",
       "      <td>0.014782</td>\n",
       "      <td>0.000183</td>\n",
       "      <td>0.065689</td>\n",
       "      <td>0.125677</td>\n",
       "    </tr>\n",
       "    <tr>\n",
       "      <th>4 - Fund. II completo</th>\n",
       "      <td>0.000587</td>\n",
       "      <td>0.040470</td>\n",
       "      <td>0.011742</td>\n",
       "      <td>0.000339</td>\n",
       "      <td>0.050973</td>\n",
       "      <td>0.104111</td>\n",
       "    </tr>\n",
       "    <tr>\n",
       "      <th>5 - Médio incompleto</th>\n",
       "      <td>0.000365</td>\n",
       "      <td>0.017443</td>\n",
       "      <td>0.006693</td>\n",
       "      <td>0.000130</td>\n",
       "      <td>0.027006</td>\n",
       "      <td>0.051638</td>\n",
       "    </tr>\n",
       "    <tr>\n",
       "      <th>6 - Médio completo</th>\n",
       "      <td>0.001070</td>\n",
       "      <td>0.115305</td>\n",
       "      <td>0.031612</td>\n",
       "      <td>0.001148</td>\n",
       "      <td>0.122859</td>\n",
       "      <td>0.271993</td>\n",
       "    </tr>\n",
       "    <tr>\n",
       "      <th>7 - Superior incompleto</th>\n",
       "      <td>0.000235</td>\n",
       "      <td>0.030072</td>\n",
       "      <td>0.005466</td>\n",
       "      <td>0.000339</td>\n",
       "      <td>0.022296</td>\n",
       "      <td>0.058409</td>\n",
       "    </tr>\n",
       "    <tr>\n",
       "      <th>8 - Superior completo</th>\n",
       "      <td>0.000261</td>\n",
       "      <td>0.088168</td>\n",
       "      <td>0.009015</td>\n",
       "      <td>0.001983</td>\n",
       "      <td>0.041410</td>\n",
       "      <td>0.140837</td>\n",
       "    </tr>\n",
       "    <tr>\n",
       "      <th>Total</th>\n",
       "      <td>0.004618</td>\n",
       "      <td>0.414265</td>\n",
       "      <td>0.109199</td>\n",
       "      <td>0.004592</td>\n",
       "      <td>0.467325</td>\n",
       "      <td>1.000000</td>\n",
       "    </tr>\n",
       "  </tbody>\n",
       "</table>\n",
       "</div>"
      ],
      "text/plain": [
       "Cor                             0         2         4         6         8  \\\n",
       "Escolaridade                                                                \n",
       "0 - Sem instrução        0.000639  0.018526  0.010450  0.000117  0.046576   \n",
       "1 - Fund. I incompleto   0.000509  0.024919  0.010385  0.000078  0.047346   \n",
       "2 - Fund. I completo     0.000287  0.035004  0.009054  0.000274  0.043171   \n",
       "3 - Fund. II incompleto  0.000665  0.044358  0.014782  0.000183  0.065689   \n",
       "4 - Fund. II completo    0.000587  0.040470  0.011742  0.000339  0.050973   \n",
       "5 - Médio incompleto     0.000365  0.017443  0.006693  0.000130  0.027006   \n",
       "6 - Médio completo       0.001070  0.115305  0.031612  0.001148  0.122859   \n",
       "7 - Superior incompleto  0.000235  0.030072  0.005466  0.000339  0.022296   \n",
       "8 - Superior completo    0.000261  0.088168  0.009015  0.001983  0.041410   \n",
       "Total                    0.004618  0.414265  0.109199  0.004592  0.467325   \n",
       "\n",
       "Cor                         Total  \n",
       "Escolaridade                       \n",
       "0 - Sem instrução        0.076309  \n",
       "1 - Fund. I incompleto   0.083237  \n",
       "2 - Fund. I completo     0.087790  \n",
       "3 - Fund. II incompleto  0.125677  \n",
       "4 - Fund. II completo    0.104111  \n",
       "5 - Médio incompleto     0.051638  \n",
       "6 - Médio completo       0.271993  \n",
       "7 - Superior incompleto  0.058409  \n",
       "8 - Superior completo    0.140837  \n",
       "Total                    1.000000  "
      ]
     },
     "execution_count": 31,
     "metadata": {},
     "output_type": "execute_result"
    }
   ],
   "source": [
    "freq_escolaridade_cor = pd.crosstab(index = df['Escolaridade'],\n",
    "                                    columns = df['Cor'],\n",
    "                                    values = df['Escolaridade'],\n",
    "                                    normalize = True,\n",
    "                                    aggfunc = pd.value_counts)\n",
    "\n",
    "freq_escolaridade_cor['Total'] = freq_escolaridade_cor.sum(axis =1)\n",
    "freq_escolaridade_cor.loc['Total']= freq_escolaridade_cor.sum()\n",
    "freq_escolaridade_cor"
   ]
  },
  {
   "cell_type": "code",
   "execution_count": 32,
   "id": "459cc6da",
   "metadata": {},
   "outputs": [],
   "source": [
    "freq_escolaridade_cor['Total'] = freq_escolaridade_cor.sum()"
   ]
  },
  {
   "cell_type": "markdown",
   "id": "f3285e50",
   "metadata": {},
   "source": [
    "**O PNAD é uma pesquisa por amostragem que, em 2015, entrevistou quase 77 mil familhas. Qual o intervalo de confiança da renda média do brasileiro?**"
   ]
  },
  {
   "cell_type": "markdown",
   "id": "9bfafe32",
   "metadata": {},
   "source": [
    "## (0,25)\n",
    "Considere o nível de significancia 3,5% e calcule passo-a-passo."
   ]
  },
  {
   "cell_type": "code",
   "execution_count": 33,
   "id": "af3f85f1",
   "metadata": {},
   "outputs": [],
   "source": [
    "notas.append(0.25)"
   ]
  },
  {
   "cell_type": "code",
   "execution_count": 34,
   "id": "ef89d381",
   "metadata": {},
   "outputs": [
    {
     "name": "stdout",
     "output_type": "stream",
     "text": [
      "Com uma confiança de 96.50% a média populacional está no intervalo de confiança: 1977.361 <= media_populacional <= 2028.033\n"
     ]
    }
   ],
   "source": [
    "from scipy.stats import norm \n",
    "import numpy as np\n",
    "\n",
    "significancia = 0.035 \n",
    "confianca = 1 - significancia\n",
    "probabilidade = confianca + (significancia)/ 2\n",
    "\n",
    "z = norm.ppf(probabilidade)\n",
    "media_amostral = df['Renda'].mean() \n",
    "desvio_pad = df['Renda'].std() \n",
    "n = np.shape(df)[0]\n",
    "\n",
    "erro = z * (desvio_pad / np.sqrt(n)) \n",
    "print(f'Com uma confiança de {confianca*100:.2f}% a média populacional está no intervalo de confiança: {media_amostral - erro:.3f} <= media_populacional <= {media_amostral + erro:.3f}')"
   ]
  },
  {
   "cell_type": "markdown",
   "id": "551394bb",
   "metadata": {},
   "source": [
    "\n",
    "## (0,10)\n",
    "Considere o nível de significancia 0,02% e calcule como preferir."
   ]
  },
  {
   "cell_type": "code",
   "execution_count": 35,
   "id": "01e96afb",
   "metadata": {},
   "outputs": [],
   "source": [
    "notas.append(0.10)"
   ]
  },
  {
   "cell_type": "code",
   "execution_count": 36,
   "id": "350547e0",
   "metadata": {},
   "outputs": [
    {
     "name": "stdout",
     "output_type": "stream",
     "text": [
      "Com uma confiança de 99.98% a média populacional está no intervalo de confiança: 1958.006 <= media_populacional <= 2047.388\n"
     ]
    }
   ],
   "source": [
    "from scipy.stats import norm \n",
    "import numpy as np\n",
    "\n",
    "significancia = 0.0002 \n",
    "confianca = 1 - significancia\n",
    "probabilidade = confianca + (significancia)/ 2\n",
    "\n",
    "z = norm.ppf(probabilidade)\n",
    "media_amostral = df['Renda'].mean() \n",
    "desvio_pad = df['Renda'].std() \n",
    "n = np.shape(df)[0]\n",
    "\n",
    "erro = z * (desvio_pad / np.sqrt(n)) \n",
    "print(f'Com uma confiança de {confianca*100:.2f}% a média populacional está no intervalo de confiança: {media_amostral - erro:.3f} <= media_populacional <= {media_amostral + erro:.3f}')"
   ]
  },
  {
   "cell_type": "markdown",
   "id": "cff965d1",
   "metadata": {},
   "source": [
    "## (0,25)\n",
    "Por que os intervalos acima são diferentes?\n",
    "\n"
   ]
  },
  {
   "cell_type": "markdown",
   "id": "04e626cf",
   "metadata": {},
   "source": [
    "> "
   ]
  },
  {
   "cell_type": "code",
   "execution_count": 37,
   "id": "0144a425",
   "metadata": {},
   "outputs": [],
   "source": [
    "notas.append(0.12)"
   ]
  },
  {
   "cell_type": "code",
   "execution_count": 38,
   "id": "2a368cca",
   "metadata": {},
   "outputs": [
    {
     "name": "stdout",
     "output_type": "stream",
     "text": [
      "Isso aconteceu por conta dos diferentes níveis de confiança escolhidos.\n"
     ]
    }
   ],
   "source": [
    "print('Isso aconteceu por conta dos diferentes níveis de confiança escolhidos.')"
   ]
  },
  {
   "cell_type": "markdown",
   "id": "831fd5ac",
   "metadata": {},
   "source": [
    "## (0,25)\n",
    "\n",
    "Explique o significado do intervalo de confiança para os níveis calculados."
   ]
  },
  {
   "cell_type": "markdown",
   "id": "32061b74",
   "metadata": {},
   "source": [
    "> "
   ]
  },
  {
   "cell_type": "code",
   "execution_count": 39,
   "id": "ccf88cde",
   "metadata": {},
   "outputs": [],
   "source": [
    "notas.append(0.25)"
   ]
  },
  {
   "cell_type": "code",
   "execution_count": 40,
   "id": "348d63ba",
   "metadata": {},
   "outputs": [
    {
     "name": "stdout",
     "output_type": "stream",
     "text": [
      "Isso aconteceu por conta dos níveis de confiança escolhidos, quanto menor o nível de confiança maior \n",
      "precisa ser o intervalo de confiança para que esse nível de confiança seja respeitado\n"
     ]
    }
   ],
   "source": [
    "print('''Isso aconteceu por conta dos níveis de confiança escolhidos, quanto menor o nível de confiança maior \n",
    "precisa ser o intervalo de confiança para que esse nível de confiança seja respeitado''')"
   ]
  },
  {
   "cell_type": "markdown",
   "id": "e91d603a",
   "metadata": {},
   "source": [
    "## (0,25) \n",
    "A média é a melhor métrica para calcular rendimentos no Brasil? Justifique sua resposta."
   ]
  },
  {
   "cell_type": "markdown",
   "id": "28efa2d9",
   "metadata": {},
   "source": [
    ">"
   ]
  },
  {
   "cell_type": "code",
   "execution_count": 41,
   "id": "eba21deb",
   "metadata": {},
   "outputs": [],
   "source": [
    "notas.append(0.25)"
   ]
  },
  {
   "cell_type": "code",
   "execution_count": 42,
   "id": "2111543a",
   "metadata": {},
   "outputs": [
    {
     "name": "stdout",
     "output_type": "stream",
     "text": [
      "Não, pois a média é muito sensível a outliers e a variável rendimento apresenta muito outliers. O boxplot abaixo nos ajuda a vizualizar esses outliers\n"
     ]
    },
    {
     "data": {
      "text/plain": [
       "<AxesSubplot:xlabel='Renda'>"
      ]
     },
     "execution_count": 42,
     "metadata": {},
     "output_type": "execute_result"
    },
    {
     "data": {
      "image/png": "[encoded data removed]",
      "text/plain": [
       "<Figure size 432x288 with 1 Axes>"
      ]
     },
     "metadata": {
      "needs_background": "light"
     },
     "output_type": "display_data"
    }
   ],
   "source": [
    "print('Não, pois a média é muito sensível a outliers e a variável rendimento apresenta muito outliers. O boxplot abaixo nos ajuda a vizualizar esses outliers')\n",
    "\n",
    "sns.boxplot(data = df, x ='Renda')"
   ]
  },
  {
   "cell_type": "markdown",
   "id": "f08ba2f8",
   "metadata": {},
   "source": [
    "**Após a coleta dos dados, você foi indagado sobre o impacto do tempo de estudo na renda dos brasileiros.**\n",
    "\n",
    "## (0,25)\n",
    "\n",
    "Com base no conjunto de dados, calcule medidas de tendência central, de dispersão e os intervalos quartis da variável `Renda` para cada nível de `escolaridade`."
   ]
  },
  {
   "cell_type": "code",
   "execution_count": 43,
   "id": "437025d0",
   "metadata": {},
   "outputs": [],
   "source": [
    "notas.append(0.25)"
   ]
  },
  {
   "cell_type": "code",
   "execution_count": 44,
   "id": "590e7c4d",
   "metadata": {},
   "outputs": [
    {
     "data": {
      "text/html": [
       "<div>\n",
       "<style scoped>\n",
       "    .dataframe tbody tr th:only-of-type {\n",
       "        vertical-align: middle;\n",
       "    }\n",
       "\n",
       "    .dataframe tbody tr th {\n",
       "        vertical-align: top;\n",
       "    }\n",
       "\n",
       "    .dataframe thead th {\n",
       "        text-align: right;\n",
       "    }\n",
       "</style>\n",
       "<table border=\"1\" class=\"dataframe\">\n",
       "  <thead>\n",
       "    <tr style=\"text-align: right;\">\n",
       "      <th></th>\n",
       "      <th>Média Renda</th>\n",
       "      <th>Mediana Renda</th>\n",
       "      <th>Moda Renda</th>\n",
       "      <th>Desvio Padrão</th>\n",
       "      <th>1° Quartil</th>\n",
       "      <th>2° Quartil</th>\n",
       "      <th>3° Quartil</th>\n",
       "    </tr>\n",
       "    <tr>\n",
       "      <th>Escolaridade</th>\n",
       "      <th></th>\n",
       "      <th></th>\n",
       "      <th></th>\n",
       "      <th></th>\n",
       "      <th></th>\n",
       "      <th></th>\n",
       "      <th></th>\n",
       "    </tr>\n",
       "  </thead>\n",
       "  <tbody>\n",
       "    <tr>\n",
       "      <th>0 - Sem instrução</th>\n",
       "      <td>732.994187</td>\n",
       "      <td>600.0</td>\n",
       "      <td>0</td>\n",
       "      <td>955.274843</td>\n",
       "      <td>180.0</td>\n",
       "      <td>600.0</td>\n",
       "      <td>1000.0</td>\n",
       "    </tr>\n",
       "    <tr>\n",
       "      <th>1 - Fund. I incompleto</th>\n",
       "      <td>897.019279</td>\n",
       "      <td>788.0</td>\n",
       "      <td>788</td>\n",
       "      <td>1588.779043</td>\n",
       "      <td>320.0</td>\n",
       "      <td>788.0</td>\n",
       "      <td>1100.0</td>\n",
       "    </tr>\n",
       "    <tr>\n",
       "      <th>2 - Fund. I completo</th>\n",
       "      <td>1150.439293</td>\n",
       "      <td>900.0</td>\n",
       "      <td>788</td>\n",
       "      <td>1293.144934</td>\n",
       "      <td>560.0</td>\n",
       "      <td>900.0</td>\n",
       "      <td>1500.0</td>\n",
       "    </tr>\n",
       "    <tr>\n",
       "      <th>3 - Fund. II incompleto</th>\n",
       "      <td>1238.560884</td>\n",
       "      <td>1000.0</td>\n",
       "      <td>788</td>\n",
       "      <td>1315.349041</td>\n",
       "      <td>788.0</td>\n",
       "      <td>1000.0</td>\n",
       "      <td>1500.0</td>\n",
       "    </tr>\n",
       "    <tr>\n",
       "      <th>4 - Fund. II completo</th>\n",
       "      <td>1437.744862</td>\n",
       "      <td>1100.0</td>\n",
       "      <td>788</td>\n",
       "      <td>1404.280340</td>\n",
       "      <td>788.0</td>\n",
       "      <td>1100.0</td>\n",
       "      <td>1600.0</td>\n",
       "    </tr>\n",
       "    <tr>\n",
       "      <th>5 - Médio incompleto</th>\n",
       "      <td>1412.122537</td>\n",
       "      <td>1050.0</td>\n",
       "      <td>788</td>\n",
       "      <td>1852.825333</td>\n",
       "      <td>788.0</td>\n",
       "      <td>1050.0</td>\n",
       "      <td>1576.0</td>\n",
       "    </tr>\n",
       "    <tr>\n",
       "      <th>6 - Médio completo</th>\n",
       "      <td>1841.671287</td>\n",
       "      <td>1350.0</td>\n",
       "      <td>788</td>\n",
       "      <td>2457.197657</td>\n",
       "      <td>900.0</td>\n",
       "      <td>1350.0</td>\n",
       "      <td>2000.0</td>\n",
       "    </tr>\n",
       "    <tr>\n",
       "      <th>7 - Superior incompleto</th>\n",
       "      <td>2629.527362</td>\n",
       "      <td>1800.0</td>\n",
       "      <td>2000</td>\n",
       "      <td>3255.689938</td>\n",
       "      <td>1100.0</td>\n",
       "      <td>1800.0</td>\n",
       "      <td>3000.0</td>\n",
       "    </tr>\n",
       "    <tr>\n",
       "      <th>8 - Superior completo</th>\n",
       "      <td>5242.443353</td>\n",
       "      <td>3500.0</td>\n",
       "      <td>5000</td>\n",
       "      <td>6450.490806</td>\n",
       "      <td>2000.0</td>\n",
       "      <td>3500.0</td>\n",
       "      <td>6000.0</td>\n",
       "    </tr>\n",
       "  </tbody>\n",
       "</table>\n",
       "</div>"
      ],
      "text/plain": [
       "                         Média Renda  Mediana Renda  Moda Renda  \\\n",
       "Escolaridade                                                      \n",
       "0 - Sem instrução         732.994187          600.0           0   \n",
       "1 - Fund. I incompleto    897.019279          788.0         788   \n",
       "2 - Fund. I completo     1150.439293          900.0         788   \n",
       "3 - Fund. II incompleto  1238.560884         1000.0         788   \n",
       "4 - Fund. II completo    1437.744862         1100.0         788   \n",
       "5 - Médio incompleto     1412.122537         1050.0         788   \n",
       "6 - Médio completo       1841.671287         1350.0         788   \n",
       "7 - Superior incompleto  2629.527362         1800.0        2000   \n",
       "8 - Superior completo    5242.443353         3500.0        5000   \n",
       "\n",
       "                         Desvio Padrão  1° Quartil  2° Quartil  3° Quartil  \n",
       "Escolaridade                                                                \n",
       "0 - Sem instrução           955.274843       180.0       600.0      1000.0  \n",
       "1 - Fund. I incompleto     1588.779043       320.0       788.0      1100.0  \n",
       "2 - Fund. I completo       1293.144934       560.0       900.0      1500.0  \n",
       "3 - Fund. II incompleto    1315.349041       788.0      1000.0      1500.0  \n",
       "4 - Fund. II completo      1404.280340       788.0      1100.0      1600.0  \n",
       "5 - Médio incompleto       1852.825333       788.0      1050.0      1576.0  \n",
       "6 - Médio completo         2457.197657       900.0      1350.0      2000.0  \n",
       "7 - Superior incompleto    3255.689938      1100.0      1800.0      3000.0  \n",
       "8 - Superior completo      6450.490806      2000.0      3500.0      6000.0  "
      ]
     },
     "execution_count": 44,
     "metadata": {},
     "output_type": "execute_result"
    }
   ],
   "source": [
    "df_agrupado_escolaridade = df.groupby('Escolaridade')[['Renda']].mean()\n",
    "df_agrupado_escolaridade.columns = ['Média Renda']\n",
    "\n",
    "df_agrupado_escolaridade['Mediana Renda'] = df.groupby('Escolaridade')[['Renda']].median()\n",
    "df_agrupado_escolaridade['Moda Renda'] = df.groupby('Escolaridade')[['Renda']].agg(pd.Series.mode)\n",
    "df_agrupado_escolaridade['Desvio Padrão'] = df.groupby('Escolaridade')[['Renda']].std()\n",
    "df_agrupado_escolaridade['1° Quartil'] = df.groupby('Escolaridade')[['Renda']].quantile(0.25)\n",
    "df_agrupado_escolaridade['2° Quartil'] = df.groupby('Escolaridade')[['Renda']].quantile(0.50)\n",
    "df_agrupado_escolaridade['3° Quartil'] = df.groupby('Escolaridade')[['Renda']].quantile(0.75)\n",
    "\n",
    "df_agrupado_escolaridade\n",
    "\n"
   ]
  },
  {
   "cell_type": "markdown",
   "id": "4f6710c9",
   "metadata": {},
   "source": [
    "## (0,25)\n",
    "\n",
    "Analisando as médias e desvios padrão acima, você consegue afirmar que o salário sempre aumenta quanto maior o tempo de estudo? Justifique.\n",
    "\n",
    "ps: Não é necessário fazer contas."
   ]
  },
  {
   "cell_type": "markdown",
   "id": "a90c04ae",
   "metadata": {},
   "source": [
    ">"
   ]
  },
  {
   "cell_type": "code",
   "execution_count": 45,
   "id": "5e81ab8c",
   "metadata": {},
   "outputs": [],
   "source": [
    "notas.append(0.25)"
   ]
  },
  {
   "cell_type": "code",
   "execution_count": 46,
   "id": "8130d7c9",
   "metadata": {},
   "outputs": [
    {
     "name": "stdout",
     "output_type": "stream",
     "text": [
      "Podemos ver que existe uma tendência para o aumento da média salarial, porém, \n",
      "ao mesmo tempo, vemos que a medidade de disperção também cresce de forma proporcional. \n",
      "Podemos afimar que a tendência é aumentar, mas isso não será verdade em todos os casos \n"
     ]
    }
   ],
   "source": [
    "print('''Podemos ver que existe uma tendência para o aumento da média salarial, porém, \n",
    "ao mesmo tempo, vemos que a medidade de disperção também cresce de forma proporcional. \n",
    "Podemos afimar que a tendência é aumentar, mas isso não será verdade em todos os casos ''')"
   ]
  },
  {
   "cell_type": "markdown",
   "id": "1293fc40",
   "metadata": {},
   "source": [
    "## (0,10)\n",
    "\n",
    "Os valores da média e desvio padrão encontrados acima se referem à população? Justifique."
   ]
  },
  {
   "cell_type": "markdown",
   "id": "df9daee9",
   "metadata": {},
   "source": [
    ">"
   ]
  },
  {
   "cell_type": "code",
   "execution_count": 47,
   "id": "3aca4b18",
   "metadata": {},
   "outputs": [],
   "source": [
    "notas.append(0.10)"
   ]
  },
  {
   "cell_type": "code",
   "execution_count": 48,
   "id": "b546e2aa",
   "metadata": {},
   "outputs": [
    {
     "name": "stdout",
     "output_type": "stream",
     "text": [
      "Não. Eles se referem a uma amostra da população brasileira.\n"
     ]
    }
   ],
   "source": [
    "print('Não. Eles se referem a uma amostra da população brasileira.')"
   ]
  },
  {
   "cell_type": "markdown",
   "id": "0287a24d",
   "metadata": {},
   "source": [
    "##### **Como a quantidade de pessoas em cada nível de escolaridade varia bastante e, por ser inviável realizar outra pesquisa para conseguir mais dados, você, ex-aluno do Prof. Carrasco, realizará um teste estátisco para responder à questão sobre a impacto do estudo na renda.**\n",
    "\n",
    "## (0,25)\n",
    "\n",
    "Observado que as variâncias de renda em cada um dos níveis é muito grande, calcule o tamanho amostral de cada grupo para assegurar que o erro inferencial da média populacional estimada em cada um dos níveis seja no máximo R\\\\$150,00 com confiança de 94,25\\%.\n",
    "\n",
    "Resultado esperado: `print(nivel, n)` para cada nível.\n",
    " "
   ]
  },
  {
   "cell_type": "code",
   "execution_count": 49,
   "id": "1c953c7b",
   "metadata": {},
   "outputs": [],
   "source": [
    "notas.append(0.25)"
   ]
  },
  {
   "cell_type": "code",
   "execution_count": 50,
   "id": "054f1ffc",
   "metadata": {},
   "outputs": [
    {
     "name": "stdout",
     "output_type": "stream",
     "text": [
      "0 - Sem instrução, 146.33508552929874\n",
      "1 - Fund. I incompleto, 404.77976040229794\n",
      "2 - Fund. I completo, 268.15517948545187\n",
      "3 - Fund. II incompleto, 277.4430236339121\n",
      "4 - Fund. II completo, 316.2273405454258\n",
      "5 - Médio incompleto, 550.5043365055725\n",
      "6 - Médio completo, 968.2153626012527\n",
      "7 - Superior incompleto, 1699.72185492212\n",
      "8 - Superior completo, 6672.326738884706\n"
     ]
    }
   ],
   "source": [
    "lista_n = []\n",
    "\n",
    "for index in df_agrupado_escolaridade.index:\n",
    "    confianca = 0.9425\n",
    "    significancia = 1 - confianca\n",
    "    probabilidade = confianca + (significancia)/ 2\n",
    "\n",
    "    df_temporario = df_agrupado_escolaridade[df_agrupado_escolaridade.index == index]\n",
    "\n",
    "    z = norm.ppf(probabilidade)\n",
    "    media_amostral = df_temporario['Média Renda'][0]\n",
    "    desvio_pad = df_temporario['Desvio Padrão'][0] \n",
    "    erro = 150\n",
    "\n",
    "    n = (z * (desvio_pad / erro))**2\n",
    "    lista_n.append(n)\n",
    "    \n",
    "    print(f'{index}, {n}')\n"
   ]
  },
  {
   "cell_type": "markdown",
   "id": "2d650465",
   "metadata": {},
   "source": [
    "## (0,10)\n",
    "\n",
    "Você deve ter encontrado tamanhos amostrais diferentes para cada um dos níveis de escolaridade. Para evitar problemas de desbalanceamento de classes em análises futuras, usaremos o maior valor encontrado como o tamanho amostral de todas as classes. Esse valor deve ser armazendado na variável `sample_size`.\n",
    "\n",
    "Por que fizemos essa escolha?"
   ]
  },
  {
   "cell_type": "code",
   "execution_count": 51,
   "id": "2014c803",
   "metadata": {},
   "outputs": [],
   "source": [
    "notas.append(0.1)"
   ]
  },
  {
   "cell_type": "code",
   "execution_count": 52,
   "id": "b1a708d4",
   "metadata": {
    "ExecuteTime": {
     "end_time": "2022-01-31T22:37:36.703241Z",
     "start_time": "2022-01-31T22:37:36.610Z"
    }
   },
   "outputs": [
    {
     "name": "stdout",
     "output_type": "stream",
     "text": [
      "\n",
      " O tamanho amostral é 6672.\n"
     ]
    }
   ],
   "source": [
    "sample_size = np.max(lista_n)\n",
    "sample_size = int(round(sample_size, 0))\n",
    "print(f'\\n O tamanho amostral é {sample_size}.')"
   ]
  },
  {
   "cell_type": "code",
   "execution_count": 53,
   "id": "0eb80433",
   "metadata": {},
   "outputs": [
    {
     "name": "stdout",
     "output_type": "stream",
     "text": [
      "Para que seja possível comparar os resultados de cada um dos níveis de escolaridade sem problemas no futuro.\n"
     ]
    }
   ],
   "source": [
    "print('Para que seja possível comparar os resultados de cada um dos níveis de escolaridade sem problemas no futuro.')"
   ]
  },
  {
   "cell_type": "markdown",
   "id": "b9ed4cb5",
   "metadata": {},
   "source": [
    "## (0,10)\n",
    "\n",
    "Qual tipo de desvio padrão foi utilizado para calcular os tamanhos amostrais: amostral ou populacional? Justifique sua escolha."
   ]
  },
  {
   "cell_type": "markdown",
   "id": "e8345eb7",
   "metadata": {},
   "source": [
    "> "
   ]
  },
  {
   "cell_type": "code",
   "execution_count": 54,
   "id": "ab38c8fb",
   "metadata": {},
   "outputs": [],
   "source": [
    "notas.append(0.1)"
   ]
  },
  {
   "cell_type": "code",
   "execution_count": 55,
   "id": "99f92d91",
   "metadata": {},
   "outputs": [
    {
     "name": "stdout",
     "output_type": "stream",
     "text": [
      "Amostral, pois não temos acesso ao desvio padrão populacional\n"
     ]
    }
   ],
   "source": [
    "print('Amostral, pois não temos acesso ao desvio padrão populacional')"
   ]
  },
  {
   "cell_type": "markdown",
   "id": "5804d2cb",
   "metadata": {},
   "source": [
    "## (0,10)\n",
    "\n",
    "Qual expressão para o cálculo de `n` foi utilizada: finito ou infinito? Justifique."
   ]
  },
  {
   "cell_type": "markdown",
   "id": "b43e1f72",
   "metadata": {},
   "source": [
    "> "
   ]
  },
  {
   "cell_type": "code",
   "execution_count": 56,
   "id": "2aea7950",
   "metadata": {},
   "outputs": [],
   "source": [
    "notas.append(0.1)"
   ]
  },
  {
   "cell_type": "code",
   "execution_count": 57,
   "id": "4e7a4bf0",
   "metadata": {},
   "outputs": [
    {
     "name": "stdout",
     "output_type": "stream",
     "text": [
      "Infinito, pois o conjunto trata das pessoas economicamente ativa do Brasil, \n",
      "e 77 mil não é um tamanho amostral grande o suficiente para considerar a população finita.\n"
     ]
    }
   ],
   "source": [
    "print('''Infinito, pois o conjunto trata das pessoas economicamente ativa do Brasil, \n",
    "e 77 mil não é um tamanho amostral grande o suficiente para considerar a população finita.''')"
   ]
  },
  {
   "cell_type": "markdown",
   "id": "a1a31750",
   "metadata": {},
   "source": [
    "## (0,25)\n",
    "\n",
    "Crie um dataframe com `sample_size` amostras para cada nível de escolaridade.\n",
    "\n",
    "Use `random_state=5`."
   ]
  },
  {
   "cell_type": "markdown",
   "id": "1a201650",
   "metadata": {},
   "source": [
    "<details>\n",
    "    <summary>💪 Desafio (clique aqui) 💪</summary>\n",
    "\n",
    "Consegue pensar em como criar os 9 dataframes em 1 ou 2 linhas? \n",
    "\n",
    "ps: **Não** serão descontados pontos de quem não cumprir o desafio!\n",
    "    \n",
    "</details>    "
   ]
  },
  {
   "cell_type": "code",
   "execution_count": 58,
   "id": "8323022f",
   "metadata": {},
   "outputs": [],
   "source": [
    "notas.append(0.25)"
   ]
  },
  {
   "cell_type": "code",
   "execution_count": 59,
   "id": "055983d5",
   "metadata": {},
   "outputs": [],
   "source": [
    "#Desafios\n",
    "amostras_por_nivel = [sample(list(df[df['Escolaridade'] == index]['Renda']), k = sample_size) if (sample_size < len(list(df[df['Escolaridade'] == index]['Renda']))) else sample(list(df[df['Escolaridade'] == index]['Renda']), k = len(list(df[df['Escolaridade'] == index]['Renda']))) for index in df_agrupado_escolaridade.index]"
   ]
  },
  {
   "cell_type": "code",
   "execution_count": 60,
   "id": "177978ea",
   "metadata": {},
   "outputs": [],
   "source": [
    "amostras_por_nivel = {}\n",
    "\n",
    "for index in df_agrupado_escolaridade.index:\n",
    "    df_temp = df[df['Escolaridade'] == index]['Renda']\n",
    "    \n",
    "    amostras_por_nivel[index] = df_temp.sample(n = sample_size, random_state = 5, replace = True)"
   ]
  },
  {
   "cell_type": "markdown",
   "id": "5327a316",
   "metadata": {},
   "source": [
    "## (0,25)\n",
    "\n",
    "Calcule a media e desvio amostrais e o erro inferencial de cada uma das amostras criadas acima.\n",
    "\n",
    "Resultado esperado: `print([nivel, media_amostral, desvio_amostral, erro_inferencial])` para cada nível."
   ]
  },
  {
   "cell_type": "code",
   "execution_count": 61,
   "id": "e24e260f",
   "metadata": {},
   "outputs": [],
   "source": [
    "notas.append(0.25)"
   ]
  },
  {
   "cell_type": "code",
   "execution_count": 62,
   "id": "5d78892d",
   "metadata": {},
   "outputs": [
    {
     "name": "stdout",
     "output_type": "stream",
     "text": [
      "['0 - Sem instrução', 735.9737709832134, 933.3980226926107, 21.705810585146633]\n",
      "['1 - Fund. I incompleto', 890.8193944844124, 1558.8757566290742, 36.25105375899324]\n",
      "['2 - Fund. I completo', 1154.3742505995203, 1327.8852079054645, 30.879457745654644]\n",
      "['3 - Fund. II incompleto', 1206.4554856115108, 1136.39221235832, 26.426362079415508]\n",
      "['4 - Fund. II completo', 1457.2267685851318, 1446.0945319613702, 33.62836992992729]\n",
      "['5 - Médio incompleto', 1391.154376498801, 1578.8427350572938, 36.71537813207301]\n",
      "['6 - Médio completo', 1845.1468824940048, 1940.9374444009811, 45.13575077463017]\n",
      "['7 - Superior incompleto', 2587.7366606714627, 3391.7634494624226, 78.8741492844366]\n",
      "['8 - Superior completo', 5086.555005995204, 5546.319401175165, 128.97751595760377]\n"
     ]
    }
   ],
   "source": [
    "dados_amostras = []\n",
    "\n",
    "for index in df_agrupado_escolaridade.index:\n",
    "    confianca = 0.9425\n",
    "    significancia = 1 - confianca\n",
    "    probabilidade = confianca + (significancia)/ 2\n",
    "\n",
    "    z = norm.ppf(probabilidade)\n",
    "    media_amostral = np.mean(amostras_por_nivel[index])\n",
    "    desvio_pad =  np.std(amostras_por_nivel[index])\n",
    "    n = len(amostras_por_nivel[index])\n",
    "\n",
    "    erro = z * (desvio_pad / np.sqrt(n))\n",
    "    \n",
    "    dados_amostras.append([index, media_amostral, desvio_pad, erro, n])\n",
    "    print(dados_amostras[-1][:-1])"
   ]
  },
  {
   "cell_type": "markdown",
   "id": "19386b03",
   "metadata": {},
   "source": [
    "**Estamos prontos para testar nossa hippótese de que, quanto mais anos de estudo, maior o salário. Para isso, vamos análisar se ocorre um aumento significativo de renda entre dois níveis de instrução, conforme definidos no começo da aula.**\n",
    "\n",
    "**Exemplo:** \n",
    "1. Comparar renda média do grupo `0 - Sem instrução` com o grupo `1 - Fund. I incompleto`. \n",
    "2. Comparar renda média do grupo `1 - Fund. I incompleto` com o grupo `2 - Fund. I completo`.\n",
    "3. E assim por diante...."
   ]
  },
  {
   "cell_type": "markdown",
   "id": "d8b76f00",
   "metadata": {},
   "source": [
    "## (1,0)\n",
    "\n",
    "Para cada dois níveis de escolaridade consecutivos, teste se as médias de renda são iguais com nível de confiança de 99%.  \n",
    "\n",
    "Resultado esperado para cada comparação. Imprimir as seguintes informações (as opções dos termos entre paraenteses dependem das suas escolhas):\n",
    "\n",
    "* H_0: Renda de pessosas `nivel[i]` **(= ou !=)** `nivel[i+1]`.\n",
    "* [(**t ou z)**, p] \n",
    "* **(Aceitar ou Rejeitar)** H_0. "
   ]
  },
  {
   "cell_type": "markdown",
   "id": "9313bbac",
   "metadata": {},
   "source": [
    "<details>\n",
    "    <summary>🙆‍♂️ Dica (clique aqui) 🙋‍</summary>\n",
    "\n",
    "Você terá que repetir o mesmo cálculo diversas vezes. Use o poder do computador e escreva sua solução de forma genérica, de tal forma que você possa mudar os parâmetros necessários para realizar novos cálculos rapidamente.   \n",
    "</details>    "
   ]
  },
  {
   "cell_type": "code",
   "execution_count": 63,
   "id": "a3bf415c",
   "metadata": {},
   "outputs": [],
   "source": [
    "notas.append(1)"
   ]
  },
  {
   "cell_type": "code",
   "execution_count": 64,
   "id": "1f751ced",
   "metadata": {},
   "outputs": [
    {
     "name": "stdout",
     "output_type": "stream",
     "text": [
      "\n",
      "H_0: Renda de Pessoas 0 - Sem instrução = 1 - Fund. I incompleto\n",
      "[-6.961178675853382, 3.3743746863516812e-12]\n",
      "Rejeitar H_0\n",
      "\n",
      "H_0: Renda de Pessoas 1 - Fund. I incompleto = 2 - Fund. I completo\n",
      "[-10.512773491022031, 7.544166450628496e-26]\n",
      "Rejeitar H_0\n",
      "\n",
      "H_0: Renda de Pessoas 2 - Fund. I completo = 3 - Fund. II incompleto\n",
      "[-2.4340382575958937, 0.01493141682333493]\n",
      "Aceitar H_0\n",
      "\n",
      "H_0: Renda de Pessoas 3 - Fund. II incompleto = 4 - Fund. II completo\n",
      "[-11.13735331033395, 8.253578287646575e-29]\n",
      "Rejeitar H_0\n",
      "\n",
      "H_0: Renda de Pessoas 4 - Fund. II completo = 5 - Médio incompleto\n",
      "[2.520744809888757, 0.011710674610439398]\n",
      "Aceitar H_0\n",
      "\n",
      "H_0: Renda de Pessoas 5 - Médio incompleto = 6 - Médio completo\n",
      "[-14.821431178130988, 1.0649112154718014e-49]\n",
      "Rejeitar H_0\n",
      "\n",
      "H_0: Renda de Pessoas 6 - Médio completo = 7 - Superior incompleto\n",
      "[-15.521690425658113, 2.4744543678864546e-54]\n",
      "Rejeitar H_0\n",
      "\n",
      "H_0: Renda de Pessoas 7 - Superior incompleto = 8 - Superior completo\n",
      "[-31.3955848705291, 2.324569391938792e-216]\n",
      "Rejeitar H_0\n"
     ]
    }
   ],
   "source": [
    "confianca = 0.99\n",
    "significancia = 1 - confianca\n",
    "probabilidade = confianca + significancia/2\n",
    "\n",
    "for i in range(len(dados_amostras) - 1):\n",
    "    \n",
    "    z_alpha_2 = norm.ppf(probabilidade)\n",
    "    z = (dados_amostras[i][1] - dados_amostras[i+1][1]) / np.sqrt((dados_amostras[i][2]**2/sample_size)+(dados_amostras[i+1][2]**2/sample_size))\n",
    "\n",
    "    if z > 0:\n",
    "        p =(1 - norm.cdf(z)) * 2\n",
    "    else:\n",
    "        p = norm.cdf(z) * 2\n",
    "\n",
    "    \n",
    "    print(f'\\nH_0: Renda de Pessoas {dados_amostras[i][0]} = {dados_amostras[i + 1][0]}')\n",
    "    print([z, p])\n",
    "    \n",
    "    if (z <= -z_alpha_2) or (z >= z_alpha_2):\n",
    "        print('Rejeitar H_0')\n",
    "    else:\n",
    "        print('Aceitar H_0')"
   ]
  },
  {
   "cell_type": "markdown",
   "id": "bba491ce",
   "metadata": {},
   "source": [
    "## (0,25)\n",
    "\n",
    "Quais suas conclusões sobre os resultados encontrados?"
   ]
  },
  {
   "cell_type": "markdown",
   "id": "fe1240cf",
   "metadata": {},
   "source": [
    "> "
   ]
  },
  {
   "cell_type": "code",
   "execution_count": 65,
   "id": "84514424",
   "metadata": {},
   "outputs": [],
   "source": [
    "notas.append(0.25)"
   ]
  },
  {
   "cell_type": "code",
   "execution_count": 66,
   "id": "d1537250",
   "metadata": {},
   "outputs": [
    {
     "name": "stdout",
     "output_type": "stream",
     "text": [
      "Que o grau de estudo tem um impacto sim na renda, ainda não podemos dizer com certeza qual é esse impacto, mas podemos dizer que ele existe.\n"
     ]
    }
   ],
   "source": [
    "print('Que o grau de estudo tem um impacto sim na renda, ainda não podemos dizer com certeza qual é esse impacto, mas podemos dizer que ele existe.')"
   ]
  },
  {
   "cell_type": "markdown",
   "id": "0c9278b5",
   "metadata": {},
   "source": [
    "## (0,5)\n",
    "\n",
    "No exercício acima avaliamos se as médias de renda entre dois grupos são iguais ou diferentes, mas isso não diz muito sobre qual grupo ganha mais. Reformule sua hipótese inicial assumindo que o grupo com menor nível de escolaridade ganhe menos que o grupo seguinte com significância de 1%.\n",
    "\n",
    "Resultado esperado para cada comparação. Imprimir as seguintes informações (as opções dos termos entre paraenteses dependem das suas escolhas):\n",
    "\n",
    "* H_0: Renda de pessosas `nivel[i]` **(<= ou >= ou < ou >)** `nivel[i+1]`.\n",
    "* [(**t ou z)**, p] \n",
    "* **(Aceitar ou Rejeitar)** H_0. "
   ]
  },
  {
   "cell_type": "code",
   "execution_count": 67,
   "id": "a29f586b",
   "metadata": {},
   "outputs": [],
   "source": [
    "notas.append(0.5)"
   ]
  },
  {
   "cell_type": "code",
   "execution_count": 68,
   "id": "92581116",
   "metadata": {},
   "outputs": [
    {
     "name": "stdout",
     "output_type": "stream",
     "text": [
      "\n",
      "H_0: Renda de Pessoas 0 - Sem instrução <= 1 - Fund. I incompleto\n",
      "[-6.961178675853382, 0.9999999999983128]\n",
      "Aceitar H_0\n",
      "\n",
      "H_0: Renda de Pessoas 1 - Fund. I incompleto <= 2 - Fund. I completo\n",
      "[-10.512773491022031, 1.0]\n",
      "Aceitar H_0\n",
      "\n",
      "H_0: Renda de Pessoas 2 - Fund. I completo <= 3 - Fund. II incompleto\n",
      "[-2.4340382575958937, 0.9925342915883325]\n",
      "Aceitar H_0\n",
      "\n",
      "H_0: Renda de Pessoas 3 - Fund. II incompleto <= 4 - Fund. II completo\n",
      "[-11.13735331033395, 1.0]\n",
      "Aceitar H_0\n",
      "\n",
      "H_0: Renda de Pessoas 4 - Fund. II completo <= 5 - Médio incompleto\n",
      "[2.520744809888757, 0.005855337305219699]\n",
      "Rejeitar H_0\n",
      "\n",
      "H_0: Renda de Pessoas 5 - Médio incompleto <= 6 - Médio completo\n",
      "[-14.821431178130988, 1.0]\n",
      "Aceitar H_0\n",
      "\n",
      "H_0: Renda de Pessoas 6 - Médio completo <= 7 - Superior incompleto\n",
      "[-15.521690425658113, 1.0]\n",
      "Aceitar H_0\n",
      "\n",
      "H_0: Renda de Pessoas 7 - Superior incompleto <= 8 - Superior completo\n",
      "[-31.3955848705291, 1.0]\n",
      "Aceitar H_0\n"
     ]
    }
   ],
   "source": [
    "confianca = 0.99\n",
    "significancia = 1 - confianca\n",
    "probabilidade = confianca\n",
    "\n",
    "for i in range(len(dados_amostras) - 1):\n",
    "    \n",
    "    z_alpha = norm.ppf(probabilidade)\n",
    "    z = (dados_amostras[i][1] - dados_amostras[i+1][1]) / np.sqrt((dados_amostras[i][2]**2/sample_size)+(dados_amostras[i+1][2]**2/sample_size))\n",
    "\n",
    "    p = 1 -  norm.cdf(z) \n",
    "    \n",
    "    print(f'\\nH_0: Renda de Pessoas {dados_amostras[i][0]} <= {dados_amostras[i + 1][0]}')\n",
    "    print([z, p])\n",
    "    \n",
    "    if (z >= z_alpha):\n",
    "        print('Rejeitar H_0')\n",
    "    else:\n",
    "        print('Aceitar H_0')"
   ]
  },
  {
   "cell_type": "markdown",
   "id": "d56115c7",
   "metadata": {},
   "source": [
    "## (0,25)\n",
    "\n",
    "Quais suas conclusões sobre os resultados encontrados?"
   ]
  },
  {
   "cell_type": "markdown",
   "id": "ce687456",
   "metadata": {},
   "source": [
    "> "
   ]
  },
  {
   "cell_type": "code",
   "execution_count": 69,
   "id": "0fa3e51b",
   "metadata": {},
   "outputs": [],
   "source": [
    "notas.append(0.25)"
   ]
  },
  {
   "cell_type": "code",
   "execution_count": 70,
   "id": "4378feb2",
   "metadata": {},
   "outputs": [
    {
     "name": "stdout",
     "output_type": "stream",
     "text": [
      "Que o grau de instrução tem sim uma correlação positiva com a renda.\n"
     ]
    }
   ],
   "source": [
    "print('Que o grau de instrução tem sim uma correlação positiva com a renda.')"
   ]
  },
  {
   "cell_type": "markdown",
   "id": "d8a1d387",
   "metadata": {},
   "source": [
    "## (0,5)\n",
    "\n",
    "Qual seria sua recomendação de resultados sobre o impacto do tempo de estudo na renda dos brasileiros? Escreva de forma resumida sua conclusão, pontos de atenção e sugestões, caso necessário. "
   ]
  },
  {
   "cell_type": "code",
   "execution_count": 71,
   "id": "44981159",
   "metadata": {},
   "outputs": [],
   "source": [
    "notas.append(0.25)"
   ]
  },
  {
   "cell_type": "code",
   "execution_count": 72,
   "id": "752e8f22",
   "metadata": {},
   "outputs": [
    {
     "name": "stdout",
     "output_type": "stream",
     "text": [
      "Com um grau de confiança de 99% existe um correlação positiva entre o tempo de estudo e a renda dos brasileiros. \n",
      "Uma recomendação é conseguir amostras maiores em alguma seções da população, pois algumas acabaram tendo um tamanho amostral \n",
      "menor do que o necessário e foi necessário fazer um processo de amostragem com reposição\n"
     ]
    }
   ],
   "source": [
    "print('''Com um grau de confiança de 99% existe um correlação positiva entre o tempo de estudo e a renda dos brasileiros. \n",
    "Uma recomendação é conseguir amostras maiores em alguma seções da população, pois algumas acabaram tendo um tamanho amostral \n",
    "menor do que o necessário e foi necessário fazer um processo de amostragem com reposição''')"
   ]
  },
  {
   "cell_type": "markdown",
   "id": "1cefdc1b",
   "metadata": {},
   "source": [
    "> "
   ]
  },
  {
   "cell_type": "markdown",
   "id": "ae1d7285",
   "metadata": {},
   "source": [
    "## (1,0)\n",
    "\n",
    "Enquanto estava realizando a análise acima, um colega de trabalho lhe apresentou 4 opções de solução, que você pensou em usar para validar seus cálculos. Contudo, ele, que não foi aluno do Dr. Carrasco, foi demitido pela baixa qualidade de trabalho e, ao olhar as notas dele, você entendeu o porquê.\n",
    "\n",
    "---\n",
    "**Relatório de testes de hipóteses da renda.**\n",
    "\n",
    "``` python\n",
    "nivel_1 = media de renda para nível Fund. II completo   \n",
    "nivel_2 = media de renda para nível Médio incompleto\n",
    "\n",
    "1.\n",
    "ztest(nivel_1, nivel_2, alternative='larger')\n",
    "(2.5205558980730096, 0.005858481326660286)\n",
    "\n",
    "2.\n",
    "ztest(nivel_2, nivel_1, alternative='smaller')\n",
    "(-2.5205558980730096, 0.005858481326660286)\n",
    "\n",
    "3.\n",
    "ztest(nivel_1, nivel_2, alternative='two-sided')\n",
    "(2.5205558980730096, 0.011716962653320572)\n",
    "\n",
    "4.\n",
    "ztest(nivel_1, nivel_2, alternative='smaller')\n",
    "(-2.5205558980730096, 0.9941415186733397)\n",
    "````\n",
    "--- \n",
    "\n",
    "Defina para cada caso as hipóteses nula e alternativa bem como a aceitação ou rejeição da hipótese nula com um nível de significância de 5%."
   ]
  },
  {
   "cell_type": "code",
   "execution_count": 73,
   "id": "1a4fade4",
   "metadata": {},
   "outputs": [],
   "source": [
    "notas.append(1)"
   ]
  },
  {
   "cell_type": "code",
   "execution_count": 74,
   "id": "d68e76b4",
   "metadata": {},
   "outputs": [
    {
     "name": "stdout",
     "output_type": "stream",
     "text": [
      "\n",
      "H_0: Renda Fund. II completo <= Renda Médio Incompleto\n",
      "H_1: Renda Fund. II completo > Renda Médio Incompleto\n",
      "Rejeitar H_0\n",
      "\n",
      "H_0: Renda Médio Incompleto >= Renda Fund. II completo\n",
      "H_1: Renda Médio Incompleto < Renda Fund. II completo\n",
      "Rejeitar H_0\n",
      "\n",
      "H_0: Renda Fund. II completo = Renda Médio Incompleto\n",
      "H_1: Renda Fund. II completo != Renda Médio Incompleto\n",
      "Rejeitar H_0\n",
      "\n",
      "H_0: Renda Fund. II completo >= Renda Médio Incompleto\n",
      "H_1: Renda Fund. II completo < Renda Médio Incompleto\n",
      "Aceitar H_0\n"
     ]
    }
   ],
   "source": [
    "from statsmodels.stats.weightstats import ztest\n",
    "def testa_p (p, significancia):\n",
    "    if p >= significancia:\n",
    "        return 'Aceitar H_0'\n",
    "    else:\n",
    "        return 'Rejeitar H_0'\n",
    "\n",
    "print('\\nH_0: Renda Fund. II completo <= Renda Médio Incompleto')\n",
    "print('H_1: Renda Fund. II completo > Renda Médio Incompleto')\n",
    "z, p = ztest(amostras_por_nivel['4 - Fund. II completo'], amostras_por_nivel['5 - Médio incompleto'], alternative='larger')\n",
    "print(testa_p(p, 0.05))\n",
    "\n",
    "print('\\nH_0: Renda Médio Incompleto >= Renda Fund. II completo')\n",
    "print('H_1: Renda Médio Incompleto < Renda Fund. II completo')\n",
    "z, p = ztest(amostras_por_nivel['5 - Médio incompleto'], amostras_por_nivel['4 - Fund. II completo'], alternative='smaller')\n",
    "print(testa_p(p, 0.05))\n",
    "\n",
    "print('\\nH_0: Renda Fund. II completo = Renda Médio Incompleto')\n",
    "print('H_1: Renda Fund. II completo != Renda Médio Incompleto')\n",
    "z, p = ztest(amostras_por_nivel['4 - Fund. II completo'], amostras_por_nivel['5 - Médio incompleto'], alternative='two-sided')\n",
    "print(testa_p(p, 0.05))\n",
    "\n",
    "print('\\nH_0: Renda Fund. II completo >= Renda Médio Incompleto')\n",
    "print('H_1: Renda Fund. II completo < Renda Médio Incompleto')\n",
    "z, p = ztest(amostras_por_nivel['4 - Fund. II completo'], amostras_por_nivel['5 - Médio incompleto'], alternative='smaller')\n",
    "print(testa_p(p, 0.05))"
   ]
  },
  {
   "cell_type": "markdown",
   "id": "0699d8ab",
   "metadata": {},
   "source": [
    "**Vamos analisar alguns dados sobre o acesso de diferentes raças à educação.**\n",
    "\n",
    "A tabela abaixo mostra as probabilidades para o seguinte diagrama.\n",
    "\n",
    "![image.png](diagrama_pessoas.png)"
   ]
  },
  {
   "cell_type": "markdown",
   "id": "9810d7b7",
   "metadata": {},
   "source": [
    "![dataframe.png](dataframe.png)"
   ]
  },
  {
   "cell_type": "markdown",
   "id": "cd363c54",
   "metadata": {},
   "source": [
    "## (0,5)\n",
    "\n",
    "O que as variáveis P_C e P_NC significam?"
   ]
  },
  {
   "cell_type": "markdown",
   "id": "e6658173",
   "metadata": {},
   "source": [
    "> "
   ]
  },
  {
   "cell_type": "code",
   "execution_count": 75,
   "id": "5fa73dd7",
   "metadata": {},
   "outputs": [],
   "source": [
    "notas.append(0.5)"
   ]
  },
  {
   "cell_type": "code",
   "execution_count": 76,
   "id": "6ec9c140",
   "metadata": {},
   "outputs": [
    {
     "name": "stdout",
     "output_type": "stream",
     "text": [
      "P_C é a chance de ao pegar uma pessoa aleatória ela ser de uma dada cor.\n",
      "PN_C é a chance de ao pegar uma pessoa aleatória de uma cor já sabida, ela ter um dado grau de formação.\n"
     ]
    }
   ],
   "source": [
    "print('''P_C é a chance de ao pegar uma pessoa aleatória ela ser de uma dada cor.\n",
    "PN_C é a chance de ao pegar uma pessoa aleatória de uma cor já sabida, ela ter um dado grau de formação.''')"
   ]
  },
  {
   "cell_type": "markdown",
   "id": "e07131db",
   "metadata": {},
   "source": [
    "## (0,5)\n",
    "\n",
    "Se selecionarmos uma pessoa ao acaso, qual a chance dela ser `parda` e ter nível superior completo? Qual a chance no caso dela ser `branca`?"
   ]
  },
  {
   "cell_type": "code",
   "execution_count": 77,
   "id": "a43e4a8c",
   "metadata": {},
   "outputs": [],
   "source": [
    "notas.append(0.5)"
   ]
  },
  {
   "cell_type": "code",
   "execution_count": 78,
   "id": "23de631b",
   "metadata": {},
   "outputs": [
    {
     "name": "stdout",
     "output_type": "stream",
     "text": [
      "A chance de ao selecionar uma pessoa ao acaso ela ser parda e ter nível superior completo é de 4.14%\n",
      "A chance de ao selecionar uma pessoa ao acaso ela ser branca e ter nível superior completo é de 8.82%\n"
     ]
    }
   ],
   "source": [
    "print('A chance de ao selecionar uma pessoa ao acaso ela ser parda e ter nível superior completo é de 4.14%')\n",
    "print('A chance de ao selecionar uma pessoa ao acaso ela ser branca e ter nível superior completo é de 8.82%')"
   ]
  },
  {
   "cell_type": "markdown",
   "id": "f9800e00",
   "metadata": {},
   "source": [
    "## (0,25)\n",
    "\n",
    "Qual a chance das pessoas dessas mesmas raças terem apenas o ensino fundamental I completo?"
   ]
  },
  {
   "cell_type": "code",
   "execution_count": 79,
   "id": "048390eb",
   "metadata": {},
   "outputs": [],
   "source": [
    "notas.append(0)"
   ]
  },
  {
   "cell_type": "code",
   "execution_count": 80,
   "id": "6a6510e5",
   "metadata": {},
   "outputs": [
    {
     "name": "stdout",
     "output_type": "stream",
     "text": [
      "A chance de ao selecionar uma pessoa parda ao acaso ela e ela ter ensino fundamental I é de 43.17%\n",
      "A chance de ao selecionar uma pessoa branca ao acaso ela e ela ter ensino fundamental I é de 84.50%\n"
     ]
    }
   ],
   "source": [
    "print('A chance de ao selecionar uma pessoa parda ao acaso ela e ela ter ensino fundamental I é de 43.17%')\n",
    "print('A chance de ao selecionar uma pessoa branca ao acaso ela e ela ter ensino fundamental I é de 84.50%')"
   ]
  },
  {
   "cell_type": "markdown",
   "id": "332c49b6",
   "metadata": {},
   "source": [
    "## (0,25)\n",
    "Se pegarmos uma pessoa aleatória, qual a chance dela ser indigena e ter terminado o ensino médio?"
   ]
  },
  {
   "cell_type": "code",
   "execution_count": 81,
   "id": "cd54d1fb",
   "metadata": {},
   "outputs": [],
   "source": [
    "notas.append(0.25)"
   ]
  },
  {
   "cell_type": "code",
   "execution_count": 82,
   "id": "62fdfad2",
   "metadata": {},
   "outputs": [
    {
     "name": "stdout",
     "output_type": "stream",
     "text": [
      "A chance de ao selecionar uma pessoa ao acaso ela ser indígena e ter nível médio completo é de 0.11%\n"
     ]
    }
   ],
   "source": [
    "print('A chance de ao selecionar uma pessoa ao acaso ela ser indígena e ter nível médio completo é de 0.11%')"
   ]
  },
  {
   "cell_type": "markdown",
   "id": "0014661b",
   "metadata": {},
   "source": [
    "## (0,5)\n",
    "\n",
    "Se pegarmos uma pessoa aleatória que estudou até o ensino médio, qual a chance dela ser indigena?"
   ]
  },
  {
   "cell_type": "code",
   "execution_count": 83,
   "id": "4cccde85",
   "metadata": {},
   "outputs": [],
   "source": [
    "notas.append(0.25)"
   ]
  },
  {
   "cell_type": "code",
   "execution_count": 84,
   "id": "1fb8d5a7",
   "metadata": {},
   "outputs": [
    {
     "name": "stdout",
     "output_type": "stream",
     "text": [
      "A chance de pegarmos uma pessoa aleatória que estudou até o ensino médio, a chance dela ser indigena é de 0.26%\n"
     ]
    }
   ],
   "source": [
    "total = 0.001070 + 0.115305 + 0.031612 + 0.001148 + 0.262898\n",
    "chance = 0.001070/total\n",
    "\n",
    "print(f'A chance de pegarmos uma pessoa aleatória que estudou até o ensino médio, a chance dela ser indigena é de {chance * 100 :.2f}%')"
   ]
  },
  {
   "cell_type": "markdown",
   "id": "7ef7fb62",
   "metadata": {},
   "source": [
    "## (0,5)\n",
    "\n",
    "Por que as probabilidades acima são diferentes? Explique com suas palavras."
   ]
  },
  {
   "cell_type": "markdown",
   "id": "fc259fc1",
   "metadata": {},
   "source": [
    "> "
   ]
  },
  {
   "cell_type": "code",
   "execution_count": 85,
   "id": "c2cfd8aa",
   "metadata": {},
   "outputs": [],
   "source": [
    "notas.append(0.5)"
   ]
  },
  {
   "cell_type": "code",
   "execution_count": 86,
   "id": "9ebe4a26",
   "metadata": {},
   "outputs": [
    {
     "name": "stdout",
     "output_type": "stream",
     "text": [
      "Isso ocorre por conta da informação inicial que nós temos no segundo exemplo, nele já sabemos que a pessoa que selecionada já \n",
      "concluiu o ensino médio, por conta disso vamos trabalhar apenas com o universo de pessoas que concluiram o ensino médio. No primeiro\n",
      "exemplo não temos essa informação inicial e, por conta disso, trabalhamos com todo o universo de pessoas.\n"
     ]
    }
   ],
   "source": [
    "print('''Isso ocorre por conta da informação inicial que nós temos no segundo exemplo, nele já sabemos que a pessoa que selecionada já \n",
    "concluiu o ensino médio, por conta disso vamos trabalhar apenas com o universo de pessoas que concluiram o ensino médio. No primeiro\n",
    "exemplo não temos essa informação inicial e, por conta disso, trabalhamos com todo o universo de pessoas.''')"
   ]
  },
  {
   "cell_type": "markdown",
   "id": "b9218790",
   "metadata": {},
   "source": [
    "# Sistemas lineares"
   ]
  },
  {
   "cell_type": "markdown",
   "id": "ad7591e5",
   "metadata": {},
   "source": [
    "A **regressão linear** é uma ferramenta importantissíma no dia-a-dia de uma pessoa que trabalha com dados. Enquanto não estudamos a fundo suas propriedades e alguns métodos eficientes para o cálculo, vamos ver o que acontece 'por baixo dos panos'.\n",
    "\n",
    "Para isso, vamos encontrar um polinômio de 3º grau que passe pelos pontos(−1, 4), (0, -3),\n",
    "(3, 2) e (4, 5).\n",
    "\n",
    "**Atenção:** Tente resolver o problema **antes** de olhar as dicas!"
   ]
  },
  {
   "cell_type": "markdown",
   "id": "3611a77f",
   "metadata": {},
   "source": [
    "## (0,1)\n",
    "\n",
    "Escreva uma equação genérica do 3º grau com coeficientes a,b,c,d."
   ]
  },
  {
   "cell_type": "markdown",
   "id": "628cc03d",
   "metadata": {},
   "source": [
    "<details>\n",
    "    <summary>🙆‍♂️ Dica 🙋‍</summary>\n",
    "\n",
    "Econtrou algo parecido com: $y = f(x) = ax^3 + bx^2 + cx + d$ ? \n",
    "    \n",
    "</details> \n",
    "\n"
   ]
  },
  {
   "cell_type": "code",
   "execution_count": 87,
   "id": "d8ea394f",
   "metadata": {},
   "outputs": [],
   "source": [
    "notas.append(0.1)"
   ]
  },
  {
   "cell_type": "code",
   "execution_count": 88,
   "id": "2da5ce69",
   "metadata": {},
   "outputs": [],
   "source": [
    "def polinomio_3_grau (x, a = 1, b = 1, c = 1, d = 1):\n",
    "    y = a*x**3 + b*x**2 + c*x + d\n",
    "\n",
    "    return y"
   ]
  },
  {
   "cell_type": "markdown",
   "id": "4c9e3fb8",
   "metadata": {},
   "source": [
    "## (0,1)\n",
    "\n",
    "Represente os pontos num sistema de coordenadas bi-dimensional. "
   ]
  },
  {
   "cell_type": "markdown",
   "id": "f3858494",
   "metadata": {},
   "source": [
    "<details>\n",
    "    <summary>🙆‍♂️ Dica 🙋‍</summary>\n",
    "\n",
    "Crie dois vetores, x e y, e faça um scatterplot.    \n",
    "</details>    "
   ]
  },
  {
   "cell_type": "code",
   "execution_count": 89,
   "id": "3e9ab555",
   "metadata": {},
   "outputs": [],
   "source": [
    "notas.append(0.1)"
   ]
  },
  {
   "cell_type": "code",
   "execution_count": 90,
   "id": "f25fc637",
   "metadata": {},
   "outputs": [
    {
     "data": {
      "text/plain": [
       "<AxesSubplot:>"
      ]
     },
     "execution_count": 90,
     "metadata": {},
     "output_type": "execute_result"
    },
    {
     "data": {
      "image/png": "[encoded data removed]",
      "text/plain": [
       "<Figure size 432x288 with 1 Axes>"
      ]
     },
     "metadata": {
      "needs_background": "light"
     },
     "output_type": "display_data"
    }
   ],
   "source": [
    "lista_x = [i for i in range(-20, 20, 1)]\n",
    "\n",
    "lista_y = [polinomio_3_grau(x) for x in lista_x]\n",
    "\n",
    "sns.scatterplot(x = lista_x, y = lista_y)"
   ]
  },
  {
   "cell_type": "markdown",
   "id": "e0b0680a",
   "metadata": {},
   "source": [
    "## (0,3)\n",
    "\n",
    "Escreva o sistema de equações lineares para o problema."
   ]
  },
  {
   "cell_type": "markdown",
   "id": "0a81b889",
   "metadata": {},
   "source": [
    "<details>\n",
    "    <summary>🙆‍♂️ Dica 🙋‍</summary>\n",
    "\n",
    "Substitua os valores de x e y na expressão acima. \n",
    "    \n",
    "</details>    "
   ]
  },
  {
   "cell_type": "markdown",
   "id": "1c88587d",
   "metadata": {
    "ExecuteTime": {
     "end_time": "2022-01-31T20:41:33.037634Z",
     "start_time": "2022-01-31T20:41:33.023663Z"
    }
   },
   "source": [
    "<details>\n",
    "    <summary>🙆‍♂️ Resultado  🙋‍</summary>\n",
    "\n",
    "$\\begin{equation} \\begin{cases}\n",
    "-a + b - c + d = 0\\\\  \n",
    "d = 1 \\\\\n",
    "27a + 9b + 3c + d = -1\\\\\n",
    "64a + 16b +4c + d = 0\n",
    "\\end{cases} \\end{equation}$\n",
    "    \n",
    "</details>    \n",
    "\n"
   ]
  },
  {
   "cell_type": "code",
   "execution_count": 91,
   "id": "f513bd24",
   "metadata": {},
   "outputs": [],
   "source": [
    "notas.append(0.3)"
   ]
  },
  {
   "cell_type": "code",
   "execution_count": 92,
   "id": "5273784e",
   "metadata": {},
   "outputs": [
    {
     "ename": "SyntaxError",
     "evalue": "invalid character in identifier (Temp/ipykernel_8372/970536664.py, line 1)",
     "output_type": "error",
     "traceback": [
      "\u001b[1;36m  File \u001b[1;32m\"C:\\Users\\MARCOS~1\\AppData\\Local\\Temp/ipykernel_8372/970536664.py\"\u001b[1;36m, line \u001b[1;32m1\u001b[0m\n\u001b[1;33m    (−1, 4), (0, -3), (3, 2) e (4, 5)\u001b[0m\n\u001b[1;37m      ^\u001b[0m\n\u001b[1;31mSyntaxError\u001b[0m\u001b[1;31m:\u001b[0m invalid character in identifier\n"
     ]
    }
   ],
   "source": [
    "(−1, 4), (0, -3), (3, 2) e (4, 5)"
   ]
  },
  {
   "cell_type": "code",
   "execution_count": null,
   "id": "542b3151",
   "metadata": {},
   "outputs": [],
   "source": [
    "4 = - a + b - c + d\n",
    "-3 = d\n",
    "2 = a*27 + b*9 + c*3 + d\n",
    "5 = a*64 + b*16 + c*4 + d\n"
   ]
  },
  {
   "cell_type": "markdown",
   "id": "904564e8",
   "metadata": {},
   "source": [
    "## (0,3)\n",
    "\n",
    "Reescreva o sistema na forma matricial."
   ]
  },
  {
   "cell_type": "markdown",
   "id": "557ecb38",
   "metadata": {},
   "source": [
    "<details>\n",
    "    <summary>🙆‍♂️ Resposta 🙋‍</summary>\n",
    "\n",
    "$\\begin{bmatrix}\n",
    "-1 & 1 & -1 & 1 \\\\\n",
    "0 & 0 & 0 & 1 \\\\\n",
    "27 & 9 & 3 & 1 \\\\\n",
    "64 & 16 & 4 & 1\n",
    "\\end{bmatrix}\n",
    "\\begin{bmatrix}\n",
    "a \\\\ b \\\\ c \\\\ d\n",
    "\\end{bmatrix}\n",
    "= \\begin{bmatrix}\n",
    "0 \\\\ 1 \\\\ -1 \\\\ 0\n",
    " \\end{bmatrix}$\n",
    "    \n",
    "</details>   "
   ]
  },
  {
   "cell_type": "code",
   "execution_count": 93,
   "id": "eeeec101",
   "metadata": {},
   "outputs": [],
   "source": [
    "notas.append(0.3)"
   ]
  },
  {
   "cell_type": "code",
   "execution_count": 94,
   "id": "3f06ef8f",
   "metadata": {},
   "outputs": [],
   "source": [
    "A = [[-1, 1, -1, 1],\n",
    "     [0, 0, 0, 1],\n",
    "     [27, 9, 3, 1],\n",
    "     [64, 16, 4, 1]]\n",
    "\n",
    "# X = [[a],\n",
    "#      [b],\n",
    "#      [c],\n",
    "#      [d]]\n",
    "\n",
    "Y = [[4],\n",
    "     [-3],\n",
    "     [2],\n",
    "     [5]]\n",
    "\n",
    "A = np.array(A)\n",
    "Y = np.array(Y)"
   ]
  },
  {
   "cell_type": "code",
   "execution_count": null,
   "id": "05ea3deb",
   "metadata": {},
   "outputs": [],
   "source": []
  },
  {
   "cell_type": "markdown",
   "id": "ae5ee409",
   "metadata": {},
   "source": [
    "## (0,5)\n",
    "\n",
    "Resolva o sistema. "
   ]
  },
  {
   "cell_type": "code",
   "execution_count": 95,
   "id": "14ab846b",
   "metadata": {},
   "outputs": [],
   "source": [
    "notas.append(0.5)"
   ]
  },
  {
   "cell_type": "code",
   "execution_count": 96,
   "id": "d7d02bc6",
   "metadata": {},
   "outputs": [
    {
     "data": {
      "text/plain": [
       "array([[-0.36666667],\n",
       "       [ 2.9       ],\n",
       "       [-3.73333333],\n",
       "       [-3.        ]])"
      ]
     },
     "execution_count": 96,
     "metadata": {},
     "output_type": "execute_result"
    }
   ],
   "source": [
    "A_inv = np.linalg.inv(A)\n",
    "X = np.dot(A_inv, Y)\n",
    "X"
   ]
  },
  {
   "cell_type": "markdown",
   "id": "22a718b8",
   "metadata": {},
   "source": [
    "## (0,1)\n",
    "\n",
    "Reescreva o polinômio, substituindo a,b,c e d por seus respectivos valores."
   ]
  },
  {
   "cell_type": "markdown",
   "id": "9b968682",
   "metadata": {},
   "source": [
    "<details>\n",
    "    <summary>🙆‍♂️ Resposta 🙋‍</summary>\n",
    "\n",
    "Substitua os valores de x e y na expressão acima. Você deve encontrar:  \n",
    "$y = p(x) = -0.36666667x^3 - + 2.9x^2 - 3.73333333x - 3$   \n",
    "</details>   "
   ]
  },
  {
   "cell_type": "code",
   "execution_count": 97,
   "id": "be939d66",
   "metadata": {},
   "outputs": [],
   "source": [
    "notas.append(0.1)"
   ]
  },
  {
   "cell_type": "code",
   "execution_count": 98,
   "id": "1bd9e035",
   "metadata": {},
   "outputs": [],
   "source": [
    "#y = -0.36666667*x**3 - + 2.9*x**2 - 3.73333333*x - 3 \n",
    "\n",
    "def polinomio_3_grau (x, a = -0.36666667, b = 2.9, c = -3.73333333, d = -3):\n",
    "    y = a*x**3 + b*x**2 + c*x + d\n",
    "\n",
    "    return y"
   ]
  },
  {
   "cell_type": "markdown",
   "id": "a024777e",
   "metadata": {},
   "source": [
    "## (0,1)\n",
    "Crie uma função que represente o polinômio acima. Em substitua os valores de x para calcular y. O resultado encontrado é igual ao do começo do problema?"
   ]
  },
  {
   "cell_type": "code",
   "execution_count": 99,
   "id": "2f1f0611",
   "metadata": {},
   "outputs": [],
   "source": [
    "notas.append(0.1)"
   ]
  },
  {
   "cell_type": "code",
   "execution_count": 101,
   "id": "f08858a6",
   "metadata": {},
   "outputs": [
    {
     "name": "stdout",
     "output_type": "stream",
     "text": [
      "Não, mudou completamente.\n"
     ]
    },
    {
     "data": {
      "image/png": "[encoded data removed]",
      "text/plain": [
       "<Figure size 432x288 with 1 Axes>"
      ]
     },
     "metadata": {
      "needs_background": "light"
     },
     "output_type": "display_data"
    }
   ],
   "source": [
    "lista_x = [i for i in range(-20, 20, 1)]\n",
    "\n",
    "lista_y = [polinomio_3_grau(x) for x in lista_x]\n",
    "\n",
    "sns.scatterplot(x = lista_x, y = lista_y)\n",
    "\n",
    "print('Não, mudou completamente.')"
   ]
  },
  {
   "cell_type": "markdown",
   "id": "5f9a675e",
   "metadata": {},
   "source": [
    "## (0,5)\n",
    "\n",
    "De forma simplificada, acabamos de realizar um cálculo muito similar ao que ocorre na **regressão linear**, onde precisamos encontrar os coeficientes que satisfazem um conjuto de equações de acordo com os dados do problema.\n",
    "\n",
    "Note que encontramos os coeficientes de um polinômio de 3º grau usando sistemas lineares. Se isso está correto, por que ainda dizemos **sistemas lineares**?"
   ]
  },
  {
   "cell_type": "code",
   "execution_count": 102,
   "id": "4da0b23a",
   "metadata": {},
   "outputs": [],
   "source": [
    "notas.append(0.5)"
   ]
  },
  {
   "cell_type": "code",
   "execution_count": 103,
   "id": "c44e82a8",
   "metadata": {},
   "outputs": [
    {
     "name": "stdout",
     "output_type": "stream",
     "text": [
      "Por que, na verdade, descobrir os coeficientes já sabendo o x é um sistema linar. Quando nos livramos \n",
      "do x (quando o x é conhecido), o sistema de equações para descobrir os coeficientes é um sistema linear.\n"
     ]
    }
   ],
   "source": [
    "print('''Por que, na verdade, descobrir os coeficientes já sabendo o x é um sistema linar. Quando nos livramos \n",
    "do x (quando o x é conhecido), o sistema de equações para descobrir os coeficientes é um sistema linear.''')"
   ]
  },
  {
   "cell_type": "code",
   "execution_count": 104,
   "id": "f567027d",
   "metadata": {},
   "outputs": [
    {
     "data": {
      "text/plain": [
       "11.12"
      ]
     },
     "execution_count": 104,
     "metadata": {},
     "output_type": "execute_result"
    }
   ],
   "source": [
    "np.sum(notas)"
   ]
  }
 ],
 "metadata": {
  "kernelspec": {
   "display_name": "Python 3",
   "language": "python",
   "name": "python3"
  },
  "language_info": {
   "codemirror_mode": {
    "name": "ipython",
    "version": 3
   },
   "file_extension": ".py",
   "mimetype": "text/x-python",
   "name": "python",
   "nbconvert_exporter": "python",
   "pygments_lexer": "ipython3",
   "version": "3.8.10"
  },
  "toc": {
   "base_numbering": 1,
   "nav_menu": {},
   "number_sections": true,
   "sideBar": true,
   "skip_h1_title": false,
   "title_cell": "Table of Contents",
   "title_sidebar": "Contents",
   "toc_cell": false,
   "toc_position": {
    "height": "calc(100% - 180px)",
    "left": "10px",
    "top": "150px",
    "width": "384px"
   },
   "toc_section_display": true,
   "toc_window_display": true
  }
 },
 "nbformat": 4,
 "nbformat_minor": 5
}
