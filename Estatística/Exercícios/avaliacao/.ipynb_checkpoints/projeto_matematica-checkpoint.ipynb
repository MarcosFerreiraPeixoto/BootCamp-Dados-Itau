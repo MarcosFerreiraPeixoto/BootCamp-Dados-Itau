{
 "cells": [
  {
   "cell_type": "markdown",
   "id": "1b321405",
   "metadata": {},
   "source": [
    "# Introdução ao projeto"
   ]
  },
  {
   "cell_type": "markdown",
   "id": "a8d5bdb8",
   "metadata": {},
   "source": [
    "Você acabou de ser contratado para trabalhar no IBGE e analisar os dados do PNAD - 2015. Desenvolva o projeto seguindo as instruções.\n",
    "\n",
    "**Leia atentamente as notas abaixo e NÃO ENTRE EM PÂNICO!**\n",
    "\n",
    "1. O Prazo de entrega do projeto é até **03/02/2022 as 09:30**.\n",
    "1. Nas questões dissertativas, seja direto.\n",
    "1. O valor total das etapas do projeto é 12 pontos.\n",
    "1. O valor máximo da nota será 10.\n",
    "1. Questões em branco terão o valor descontado.\n",
    "1. Questões erradas **não** serão descontadas.\n",
    "1. Consulta ao material e notas de aula permitida. \n",
    "1. Podem ser usados materias suplementares que vocês encontraram na internet **ao longo do curso**.\n",
    "1. Sem contato com os colegas. As dúvidas deverão ser enviadas aos professores. \n",
    "1. **Dúvidas** sobre `python` e `pandas` devem ser trazidas o **mais rápido possível**.\n",
    "1. No caso de resoluções ou desenhos manuais, cole uma cópia da resolução numa célula markdown.\n",
    "1. Alguns colegas farão o projeto numa data posterior por questões de saúde. Por favor não comentem em público sobre as questões até que todos tenham entregue o arquivo final."
   ]
  },
  {
   "cell_type": "code",
   "execution_count": null,
   "id": "b256dc7d",
   "metadata": {},
   "outputs": [],
   "source": []
  },
  {
   "cell_type": "markdown",
   "id": "e32d3834",
   "metadata": {},
   "source": [
    "## Pesquisa Nacional por Amostra de Domicílios - 2015\n",
    "\n",
    "A <b>Pesquisa Nacional por Amostra de Domicílios - PNAD</b> investiga anualmente, de forma permanente, características gerais da população, de educação, trabalho, rendimento e habitação e outras, com periodicidade variável, de acordo com as necessidades de informação para o país, como as características sobre migração, fecundidade, nupcialidade, saúde, segurança alimentar, entre outros temas. O levantamento dessas estatísticas constitui, ao longo dos 49 anos de realização da pesquisa, um importante instrumento para formulação, validação e avaliação de políticas orientadas para o desenvolvimento socioeconômico e a melhoria das condições de vida no Brasil.\n",
    "\n",
    "## Variáveis utilizadas\n",
    "\n",
    "### Renda\n",
    "\n",
    "Rendimento mensal do trabalho principal para pessoas de 10 anos ou mais de idade.\n",
    "\n",
    "### Idade\n",
    "\n",
    "Idade do morador na data de referência em anos.\n",
    "\n",
    "### Altura (elaboração própria)\n",
    "\n",
    "Altura do morador em metros.\n",
    "\n",
    "### UF\n",
    "\n",
    "|Código|Descrição|\n",
    "|---|---|\n",
    "|11|Rondônia|\n",
    "|12|Acre|\n",
    "|13|Amazonas|\n",
    "|14|Roraima|\n",
    "|15|Pará|\n",
    "|16|Amapá|\n",
    "|17|Tocantins|\n",
    "|21|Maranhão|\n",
    "|22|Piauí|\n",
    "|23|Ceará|\n",
    "|24|Rio Grande do Norte|\n",
    "|25|Paraíba|\n",
    "|26|Pernambuco|\n",
    "|27|Alagoas|\n",
    "|28|Sergipe|\n",
    "|29|Bahia|\n",
    "|31|Minas Gerais|\n",
    "|32|Espírito Santo|\n",
    "|33|Rio de Janeiro|\n",
    "|35|São Paulo|\n",
    "|41|Paraná|\n",
    "|42|Santa Catarina|\n",
    "|43|Rio Grande do Sul|\n",
    "|50|Mato Grosso do Sul|\n",
    "|51|Mato Grosso|\n",
    "|52|Goiás|\n",
    "|53|Distrito Federal|\n",
    "\n",
    "### Sexo\n",
    "\n",
    "|Código|Descrição|\n",
    "|---|---|\n",
    "|0|Masculino|\n",
    "|1|Feminino|\n",
    "\n",
    "### Anos de Estudo\n",
    "\n",
    "|Código|Descrição|\n",
    "|---|---|\n",
    "|1|Sem instrução e menos de 1 ano|\n",
    "|2|1 ano|\n",
    "|3|2 anos|\n",
    "|4|3 anos|\n",
    "|5|4 anos|\n",
    "|6|5 anos|\n",
    "|7|6 anos|\n",
    "|8|7 anos|\n",
    "|9|8 anos|\n",
    "|10|9 anos|\n",
    "|11|10 anos|\n",
    "|12|11 anos|\n",
    "|13|12 anos|\n",
    "|14|13 anos|\n",
    "|15|14 anos|\n",
    "|16|15 anos ou mais|\n",
    "|17|Não determinados| \n",
    "||Não aplicável|\n",
    "\n",
    "### Cor\n",
    "\n",
    "|Código|Descrição|\n",
    "|---|---|\n",
    "|0|Indígena|\n",
    "|2|Branca|\n",
    "|4|Preta|\n",
    "|6|Amarela|\n",
    "|8|Parda|\n",
    "|9|Sem declaração|\n",
    "\n",
    "### Observações\n",
    "\n",
    "Os seguintes tratamentos foram realizados nos dados originais:\n",
    "1. Foram eliminados os registros onde a <b>Renda</b> era inválida (999 999 999 999);\n",
    "2. Foram eliminados os registros onde a <b>Renda</b> era missing;\n",
    "3. Foram considerados somente os registros das <b>Pessoas de Referência</b> de cada domicílio (responsável pelo domicílio)."
   ]
  },
  {
   "cell_type": "markdown",
   "id": "d7366220",
   "metadata": {},
   "source": [
    "## Dados\n",
    "\n",
    "Carrega a base de dados e mostre as 5 primeiras linhas."
   ]
  },
  {
   "cell_type": "code",
   "execution_count": null,
   "id": "099a8664",
   "metadata": {
    "ExecuteTime": {
     "end_time": "2022-01-31T22:37:36.702095Z",
     "start_time": "2022-01-31T22:37:36.584175Z"
    }
   },
   "outputs": [],
   "source": [
    "df = pd.read_csv('pnad_2015.csv')\n",
    "df"
   ]
  },
  {
   "cell_type": "code",
   "execution_count": null,
   "id": "8f00755e",
   "metadata": {},
   "outputs": [],
   "source": []
  },
  {
   "cell_type": "markdown",
   "id": "d2c2870f",
   "metadata": {},
   "source": [
    "# Estudar o acesso à educação e o  impacto dos estudos na renda da população  "
   ]
  },
  {
   "cell_type": "markdown",
   "id": "3dd4f1ce",
   "metadata": {},
   "source": [
    "A tabela do PNAD 2015 traz, entre outras informações, o número de anos que a pessoa de referência do domicilio estudou, bem como a cor e a renda autodeclaradas."
   ]
  },
  {
   "cell_type": "markdown",
   "id": "58d02157",
   "metadata": {},
   "source": [
    "##  (0,25)\n",
    "\n",
    "Calcule a média, moda e mediana para a variável `Renda`. Faz sentido calcular todos esses valores para essa variável? Você faria algo diferente? Comente suas respotas e intereprete os resultados obtidos."
   ]
  },
  {
   "cell_type": "code",
   "execution_count": null,
   "id": "0f3020f3",
   "metadata": {},
   "outputs": [],
   "source": []
  },
  {
   "cell_type": "markdown",
   "id": "1fb9b601",
   "metadata": {},
   "source": [
    "##  (0,25)\n",
    "\n",
    "Calcule as medidas de tendência central para a variável `Cor`. Faz sentido calcular todas elas para essa variável? Você faria algo diferente? Comente suas respotas e intereprete os resultados obtidos."
   ]
  },
  {
   "cell_type": "code",
   "execution_count": null,
   "id": "8a3719f9",
   "metadata": {},
   "outputs": [],
   "source": []
  },
  {
   "cell_type": "markdown",
   "id": "acdaafbb",
   "metadata": {},
   "source": [
    "## (0,25) \n",
    "\n",
    "Como você classificaria a variável `Anos de Estudo`? Os dados podem ser usados como estão?\n",
    "\n",
    "Quando falamos de escolaridade, é comum nos referirmos a ciclos de ensino. Usando a variável `Anos de Estudo`, crie uma coluna `escolaridade` no dataframe com os seguintes valores:\n",
    "\n",
    "* `0 - Sem instrução` para aqueles que estudaram menos de um ano.\n",
    "* `1 - Fund. I incompleto` para quem não completou os 4 anos do ciclo básico.\n",
    "* `2 - Fund. I completo` para quem concluiu os 4 anos do ciclo básico.\n",
    "* `3 - Fund. II incompleto` para quem completou os 4 anos do primeiro ciclo básico e iniciou, mas não concluiu o segundo (não terminou os 8 anos).\n",
    "* `4 - Fund. II completo` para quem concluiu os 4 anos do segundo ciclo básico.\n",
    "* `5 - Médio incompleto` para quem completou os 8 anos do ciclo básico e iniciou, mas não concluiu o ensino médio.\n",
    "* `6 - Médio completo` para quem completou os 4 anos do primeiro  ciclo básico mas não o segundo (não terminou os 8 anos).\n",
    "* `7 - Superior incompleto` para quem concluiu o ensino médio e começou, mas não terminou o ensino superior.\n",
    "* `8 - Superior completo` para quem completou o ensino superior e também para fez pós-graduação.\n",
    "\n",
    "Não inclua na análise pessoas que não souberam definir o tempo de estudo. Por que podemos descartar esses dados sem prejuízos à análise?"
   ]
  },
  {
   "cell_type": "markdown",
   "id": "b6d72314",
   "metadata": {},
   "source": [
    "<details>\n",
    "    <summary>🙆‍♂️ Sugestão de código (clique aqui) 🙋‍</summary>\n",
    "\n",
    "        df = df[df['Anos de Estudo']!=17].copy()\n",
    "\n",
    "        df['escolaridade'] = 'outros'\n",
    "\n",
    "        df.loc[(df['Anos de Estudo']==1), 'escolaridade'] = '0 - Sem instrução'\n",
    "        df.loc[(df['Anos de Estudo']>1) & (df['Anos de Estudo']<5), 'escolaridade'] = '1 - Fund. I incompleto'\n",
    "        df.loc[(df['Anos de Estudo']==5), 'escolaridade' ] = '2 - Fund. I completo'\n",
    "        df.loc[(df['Anos de Estudo']>5) & (df['Anos de Estudo']<9), 'escolaridade'] = '3 - Fund. II incompleto'\n",
    "        df.loc[(df['Anos de Estudo']==9), 'escolaridade'] = '4 - Fund. II completo'\n",
    "        df.loc[(df['Anos de Estudo']>9) & (df['Anos de Estudo']<12), 'escolaridade'] = '5 - Médio incompleto'\n",
    "        df.loc[(df['Anos de Estudo']==12), 'escolaridade'] = '6 - Médio completo'\n",
    "        df.loc[(df['Anos de Estudo']>12) & (df['Anos de Estudo']<16), 'escolaridade'] = '7 - Superior incompleto'\n",
    "        df.loc[(df['Anos de Estudo']==16) , 'escolaridade'] = '8 - Superior completo'\n",
    "\n",
    "        niveis = list(df['escolaridade'].sort_values().unique())\n",
    "        cores = df['Cor'].sort_values().unique().tolist()\n",
    "\n",
    "</details>    "
   ]
  },
  {
   "cell_type": "code",
   "execution_count": null,
   "id": "33c138f7",
   "metadata": {},
   "outputs": [],
   "source": []
  },
  {
   "cell_type": "markdown",
   "id": "22fab0e2",
   "metadata": {},
   "source": [
    "## (0,25) \n",
    "Crie uma tabela de frequências para a variável `escolaridade` (absoluta, relativa e o cumulativo para as duas anteriores).\n",
    "\n",
    "As linhas devem ser ordenadas do menor para maior nível de escolaridade."
   ]
  },
  {
   "cell_type": "code",
   "execution_count": null,
   "id": "50527f97",
   "metadata": {},
   "outputs": [],
   "source": []
  },
  {
   "cell_type": "markdown",
   "id": "ce25ed7f",
   "metadata": {},
   "source": [
    "## (0,25)\n",
    "\n",
    "Crie uma tabela de frequências combianando os campos `escolaridade` e `Cor`. A tabela deve ser normailizada e mostrar somatórios de linhas e colunas."
   ]
  },
  {
   "cell_type": "code",
   "execution_count": null,
   "id": "d652b155",
   "metadata": {},
   "outputs": [],
   "source": []
  },
  {
   "cell_type": "markdown",
   "id": "f3285e50",
   "metadata": {},
   "source": [
    "**O PNAD é uma pesquisa por amostragem que, em 2015, entrevistou quase 77 mil familhas. Qual o intervalo de confiança da renda média do brasileiro?**"
   ]
  },
  {
   "cell_type": "code",
   "execution_count": null,
   "id": "2234315d",
   "metadata": {},
   "outputs": [],
   "source": []
  },
  {
   "cell_type": "markdown",
   "id": "9bfafe32",
   "metadata": {},
   "source": [
    "## (0,25)\n",
    "Considere o nível de significancia 3,5% e calcule passo-a-passo."
   ]
  },
  {
   "cell_type": "code",
   "execution_count": null,
   "id": "ef89d381",
   "metadata": {},
   "outputs": [],
   "source": []
  },
  {
   "cell_type": "markdown",
   "id": "551394bb",
   "metadata": {},
   "source": [
    "\n",
    "## (0,10)\n",
    "Considere o nível de significancia 0,02% e calcule como preferir."
   ]
  },
  {
   "cell_type": "code",
   "execution_count": null,
   "id": "350547e0",
   "metadata": {},
   "outputs": [],
   "source": []
  },
  {
   "cell_type": "markdown",
   "id": "cff965d1",
   "metadata": {},
   "source": [
    "## (0,25)\n",
    "Por que os intervalos acima são diferentes?\n",
    "\n"
   ]
  },
  {
   "cell_type": "markdown",
   "id": "04e626cf",
   "metadata": {},
   "source": [
    "> "
   ]
  },
  {
   "cell_type": "code",
   "execution_count": null,
   "id": "2a368cca",
   "metadata": {},
   "outputs": [],
   "source": []
  },
  {
   "cell_type": "markdown",
   "id": "831fd5ac",
   "metadata": {},
   "source": [
    "## (0,25)\n",
    "\n",
    "Explique o significado do intervalo de confiança para os níveis calculados."
   ]
  },
  {
   "cell_type": "markdown",
   "id": "32061b74",
   "metadata": {},
   "source": [
    "> "
   ]
  },
  {
   "cell_type": "code",
   "execution_count": null,
   "id": "348d63ba",
   "metadata": {},
   "outputs": [],
   "source": []
  },
  {
   "cell_type": "markdown",
   "id": "e91d603a",
   "metadata": {},
   "source": [
    "## (0,25) \n",
    "A média é a melhor métrica para calcular rendimentos no Brasil? Justifique sua resposta."
   ]
  },
  {
   "cell_type": "markdown",
   "id": "28efa2d9",
   "metadata": {},
   "source": [
    ">"
   ]
  },
  {
   "cell_type": "code",
   "execution_count": null,
   "id": "2111543a",
   "metadata": {},
   "outputs": [],
   "source": []
  },
  {
   "cell_type": "markdown",
   "id": "f08ba2f8",
   "metadata": {},
   "source": [
    "**Após a coleta dos dados, você foi indagado sobre o impacto do tempo de estudo na renda dos brasileiros.**\n",
    "\n",
    "## (0,25)\n",
    "\n",
    "Com base no conjunto de dados, calcule medidas de tendência central, de dispersão e os intervalos quartis da variável `Renda` para cada nível de `escolaridade`."
   ]
  },
  {
   "cell_type": "code",
   "execution_count": null,
   "id": "590e7c4d",
   "metadata": {},
   "outputs": [],
   "source": []
  },
  {
   "cell_type": "markdown",
   "id": "4f6710c9",
   "metadata": {},
   "source": [
    "## (0,25)\n",
    "\n",
    "Analisando as médias e desvios padrão acima, você consegue afirmar que o salário sempre aumenta quanto maior o tempo de estudo? Justifique.\n",
    "\n",
    "ps: Não é necessário fazer contas."
   ]
  },
  {
   "cell_type": "markdown",
   "id": "a90c04ae",
   "metadata": {},
   "source": [
    ">"
   ]
  },
  {
   "cell_type": "code",
   "execution_count": null,
   "id": "8130d7c9",
   "metadata": {},
   "outputs": [],
   "source": []
  },
  {
   "cell_type": "markdown",
   "id": "1293fc40",
   "metadata": {},
   "source": [
    "## (0,10)\n",
    "\n",
    "Os valores da média e desvio padrão encontrados acima se referem à população? Justifique."
   ]
  },
  {
   "cell_type": "markdown",
   "id": "df9daee9",
   "metadata": {},
   "source": [
    ">"
   ]
  },
  {
   "cell_type": "code",
   "execution_count": null,
   "id": "b546e2aa",
   "metadata": {},
   "outputs": [],
   "source": []
  },
  {
   "cell_type": "markdown",
   "id": "0287a24d",
   "metadata": {},
   "source": [
    "##### **Como a quantidade de pessoas em cada nível de escolaridade varia bastante e, por ser inviável realizar outra pesquisa para conseguir mais dados, você, ex-aluno do Prof. Carrasco, realizará um teste estátisco para responder à questão sobre a impacto do estudo na renda.**\n",
    "\n",
    "## (0,25)\n",
    "\n",
    "Observado que as variâncias de renda em cada um dos níveis é muito grande, calcule o tamanho amostral de cada grupo para assegurar que o erro inferencial da média populacional estimada em cada um dos níveis seja no máximo R\\\\$150,00 com confiança de 94,25\\%.\n",
    "\n",
    "Resultado esperado: `print(nivel, n)` para cada nível.\n",
    " "
   ]
  },
  {
   "cell_type": "code",
   "execution_count": null,
   "id": "054f1ffc",
   "metadata": {},
   "outputs": [],
   "source": []
  },
  {
   "cell_type": "markdown",
   "id": "2d650465",
   "metadata": {},
   "source": [
    "## (0,10)\n",
    "\n",
    "Você deve ter encontrado tamanhos amostrais diferentes para cada um dos níveis de escolaridade. Para evitar problemas de desbalanceamento de classes em análises futuras, usaremos o maior valor encontrado como o tamanho amostral de todas as classes. Esse valor deve ser armazendado na variável `sample_size`.\n",
    "\n",
    "Por que fizemos essa escolha?"
   ]
  },
  {
   "cell_type": "code",
   "execution_count": null,
   "id": "b1a708d4",
   "metadata": {
    "ExecuteTime": {
     "end_time": "2022-01-31T22:37:36.703241Z",
     "start_time": "2022-01-31T22:37:36.610Z"
    }
   },
   "outputs": [],
   "source": [
    "sample_size = ?\n",
    "\n",
    "print(f'\\n O tamanho amostral é {sample_size}.')"
   ]
  },
  {
   "cell_type": "code",
   "execution_count": null,
   "id": "0eb80433",
   "metadata": {},
   "outputs": [],
   "source": []
  },
  {
   "cell_type": "markdown",
   "id": "b9ed4cb5",
   "metadata": {},
   "source": [
    "## (0,10)\n",
    "\n",
    "Qual tipo de desvio padrão foi utilizado para calcular os tamanhos amostrais: amostral ou populacional? Justifique sua escolha."
   ]
  },
  {
   "cell_type": "markdown",
   "id": "e8345eb7",
   "metadata": {},
   "source": [
    "> "
   ]
  },
  {
   "cell_type": "code",
   "execution_count": null,
   "id": "99f92d91",
   "metadata": {},
   "outputs": [],
   "source": []
  },
  {
   "cell_type": "markdown",
   "id": "5804d2cb",
   "metadata": {},
   "source": [
    "## (0,10)\n",
    "\n",
    "Qual expressão para o cálculo de `n` foi utilizada: finito ou infinito? Justifique."
   ]
  },
  {
   "cell_type": "markdown",
   "id": "b43e1f72",
   "metadata": {},
   "source": [
    "> "
   ]
  },
  {
   "cell_type": "code",
   "execution_count": null,
   "id": "4e7a4bf0",
   "metadata": {},
   "outputs": [],
   "source": []
  },
  {
   "cell_type": "markdown",
   "id": "a1a31750",
   "metadata": {},
   "source": [
    "## (0,25)\n",
    "\n",
    "Crie um dataframe com `sample_size` amostras para cada nível de escolaridade.\n",
    "\n",
    "Use `random_state=5`."
   ]
  },
  {
   "cell_type": "markdown",
   "id": "1a201650",
   "metadata": {},
   "source": [
    "<details>\n",
    "    <summary>💪 Desafio (clique aqui) 💪</summary>\n",
    "\n",
    "Consegue pensar em como criar os 9 dataframes em 1 ou 2 linhas? \n",
    "\n",
    "ps: **Não** serão descontados pontos de quem não cumprir o desafio!\n",
    "    \n",
    "</details>    "
   ]
  },
  {
   "cell_type": "code",
   "execution_count": null,
   "id": "055983d5",
   "metadata": {},
   "outputs": [],
   "source": []
  },
  {
   "cell_type": "markdown",
   "id": "5327a316",
   "metadata": {},
   "source": [
    "## (0,25)\n",
    "\n",
    "Calcule a media e desvio amostrais e o erro inferencial de cada uma das amostras criadas acima.\n",
    "\n",
    "Resultado esperado: `print([nivel, media_amostral, desvio_amostral, erro_inferencial])` para cada nível."
   ]
  },
  {
   "cell_type": "code",
   "execution_count": null,
   "id": "5d78892d",
   "metadata": {},
   "outputs": [],
   "source": []
  },
  {
   "cell_type": "markdown",
   "id": "19386b03",
   "metadata": {},
   "source": [
    "**Estamos prontos para testar nossa hippótese de que, quanto mais anos de estudo, maior o salário. Para isso, vamos análisar se ocorre um aumento significativo de renda entre dois níveis de instrução, conforme definidos no começo da aula.**\n",
    "\n",
    "**Exemplo:** \n",
    "1. Comparar renda média do grupo `0 - Sem instrução` com o grupo `1 - Fund. I incompleto`. \n",
    "2. Comparar renda média do grupo `1 - Fund. I incompleto` com o grupo `2 - Fund. I completo`.\n",
    "3. E assim por diante...."
   ]
  },
  {
   "cell_type": "markdown",
   "id": "d8b76f00",
   "metadata": {},
   "source": [
    "## (1,0)\n",
    "\n",
    "Para cada dois níveis de escolaridade consecutivos, teste se as médias de renda são iguais com nível de confiança de 99%.  \n",
    "\n",
    "Resultado esperado para cada comparação. Imprimir as seguintes informações (as opções dos termos entre paraenteses dependem das suas escolhas):\n",
    "\n",
    "* H_0: Renda de pessosas `nivel[i]` **(= ou !=)** `nivel[i+1]`.\n",
    "* [(**t ou z)**, p] \n",
    "* **(Aceitar ou Rejeitar)** H_0. "
   ]
  },
  {
   "cell_type": "markdown",
   "id": "9313bbac",
   "metadata": {},
   "source": [
    "<details>\n",
    "    <summary>🙆‍♂️ Dica (clique aqui) 🙋‍</summary>\n",
    "\n",
    "Você terá que repetir o mesmo cálculo diversas vezes. Use o poder do computador e escreva sua solução de forma genérica, de tal forma que você possa mudar os parâmetros necessários para realizar novos cálculos rapidamente.   \n",
    "</details>    "
   ]
  },
  {
   "cell_type": "code",
   "execution_count": null,
   "id": "1f751ced",
   "metadata": {},
   "outputs": [],
   "source": []
  },
  {
   "cell_type": "markdown",
   "id": "bba491ce",
   "metadata": {},
   "source": [
    "## (0,25)\n",
    "\n",
    "Quais suas conclusões sobre os resultados encontrados?"
   ]
  },
  {
   "cell_type": "markdown",
   "id": "fe1240cf",
   "metadata": {},
   "source": [
    "> "
   ]
  },
  {
   "cell_type": "code",
   "execution_count": null,
   "id": "d1537250",
   "metadata": {},
   "outputs": [],
   "source": []
  },
  {
   "cell_type": "markdown",
   "id": "0c9278b5",
   "metadata": {},
   "source": [
    "## (0,5)\n",
    "\n",
    "No exercício acima avaliamos se as médias de renda entre dois grupos são iguais ou diferentes, mas isso não diz muito sobre qual grupo ganha mais. Reformule sua hipótese inicial assumindo que o grupo com menor nível de escolaridade ganhe menos que o grupo seguinte com significância de 1%.\n",
    "\n",
    "Resultado esperado para cada comparação. Imprimir as seguintes informações (as opções dos termos entre paraenteses dependem das suas escolhas):\n",
    "\n",
    "* H_0: Renda de pessosas `nivel[i]` **(<= ou >= ou < ou >)** `nivel[i+1]`.\n",
    "* [(**t ou z)**, p] \n",
    "* **(Aceitar ou Rejeitar)** H_0. "
   ]
  },
  {
   "cell_type": "code",
   "execution_count": null,
   "id": "92581116",
   "metadata": {},
   "outputs": [],
   "source": []
  },
  {
   "cell_type": "markdown",
   "id": "d56115c7",
   "metadata": {},
   "source": [
    "## (0,25)\n",
    "\n",
    "Quais suas conclusões sobre os resultados encontrados?"
   ]
  },
  {
   "cell_type": "markdown",
   "id": "ce687456",
   "metadata": {},
   "source": [
    "> "
   ]
  },
  {
   "cell_type": "code",
   "execution_count": null,
   "id": "4378feb2",
   "metadata": {},
   "outputs": [],
   "source": []
  },
  {
   "cell_type": "markdown",
   "id": "d8a1d387",
   "metadata": {},
   "source": [
    "## (0,5)\n",
    "\n",
    "Qual seria sua recomendação de resultados sobre o impacto do tempo de estudo na renda dos brasileiros? Escreva de forma resumida sua conclusão, pontos de atenção e sugestões, caso necessário. "
   ]
  },
  {
   "cell_type": "markdown",
   "id": "1cefdc1b",
   "metadata": {},
   "source": [
    "> "
   ]
  },
  {
   "cell_type": "markdown",
   "id": "ae1d7285",
   "metadata": {},
   "source": [
    "## (1,0)\n",
    "\n",
    "Enquanto estava realizando a análise acima, um colega de trabalho lhe apresentou 4 opções de solução, que você pensou em usar para validar seus cálculos. Contudo, ele, que não foi aluno do Dr. Carrasco, foi demitido pela baixa qualidade de trabalho e, ao olhar as notas dele, você entendeu o porquê.\n",
    "\n",
    "---\n",
    "**Relatório de testes de hipóteses da renda.**\n",
    "\n",
    "``` python\n",
    "nivel_1 = media de renda para nível Fund. II completo   \n",
    "nivel_2 = media de renda para nível Médio incompleto\n",
    "\n",
    "1.\n",
    "ztest(nivel_1, nivel_2, alternative='larger')\n",
    "(2.5205558980730096, 0.005858481326660286)\n",
    "\n",
    "2.\n",
    "ztest(nivel_2, nivel_1, alternative='smaller')\n",
    "(-2.5205558980730096, 0.005858481326660286)\n",
    "\n",
    "3.\n",
    "ztest(nivel_1, nivel_2, alternative='two-sided')\n",
    "(2.5205558980730096, 0.011716962653320572)\n",
    "\n",
    "4.\n",
    "ztest(nivel_1, nivel_2, alternative='smaller')\n",
    "(-2.5205558980730096, 0.9941415186733397)\n",
    "````\n",
    "--- \n",
    "\n",
    "Defina para cada caso as hipóteses nula e alternativa bem como a aceitação ou rejeição da hipótese nula com um nível de significância de 5%."
   ]
  },
  {
   "cell_type": "code",
   "execution_count": null,
   "id": "d68e76b4",
   "metadata": {},
   "outputs": [],
   "source": []
  },
  {
   "cell_type": "markdown",
   "id": "0699d8ab",
   "metadata": {},
   "source": [
    "**Vamos analisar alguns dados sobre o acesso de diferentes raças à educação.**\n",
    "\n",
    "A tabela abaixo mostra as probabilidades para o seguinte diagrama.\n",
    "\n",
    "![image.png](diagrama_pessoas.png)"
   ]
  },
  {
   "cell_type": "markdown",
   "id": "9810d7b7",
   "metadata": {},
   "source": [
    "![dataframe.png](dataframe.png)"
   ]
  },
  {
   "cell_type": "code",
   "execution_count": null,
   "id": "d3913372",
   "metadata": {},
   "outputs": [],
   "source": []
  },
  {
   "cell_type": "markdown",
   "id": "cd363c54",
   "metadata": {},
   "source": [
    "## (0,5)\n",
    "\n",
    "O que as variáveis P_C e P_NC significam?"
   ]
  },
  {
   "cell_type": "markdown",
   "id": "e6658173",
   "metadata": {},
   "source": [
    "> "
   ]
  },
  {
   "cell_type": "code",
   "execution_count": null,
   "id": "6ec9c140",
   "metadata": {},
   "outputs": [],
   "source": []
  },
  {
   "cell_type": "markdown",
   "id": "e07131db",
   "metadata": {},
   "source": [
    "## (0,5)\n",
    "\n",
    "Se selecionarmos uma pessoa ao acaso, qual a chance dela ser `parda` e ter nível superior completo? Qual a chance no caso dela ser `branca`?"
   ]
  },
  {
   "cell_type": "code",
   "execution_count": null,
   "id": "23de631b",
   "metadata": {},
   "outputs": [],
   "source": []
  },
  {
   "cell_type": "markdown",
   "id": "f9800e00",
   "metadata": {},
   "source": [
    "## (0,25)\n",
    "\n",
    "Qual a chance das pessoas dessas mesmas raças terem apenas o ensino fundamental I completo?"
   ]
  },
  {
   "cell_type": "code",
   "execution_count": null,
   "id": "6a6510e5",
   "metadata": {},
   "outputs": [],
   "source": []
  },
  {
   "cell_type": "markdown",
   "id": "332c49b6",
   "metadata": {},
   "source": [
    "## (0,25)\n",
    "Se pegarmos uma pessoa aleatória, qual a chance dela ser indigena e ter terminado o ensino médio?"
   ]
  },
  {
   "cell_type": "code",
   "execution_count": null,
   "id": "62fdfad2",
   "metadata": {},
   "outputs": [],
   "source": []
  },
  {
   "cell_type": "markdown",
   "id": "0014661b",
   "metadata": {},
   "source": [
    "## (0,5)\n",
    "\n",
    "Se pegarmos uma pessoa aleatória que estudou até o ensino médio, qual a chance dela ser indigena?"
   ]
  },
  {
   "cell_type": "code",
   "execution_count": null,
   "id": "1fb8d5a7",
   "metadata": {},
   "outputs": [],
   "source": []
  },
  {
   "cell_type": "markdown",
   "id": "7ef7fb62",
   "metadata": {},
   "source": [
    "## (0,5)\n",
    "\n",
    "Por que as probabilidades acima são diferentes? Explique com suas palavras."
   ]
  },
  {
   "cell_type": "markdown",
   "id": "fc259fc1",
   "metadata": {},
   "source": [
    "> "
   ]
  },
  {
   "cell_type": "code",
   "execution_count": null,
   "id": "9ebe4a26",
   "metadata": {},
   "outputs": [],
   "source": []
  },
  {
   "cell_type": "markdown",
   "id": "b9218790",
   "metadata": {},
   "source": [
    "# Sistemas lineares"
   ]
  },
  {
   "cell_type": "markdown",
   "id": "ad7591e5",
   "metadata": {},
   "source": [
    "A **regressão linear** é uma ferramenta importantissíma no dia-a-dia de uma pessoa que trabalha com dados. Enquanto não estudamos a fundo suas propriedades e alguns métodos eficientes para o cálculo, vamos ver o que acontece 'por baixo dos panos'.\n",
    "\n",
    "Para isso, vamos encontrar um polinômio de 3º grau que passe pelos pontos(−1, 4), (0, -3),\n",
    "(3, 2) e (4, 5).\n",
    "\n",
    "**Atenção:** Tente resolver o problema **antes** de olhar as dicas!"
   ]
  },
  {
   "cell_type": "code",
   "execution_count": null,
   "id": "9f5a278a",
   "metadata": {},
   "outputs": [],
   "source": []
  },
  {
   "cell_type": "markdown",
   "id": "3611a77f",
   "metadata": {},
   "source": [
    "## (0,1)\n",
    "\n",
    "Escreva uma equação genérica do 3º grau com coeficientes a,b,c,d."
   ]
  },
  {
   "cell_type": "markdown",
   "id": "628cc03d",
   "metadata": {},
   "source": [
    "<details>\n",
    "    <summary>🙆‍♂️ Dica 🙋‍</summary>\n",
    "\n",
    "Econtrou algo parecido com: $y = f(x) = ax^3 + bx^2 + cx + d$ ? \n",
    "    \n",
    "</details> \n",
    "\n"
   ]
  },
  {
   "cell_type": "code",
   "execution_count": null,
   "id": "2da5ce69",
   "metadata": {},
   "outputs": [],
   "source": []
  },
  {
   "cell_type": "markdown",
   "id": "4c9e3fb8",
   "metadata": {},
   "source": [
    "## (0,1)\n",
    "\n",
    "Represente os pontos num sistema de coordenadas bi-dimensional. "
   ]
  },
  {
   "cell_type": "markdown",
   "id": "f3858494",
   "metadata": {},
   "source": [
    "<details>\n",
    "    <summary>🙆‍♂️ Dica 🙋‍</summary>\n",
    "\n",
    "Crie dois vetores, x e y, e faça um scatterplot.    \n",
    "</details>    "
   ]
  },
  {
   "cell_type": "code",
   "execution_count": null,
   "id": "f25fc637",
   "metadata": {},
   "outputs": [],
   "source": []
  },
  {
   "cell_type": "markdown",
   "id": "e0b0680a",
   "metadata": {},
   "source": [
    "## (0,3)\n",
    "\n",
    "Escreva o sistema de equações lineares para o problema."
   ]
  },
  {
   "cell_type": "markdown",
   "id": "0a81b889",
   "metadata": {},
   "source": [
    "<details>\n",
    "    <summary>🙆‍♂️ Dica 🙋‍</summary>\n",
    "\n",
    "Substitua os valores de x e y na expressão acima. \n",
    "    \n",
    "</details>    "
   ]
  },
  {
   "cell_type": "markdown",
   "id": "1c88587d",
   "metadata": {
    "ExecuteTime": {
     "end_time": "2022-01-31T20:41:33.037634Z",
     "start_time": "2022-01-31T20:41:33.023663Z"
    }
   },
   "source": [
    "<details>\n",
    "    <summary>🙆‍♂️ Resultado  🙋‍</summary>\n",
    "\n",
    "$\\begin{equation} \\begin{cases}\n",
    "-a + b - c + d = 0\\\\  \n",
    "d = 1 \\\\\n",
    "27a + 9b + 3c + d = -1\\\\\n",
    "64a + 16b +4c + d = 0\n",
    "\\end{cases} \\end{equation}$\n",
    "    \n",
    "</details>    \n",
    "\n"
   ]
  },
  {
   "cell_type": "code",
   "execution_count": null,
   "id": "5273784e",
   "metadata": {},
   "outputs": [],
   "source": []
  },
  {
   "cell_type": "markdown",
   "id": "904564e8",
   "metadata": {},
   "source": [
    "## (0,3)\n",
    "\n",
    "Reescreva o sistema na forma matricial."
   ]
  },
  {
   "cell_type": "markdown",
   "id": "557ecb38",
   "metadata": {},
   "source": [
    "<details>\n",
    "    <summary>🙆‍♂️ Resposta 🙋‍</summary>\n",
    "\n",
    "$\\begin{bmatrix}\n",
    "-1 & 1 & -1 & 1 \\\\\n",
    "0 & 0 & 0 & 1 \\\\\n",
    "27 & 9 & 3 & 1 \\\\\n",
    "64 & 16 & 4 & 1\n",
    "\\end{bmatrix}\n",
    "\\begin{bmatrix}\n",
    "a \\\\ b \\\\ c \\\\ d\n",
    "\\end{bmatrix}\n",
    "= \\begin{bmatrix}\n",
    "0 \\\\ 1 \\\\ -1 \\\\ 0\n",
    " \\end{bmatrix}$\n",
    "    \n",
    "</details>   "
   ]
  },
  {
   "cell_type": "code",
   "execution_count": null,
   "id": "3f06ef8f",
   "metadata": {},
   "outputs": [],
   "source": []
  },
  {
   "cell_type": "markdown",
   "id": "ae5ee409",
   "metadata": {},
   "source": [
    "## (0,5)\n",
    "\n",
    "Resolva o sistema. "
   ]
  },
  {
   "cell_type": "code",
   "execution_count": null,
   "id": "d7d02bc6",
   "metadata": {},
   "outputs": [],
   "source": []
  },
  {
   "cell_type": "markdown",
   "id": "22a718b8",
   "metadata": {},
   "source": [
    "## (0,1)\n",
    "\n",
    "Reescreva o polinômio, substituindo a,b,c e d por seus respectivos valores."
   ]
  },
  {
   "cell_type": "markdown",
   "id": "9b968682",
   "metadata": {},
   "source": [
    "<details>\n",
    "    <summary>🙆‍♂️ Resposta 🙋‍</summary>\n",
    "\n",
    "Substitua os valores de x e y na expressão acima. Você deve encontrar:  \n",
    "$y = p(x) = -0.36666667x^3 - + 2.9x^2 - 3.73333333x - 3$   \n",
    "</details>   "
   ]
  },
  {
   "cell_type": "code",
   "execution_count": null,
   "id": "1bd9e035",
   "metadata": {},
   "outputs": [],
   "source": []
  },
  {
   "cell_type": "markdown",
   "id": "a024777e",
   "metadata": {},
   "source": [
    "## (0,1)\n",
    "Crie uma função que represente o polinômio acima. Em substitua os valores de x para calcular y. O resultado encontrado é igual ao do começo do problema?"
   ]
  },
  {
   "cell_type": "code",
   "execution_count": null,
   "id": "f08858a6",
   "metadata": {},
   "outputs": [],
   "source": []
  },
  {
   "cell_type": "markdown",
   "id": "5f9a675e",
   "metadata": {},
   "source": [
    "## (0,5)\n",
    "\n",
    "De forma simplificada, acabamos de realizar um cálculo muito similar ao que ocorre na **regressão linear**, onde precisamos encontrar os coeficientes que satisfazem um conjuto de equações de acordo com os dados do problema.\n",
    "\n",
    "Note que encontramos os coeficientes de um polinômio de 3º grau usando sistemas lineares. Se isso está correto, por que ainda dizemos **sistemas lineares**?"
   ]
  },
  {
   "cell_type": "code",
   "execution_count": null,
   "id": "c44e82a8",
   "metadata": {},
   "outputs": [],
   "source": []
  }
 ],
 "metadata": {
  "kernelspec": {
   "display_name": "Python 3",
   "language": "python",
   "name": "python3"
  },
  "language_info": {
   "codemirror_mode": {
    "name": "ipython",
    "version": 3
   },
   "file_extension": ".py",
   "mimetype": "text/x-python",
   "name": "python",
   "nbconvert_exporter": "python",
   "pygments_lexer": "ipython3",
   "version": "3.8.8"
  },
  "toc": {
   "base_numbering": 1,
   "nav_menu": {},
   "number_sections": true,
   "sideBar": true,
   "skip_h1_title": false,
   "title_cell": "Table of Contents",
   "title_sidebar": "Contents",
   "toc_cell": false,
   "toc_position": {
    "height": "calc(100% - 180px)",
    "left": "10px",
    "top": "150px",
    "width": "384px"
   },
   "toc_section_display": true,
   "toc_window_display": true
  }
 },
 "nbformat": 4,
 "nbformat_minor": 5
}
