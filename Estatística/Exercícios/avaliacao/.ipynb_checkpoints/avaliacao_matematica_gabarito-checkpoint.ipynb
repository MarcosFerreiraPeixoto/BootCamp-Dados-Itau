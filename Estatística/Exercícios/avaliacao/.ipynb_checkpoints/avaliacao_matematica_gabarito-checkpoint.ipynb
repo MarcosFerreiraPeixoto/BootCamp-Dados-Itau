{
 "cells": [
  {
   "cell_type": "code",
   "execution_count": 1,
   "id": "b69339e0",
   "metadata": {
    "ExecuteTime": {
     "end_time": "2022-01-31T22:13:57.395612Z",
     "start_time": "2022-01-31T22:13:56.408364Z"
    }
   },
   "outputs": [],
   "source": [
    "import numpy as np\n",
    "import pandas as pd\n",
    "import matplotlib.pyplot as plt\n",
    "import seaborn as sns\n",
    "\n",
    "from statsmodels.stats.weightstats import ttest_ind, ztest\n",
    "from scipy.stats import norm, t as t_student, chi2, chisquare\n",
    "\n",
    "import pprint"
   ]
  },
  {
   "cell_type": "markdown",
   "id": "f85d9b91",
   "metadata": {},
   "source": [
    "# Introdução ao projeto"
   ]
  },
  {
   "cell_type": "markdown",
   "id": "d82f00af",
   "metadata": {},
   "source": [
    "## Pesquisa Nacional por Amostra de Domicílios - 2015\n",
    "\n",
    "A <b>Pesquisa Nacional por Amostra de Domicílios - PNAD</b> investiga anualmente, de forma permanente, características gerais da população, de educação, trabalho, rendimento e habitação e outras, com periodicidade variável, de acordo com as necessidades de informação para o país, como as características sobre migração, fecundidade, nupcialidade, saúde, segurança alimentar, entre outros temas. O levantamento dessas estatísticas constitui, ao longo dos 49 anos de realização da pesquisa, um importante instrumento para formulação, validação e avaliação de políticas orientadas para o desenvolvimento socioeconômico e a melhoria das condições de vida no Brasil.\n",
    "\n",
    "## Variáveis utilizadas\n",
    "\n",
    "### Renda\n",
    "\n",
    "Rendimento mensal do trabalho principal para pessoas de 10 anos ou mais de idade.\n",
    "\n",
    "### Idade\n",
    "\n",
    "Idade do morador na data de referência em anos.\n",
    "\n",
    "### Altura (elaboração própria)\n",
    "\n",
    "Altura do morador em metros.\n",
    "\n",
    "### UF\n",
    "\n",
    "|Código|Descrição|\n",
    "|---|---|\n",
    "|11|Rondônia|\n",
    "|12|Acre|\n",
    "|13|Amazonas|\n",
    "|14|Roraima|\n",
    "|15|Pará|\n",
    "|16|Amapá|\n",
    "|17|Tocantins|\n",
    "|21|Maranhão|\n",
    "|22|Piauí|\n",
    "|23|Ceará|\n",
    "|24|Rio Grande do Norte|\n",
    "|25|Paraíba|\n",
    "|26|Pernambuco|\n",
    "|27|Alagoas|\n",
    "|28|Sergipe|\n",
    "|29|Bahia|\n",
    "|31|Minas Gerais|\n",
    "|32|Espírito Santo|\n",
    "|33|Rio de Janeiro|\n",
    "|35|São Paulo|\n",
    "|41|Paraná|\n",
    "|42|Santa Catarina|\n",
    "|43|Rio Grande do Sul|\n",
    "|50|Mato Grosso do Sul|\n",
    "|51|Mato Grosso|\n",
    "|52|Goiás|\n",
    "|53|Distrito Federal|\n",
    "\n",
    "### Sexo\n",
    "\n",
    "|Código|Descrição|\n",
    "|---|---|\n",
    "|0|Masculino|\n",
    "|1|Feminino|\n",
    "\n",
    "### Anos de Estudo\n",
    "\n",
    "|Código|Descrição|\n",
    "|---|---|\n",
    "|1|Sem instrução e menos de 1 ano|\n",
    "|2|1 ano|\n",
    "|3|2 anos|\n",
    "|4|3 anos|\n",
    "|5|4 anos|\n",
    "|6|5 anos|\n",
    "|7|6 anos|\n",
    "|8|7 anos|\n",
    "|9|8 anos|\n",
    "|10|9 anos|\n",
    "|11|10 anos|\n",
    "|12|11 anos|\n",
    "|13|12 anos|\n",
    "|14|13 anos|\n",
    "|15|14 anos|\n",
    "|16|15 anos ou mais|\n",
    "|17|Não determinados| \n",
    "||Não aplicável|\n",
    "\n",
    "### Cor\n",
    "\n",
    "|Código|Descrição|\n",
    "|---|---|\n",
    "|0|Indígena|\n",
    "|2|Branca|\n",
    "|4|Preta|\n",
    "|6|Amarela|\n",
    "|8|Parda|\n",
    "|9|Sem declaração|\n",
    "\n",
    "### Observações\n",
    "\n",
    "Os seguintes tratamentos foram realizados nos dados originais:\n",
    "1. Foram eliminados os registros onde a <b>Renda</b> era inválida (999 999 999 999);\n",
    "2. Foram eliminados os registros onde a <b>Renda</b> era missing;\n",
    "3. Foram considerados somente os registros das <b>Pessoas de Referência</b> de cada domicílio (responsável pelo domicílio)."
   ]
  },
  {
   "cell_type": "markdown",
   "id": "f66e091e",
   "metadata": {},
   "source": [
    "## Dados\n",
    "\n",
    "Carrega a base de dados e mostre as 5 primeiras linhas."
   ]
  },
  {
   "cell_type": "code",
   "execution_count": 2,
   "id": "3fe2c524",
   "metadata": {
    "ExecuteTime": {
     "end_time": "2022-01-31T22:13:57.474707Z",
     "start_time": "2022-01-31T22:13:57.400618Z"
    }
   },
   "outputs": [
    {
     "data": {
      "text/html": [
       "<div>\n",
       "<style scoped>\n",
       "    .dataframe tbody tr th:only-of-type {\n",
       "        vertical-align: middle;\n",
       "    }\n",
       "\n",
       "    .dataframe tbody tr th {\n",
       "        vertical-align: top;\n",
       "    }\n",
       "\n",
       "    .dataframe thead th {\n",
       "        text-align: right;\n",
       "    }\n",
       "</style>\n",
       "<table border=\"1\" class=\"dataframe\">\n",
       "  <thead>\n",
       "    <tr style=\"text-align: right;\">\n",
       "      <th></th>\n",
       "      <th>UF</th>\n",
       "      <th>Sexo</th>\n",
       "      <th>Idade</th>\n",
       "      <th>Cor</th>\n",
       "      <th>Anos de Estudo</th>\n",
       "      <th>Renda</th>\n",
       "      <th>Altura</th>\n",
       "    </tr>\n",
       "  </thead>\n",
       "  <tbody>\n",
       "    <tr>\n",
       "      <th>0</th>\n",
       "      <td>11</td>\n",
       "      <td>0</td>\n",
       "      <td>23</td>\n",
       "      <td>8</td>\n",
       "      <td>12</td>\n",
       "      <td>800</td>\n",
       "      <td>1.603808</td>\n",
       "    </tr>\n",
       "    <tr>\n",
       "      <th>1</th>\n",
       "      <td>11</td>\n",
       "      <td>1</td>\n",
       "      <td>23</td>\n",
       "      <td>2</td>\n",
       "      <td>12</td>\n",
       "      <td>1150</td>\n",
       "      <td>1.739790</td>\n",
       "    </tr>\n",
       "    <tr>\n",
       "      <th>2</th>\n",
       "      <td>11</td>\n",
       "      <td>1</td>\n",
       "      <td>35</td>\n",
       "      <td>8</td>\n",
       "      <td>15</td>\n",
       "      <td>880</td>\n",
       "      <td>1.760444</td>\n",
       "    </tr>\n",
       "    <tr>\n",
       "      <th>3</th>\n",
       "      <td>11</td>\n",
       "      <td>0</td>\n",
       "      <td>46</td>\n",
       "      <td>2</td>\n",
       "      <td>6</td>\n",
       "      <td>3500</td>\n",
       "      <td>1.783158</td>\n",
       "    </tr>\n",
       "    <tr>\n",
       "      <th>4</th>\n",
       "      <td>11</td>\n",
       "      <td>1</td>\n",
       "      <td>47</td>\n",
       "      <td>8</td>\n",
       "      <td>9</td>\n",
       "      <td>150</td>\n",
       "      <td>1.690631</td>\n",
       "    </tr>\n",
       "    <tr>\n",
       "      <th>...</th>\n",
       "      <td>...</td>\n",
       "      <td>...</td>\n",
       "      <td>...</td>\n",
       "      <td>...</td>\n",
       "      <td>...</td>\n",
       "      <td>...</td>\n",
       "      <td>...</td>\n",
       "    </tr>\n",
       "    <tr>\n",
       "      <th>76835</th>\n",
       "      <td>53</td>\n",
       "      <td>1</td>\n",
       "      <td>46</td>\n",
       "      <td>2</td>\n",
       "      <td>11</td>\n",
       "      <td>812</td>\n",
       "      <td>1.687030</td>\n",
       "    </tr>\n",
       "    <tr>\n",
       "      <th>76836</th>\n",
       "      <td>53</td>\n",
       "      <td>0</td>\n",
       "      <td>30</td>\n",
       "      <td>4</td>\n",
       "      <td>7</td>\n",
       "      <td>1500</td>\n",
       "      <td>1.792934</td>\n",
       "    </tr>\n",
       "    <tr>\n",
       "      <th>76837</th>\n",
       "      <td>53</td>\n",
       "      <td>0</td>\n",
       "      <td>32</td>\n",
       "      <td>8</td>\n",
       "      <td>12</td>\n",
       "      <td>1300</td>\n",
       "      <td>1.830587</td>\n",
       "    </tr>\n",
       "    <tr>\n",
       "      <th>76838</th>\n",
       "      <td>53</td>\n",
       "      <td>0</td>\n",
       "      <td>57</td>\n",
       "      <td>8</td>\n",
       "      <td>4</td>\n",
       "      <td>1500</td>\n",
       "      <td>1.726344</td>\n",
       "    </tr>\n",
       "    <tr>\n",
       "      <th>76839</th>\n",
       "      <td>53</td>\n",
       "      <td>0</td>\n",
       "      <td>38</td>\n",
       "      <td>8</td>\n",
       "      <td>4</td>\n",
       "      <td>900</td>\n",
       "      <td>1.658305</td>\n",
       "    </tr>\n",
       "  </tbody>\n",
       "</table>\n",
       "<p>76840 rows × 7 columns</p>\n",
       "</div>"
      ],
      "text/plain": [
       "       UF  Sexo  Idade  Cor  Anos de Estudo  Renda    Altura\n",
       "0      11     0     23    8              12    800  1.603808\n",
       "1      11     1     23    2              12   1150  1.739790\n",
       "2      11     1     35    8              15    880  1.760444\n",
       "3      11     0     46    2               6   3500  1.783158\n",
       "4      11     1     47    8               9    150  1.690631\n",
       "...    ..   ...    ...  ...             ...    ...       ...\n",
       "76835  53     1     46    2              11    812  1.687030\n",
       "76836  53     0     30    4               7   1500  1.792934\n",
       "76837  53     0     32    8              12   1300  1.830587\n",
       "76838  53     0     57    8               4   1500  1.726344\n",
       "76839  53     0     38    8               4    900  1.658305\n",
       "\n",
       "[76840 rows x 7 columns]"
      ]
     },
     "execution_count": 2,
     "metadata": {},
     "output_type": "execute_result"
    }
   ],
   "source": [
    "df = pd.read_csv('pnad_2015.csv')\n",
    "df"
   ]
  },
  {
   "cell_type": "code",
   "execution_count": null,
   "id": "b6fd6edb",
   "metadata": {},
   "outputs": [],
   "source": []
  },
  {
   "cell_type": "markdown",
   "id": "b566e7d4",
   "metadata": {},
   "source": [
    "# Estudar o acesso à educação e o  impacto dos estudos na renda da população  "
   ]
  },
  {
   "cell_type": "markdown",
   "id": "80347f9e",
   "metadata": {},
   "source": [
    "A tabela do PNAD 2015 traz, entre outras informações, o número de anos que a pessoa de referência do domicilio estudou, bem como a cor e a renda autodeclaradas."
   ]
  },
  {
   "cell_type": "markdown",
   "id": "ebbd8cf0",
   "metadata": {},
   "source": [
    "##  (0,25)\n",
    "\n",
    "Calcule a média, moda e mediana para a variável `Renda`. Faz sentido calcular todos esses valores para essa variável? Você faria algo diferente? Comente suas respotas e intereprete os resultados obtidos."
   ]
  },
  {
   "cell_type": "code",
   "execution_count": 3,
   "id": "92230c3a",
   "metadata": {
    "ExecuteTime": {
     "end_time": "2022-01-31T22:13:57.489757Z",
     "start_time": "2022-01-31T22:13:57.476703Z"
    }
   },
   "outputs": [
    {
     "name": "stdout",
     "output_type": "stream",
     "text": [
      "2000.3831988547631\n",
      "1200.0\n",
      "0    788\n",
      "dtype: int64\n"
     ]
    }
   ],
   "source": [
    "print(df['Renda'].mean())\n",
    "print(df['Renda'].median())\n",
    "print(df['Renda'].mode())"
   ]
  },
  {
   "cell_type": "markdown",
   "id": "f79f263d",
   "metadata": {},
   "source": [
    "Por ser uma variável quantitativa contínua, a moda não ser uma boa medida, uma vez que os valores são fragmentados. Seria melhor agrupar os resultados por faixa de renda antes de calcular essa medida. \n",
    "\n",
    "A média mostra a renda total dos entrevistados, equanto a mediana mostra que metade das pessoas de refrência dos domicilios entrevistados ganham até R\\\\$ 1200,00. Vemos ainda que R\\\\$ 788,00 é a renda mais comum (frequente) entre essas pessosas."
   ]
  },
  {
   "cell_type": "code",
   "execution_count": null,
   "id": "31101036",
   "metadata": {},
   "outputs": [],
   "source": []
  },
  {
   "cell_type": "markdown",
   "id": "ddd71a2d",
   "metadata": {},
   "source": [
    "##  (0,25)\n",
    "\n",
    "Calcule as medidas de tendência central para a variável `Cor`. Faz sentido calcular todas elas para essa variável? Você faria algo diferente? Comente suas respotas e intereprete os resultados obtidos."
   ]
  },
  {
   "cell_type": "code",
   "execution_count": 4,
   "id": "1c56ce7e",
   "metadata": {
    "ExecuteTime": {
     "end_time": "2022-01-31T22:13:57.505707Z",
     "start_time": "2022-01-31T22:13:57.490714Z"
    }
   },
   "outputs": [
    {
     "name": "stdout",
     "output_type": "stream",
     "text": [
      "5.032613222280062\n",
      "4.0\n",
      "0    8\n",
      "dtype: int64\n"
     ]
    }
   ],
   "source": [
    "print(df['Cor'].mean())\n",
    "print(df['Cor'].median())\n",
    "print(df['Cor'].mode())"
   ]
  },
  {
   "cell_type": "markdown",
   "id": "48c307c2",
   "metadata": {},
   "source": [
    "Por ser uma variável qualitativa nominal, a única medida que faz sentido é a moda, cujo cálculo mostra que a cor parda é a que mais aparece nos dados. \n",
    "\n",
    "Eessa informação está representada por números, o que torna possível o cálculo da media e mediana, porém esses valores não fazem sentido. Ex: a cor média da poupulação é 5. "
   ]
  },
  {
   "cell_type": "code",
   "execution_count": null,
   "id": "ff34f54a",
   "metadata": {},
   "outputs": [],
   "source": []
  },
  {
   "cell_type": "markdown",
   "id": "95e044cc",
   "metadata": {},
   "source": [
    "## (0,25) \n",
    "\n",
    "Como você classificaria a variável `Anos de Estudo`? Os dados podem ser usados como estão?\n",
    "\n",
    "Quando falamos de escolaridade, é comum nos referirmos a ciclos de ensino. Usando a variável `Anos de Estudo`, crie uma coluna `escolaridade` no dataframe com os seguintes valores:\n",
    "\n",
    "* `0 - Sem instrução` para aqueles que estudaram menos de um ano.\n",
    "* `1 - Fund. I incompleto` para quem não completou os 4 anos do ciclo básico.\n",
    "* `2 - Fund. I completo` para quem concluiu os 4 anos do ciclo básico.\n",
    "* `3 - Fund. II incompleto` para quem completou os 4 anos do primeiro ciclo básico e iniciou, mas não concluiu o segundo (não terminou os 8 anos).\n",
    "* `4 - Fund. II completo` para quem concluiu os 4 anos do segundo ciclo básico.\n",
    "* `5 - Médio incompleto` para quem completou os 8 anos do ciclo básico e iniciou, mas não concluiu o ensino médio.\n",
    "* `6 - Médio completo` para quem completou os 4 anos do primeiro  ciclo básico mas não o segundo (não terminou os 8 anos).\n",
    "* `7 - Superior incompleto` para quem concluiu o ensino médio e começou, mas não terminou o ensino superior.\n",
    "* `8 - Superior completo` para quem completou o ensino superior e também para fez pós-graduação.\n",
    "\n",
    "Não inclua na análise pessoas que não souberam definir o tempo de estudo. Por que podemos descartar esses dados sem prejuízos à análise?"
   ]
  },
  {
   "cell_type": "code",
   "execution_count": 5,
   "id": "206e9dd2",
   "metadata": {
    "ExecuteTime": {
     "end_time": "2022-01-31T22:13:57.583583Z",
     "start_time": "2022-01-31T22:13:57.506707Z"
    }
   },
   "outputs": [],
   "source": [
    "df = df[df['Anos de Estudo']!=17].copy()\n",
    "\n",
    "df['escolaridade'] = 'outros'\n",
    "\n",
    "df.loc[(df['Anos de Estudo']==1), 'escolaridade'] = '0 - Sem instrução'\n",
    "df.loc[(df['Anos de Estudo']>1) & (df['Anos de Estudo']<5), 'escolaridade'] = '1 - Fund. I incompleto'\n",
    "df.loc[(df['Anos de Estudo']==5), 'escolaridade' ] = '2 - Fund. I completo'\n",
    "df.loc[(df['Anos de Estudo']>5) & (df['Anos de Estudo']<9), 'escolaridade'] = '3 - Fund. II incompleto'\n",
    "df.loc[(df['Anos de Estudo']==9), 'escolaridade'] = '4 - Fund. II completo'\n",
    "df.loc[(df['Anos de Estudo']>9) & (df['Anos de Estudo']<12), 'escolaridade'] = '5 - Médio incompleto'\n",
    "df.loc[(df['Anos de Estudo']==12), 'escolaridade'] = '6 - Médio completo'\n",
    "df.loc[(df['Anos de Estudo']>12) & (df['Anos de Estudo']<16), 'escolaridade'] = '7 - Superior incompleto'\n",
    "df.loc[(df['Anos de Estudo']==16) , 'escolaridade'] = '8 - Superior completo'\n",
    "\n",
    "niveis = list(df['escolaridade'].sort_values().unique())\n",
    "cores = df['Cor'].sort_values().unique().tolist()\n"
   ]
  },
  {
   "cell_type": "code",
   "execution_count": null,
   "id": "4c9931e6",
   "metadata": {},
   "outputs": [],
   "source": []
  },
  {
   "cell_type": "markdown",
   "id": "6eaf8586",
   "metadata": {},
   "source": [
    "## (0,25) \n",
    "Crie uma tabela de frequências para a variável `escolaridade` (absoluta, relativa e o cumulativo para as duas anteriores).\n",
    "\n",
    "As linhas devem ser ordenadas do menor para maior nível de escolaridade."
   ]
  },
  {
   "cell_type": "code",
   "execution_count": 6,
   "id": "09d1f110",
   "metadata": {
    "ExecuteTime": {
     "end_time": "2022-01-31T22:13:57.613587Z",
     "start_time": "2022-01-31T22:13:57.584583Z"
    }
   },
   "outputs": [
    {
     "data": {
      "text/html": [
       "<div>\n",
       "<style scoped>\n",
       "    .dataframe tbody tr th:only-of-type {\n",
       "        vertical-align: middle;\n",
       "    }\n",
       "\n",
       "    .dataframe tbody tr th {\n",
       "        vertical-align: top;\n",
       "    }\n",
       "\n",
       "    .dataframe thead th {\n",
       "        text-align: right;\n",
       "    }\n",
       "</style>\n",
       "<table border=\"1\" class=\"dataframe\">\n",
       "  <thead>\n",
       "    <tr style=\"text-align: right;\">\n",
       "      <th></th>\n",
       "      <th>absoluta</th>\n",
       "      <th>relativa</th>\n",
       "      <th>cumulativa</th>\n",
       "      <th>cumulativa%</th>\n",
       "    </tr>\n",
       "  </thead>\n",
       "  <tbody>\n",
       "    <tr>\n",
       "      <th>0 - Sem instrução</th>\n",
       "      <td>5849</td>\n",
       "      <td>0.076309</td>\n",
       "      <td>5849</td>\n",
       "      <td>0.076309</td>\n",
       "    </tr>\n",
       "    <tr>\n",
       "      <th>1 - Fund. I incompleto</th>\n",
       "      <td>6380</td>\n",
       "      <td>0.083237</td>\n",
       "      <td>12229</td>\n",
       "      <td>0.159545</td>\n",
       "    </tr>\n",
       "    <tr>\n",
       "      <th>2 - Fund. I completo</th>\n",
       "      <td>6729</td>\n",
       "      <td>0.087790</td>\n",
       "      <td>18958</td>\n",
       "      <td>0.247335</td>\n",
       "    </tr>\n",
       "    <tr>\n",
       "      <th>3 - Fund. II incompleto</th>\n",
       "      <td>9633</td>\n",
       "      <td>0.125677</td>\n",
       "      <td>28591</td>\n",
       "      <td>0.373012</td>\n",
       "    </tr>\n",
       "    <tr>\n",
       "      <th>4 - Fund. II completo</th>\n",
       "      <td>7980</td>\n",
       "      <td>0.104111</td>\n",
       "      <td>36571</td>\n",
       "      <td>0.477123</td>\n",
       "    </tr>\n",
       "    <tr>\n",
       "      <th>5 - Médio incompleto</th>\n",
       "      <td>3958</td>\n",
       "      <td>0.051638</td>\n",
       "      <td>40529</td>\n",
       "      <td>0.528761</td>\n",
       "    </tr>\n",
       "    <tr>\n",
       "      <th>6 - Médio completo</th>\n",
       "      <td>20848</td>\n",
       "      <td>0.271993</td>\n",
       "      <td>61377</td>\n",
       "      <td>0.800754</td>\n",
       "    </tr>\n",
       "    <tr>\n",
       "      <th>7 - Superior incompleto</th>\n",
       "      <td>4477</td>\n",
       "      <td>0.058409</td>\n",
       "      <td>65854</td>\n",
       "      <td>0.859163</td>\n",
       "    </tr>\n",
       "    <tr>\n",
       "      <th>8 - Superior completo</th>\n",
       "      <td>10795</td>\n",
       "      <td>0.140837</td>\n",
       "      <td>76649</td>\n",
       "      <td>1.000000</td>\n",
       "    </tr>\n",
       "  </tbody>\n",
       "</table>\n",
       "</div>"
      ],
      "text/plain": [
       "                         absoluta  relativa  cumulativa  cumulativa%\n",
       "0 - Sem instrução            5849  0.076309        5849     0.076309\n",
       "1 - Fund. I incompleto       6380  0.083237       12229     0.159545\n",
       "2 - Fund. I completo         6729  0.087790       18958     0.247335\n",
       "3 - Fund. II incompleto      9633  0.125677       28591     0.373012\n",
       "4 - Fund. II completo        7980  0.104111       36571     0.477123\n",
       "5 - Médio incompleto         3958  0.051638       40529     0.528761\n",
       "6 - Médio completo          20848  0.271993       61377     0.800754\n",
       "7 - Superior incompleto      4477  0.058409       65854     0.859163\n",
       "8 - Superior completo       10795  0.140837       76649     1.000000"
      ]
     },
     "execution_count": 6,
     "metadata": {},
     "output_type": "execute_result"
    }
   ],
   "source": [
    "freq = pd.DataFrame()\n",
    "freq['absoluta'] = df.escolaridade.value_counts().sort_index()\n",
    "freq['relativa'] = df.escolaridade.value_counts(normalize=True).sort_index()\n",
    "freq['cumulativa'] = freq['absoluta'].cumsum()\n",
    "freq['cumulativa%'] = freq['relativa'].cumsum()\n",
    "\n",
    "freq"
   ]
  },
  {
   "cell_type": "code",
   "execution_count": null,
   "id": "ca333e29",
   "metadata": {},
   "outputs": [],
   "source": []
  },
  {
   "cell_type": "markdown",
   "id": "f6143eed",
   "metadata": {},
   "source": [
    "## (0,25)\n",
    "\n",
    "Crie uma tabela de frequências combianando os campos `escolaridade` e `Cor`. A tabela deve ser normailizada e mostrar somatórios de linhas e colunas."
   ]
  },
  {
   "cell_type": "code",
   "execution_count": 7,
   "id": "db8b4415",
   "metadata": {
    "ExecuteTime": {
     "end_time": "2022-01-31T22:13:57.693588Z",
     "start_time": "2022-01-31T22:13:57.614587Z"
    }
   },
   "outputs": [
    {
     "data": {
      "text/html": [
       "<div>\n",
       "<style scoped>\n",
       "    .dataframe tbody tr th:only-of-type {\n",
       "        vertical-align: middle;\n",
       "    }\n",
       "\n",
       "    .dataframe tbody tr th {\n",
       "        vertical-align: top;\n",
       "    }\n",
       "\n",
       "    .dataframe thead th {\n",
       "        text-align: right;\n",
       "    }\n",
       "</style>\n",
       "<table border=\"1\" class=\"dataframe\">\n",
       "  <thead>\n",
       "    <tr style=\"text-align: right;\">\n",
       "      <th>Cor</th>\n",
       "      <th>0</th>\n",
       "      <th>2</th>\n",
       "      <th>4</th>\n",
       "      <th>6</th>\n",
       "      <th>8</th>\n",
       "      <th>All</th>\n",
       "    </tr>\n",
       "    <tr>\n",
       "      <th>escolaridade</th>\n",
       "      <th></th>\n",
       "      <th></th>\n",
       "      <th></th>\n",
       "      <th></th>\n",
       "      <th></th>\n",
       "      <th></th>\n",
       "    </tr>\n",
       "  </thead>\n",
       "  <tbody>\n",
       "    <tr>\n",
       "      <th>0 - Sem instrução</th>\n",
       "      <td>0.000639</td>\n",
       "      <td>0.018526</td>\n",
       "      <td>0.010450</td>\n",
       "      <td>0.000117</td>\n",
       "      <td>0.046576</td>\n",
       "      <td>0.076309</td>\n",
       "    </tr>\n",
       "    <tr>\n",
       "      <th>1 - Fund. I incompleto</th>\n",
       "      <td>0.000509</td>\n",
       "      <td>0.024919</td>\n",
       "      <td>0.010385</td>\n",
       "      <td>0.000078</td>\n",
       "      <td>0.047346</td>\n",
       "      <td>0.083237</td>\n",
       "    </tr>\n",
       "    <tr>\n",
       "      <th>2 - Fund. I completo</th>\n",
       "      <td>0.000287</td>\n",
       "      <td>0.035004</td>\n",
       "      <td>0.009054</td>\n",
       "      <td>0.000274</td>\n",
       "      <td>0.043171</td>\n",
       "      <td>0.087790</td>\n",
       "    </tr>\n",
       "    <tr>\n",
       "      <th>3 - Fund. II incompleto</th>\n",
       "      <td>0.000665</td>\n",
       "      <td>0.044358</td>\n",
       "      <td>0.014782</td>\n",
       "      <td>0.000183</td>\n",
       "      <td>0.065689</td>\n",
       "      <td>0.125677</td>\n",
       "    </tr>\n",
       "    <tr>\n",
       "      <th>4 - Fund. II completo</th>\n",
       "      <td>0.000587</td>\n",
       "      <td>0.040470</td>\n",
       "      <td>0.011742</td>\n",
       "      <td>0.000339</td>\n",
       "      <td>0.050973</td>\n",
       "      <td>0.104111</td>\n",
       "    </tr>\n",
       "    <tr>\n",
       "      <th>5 - Médio incompleto</th>\n",
       "      <td>0.000365</td>\n",
       "      <td>0.017443</td>\n",
       "      <td>0.006693</td>\n",
       "      <td>0.000130</td>\n",
       "      <td>0.027006</td>\n",
       "      <td>0.051638</td>\n",
       "    </tr>\n",
       "    <tr>\n",
       "      <th>6 - Médio completo</th>\n",
       "      <td>0.001070</td>\n",
       "      <td>0.115305</td>\n",
       "      <td>0.031612</td>\n",
       "      <td>0.001148</td>\n",
       "      <td>0.122859</td>\n",
       "      <td>0.271993</td>\n",
       "    </tr>\n",
       "    <tr>\n",
       "      <th>7 - Superior incompleto</th>\n",
       "      <td>0.000235</td>\n",
       "      <td>0.030072</td>\n",
       "      <td>0.005466</td>\n",
       "      <td>0.000339</td>\n",
       "      <td>0.022296</td>\n",
       "      <td>0.058409</td>\n",
       "    </tr>\n",
       "    <tr>\n",
       "      <th>8 - Superior completo</th>\n",
       "      <td>0.000261</td>\n",
       "      <td>0.088168</td>\n",
       "      <td>0.009015</td>\n",
       "      <td>0.001983</td>\n",
       "      <td>0.041410</td>\n",
       "      <td>0.140837</td>\n",
       "    </tr>\n",
       "    <tr>\n",
       "      <th>All</th>\n",
       "      <td>0.004618</td>\n",
       "      <td>0.414265</td>\n",
       "      <td>0.109199</td>\n",
       "      <td>0.004592</td>\n",
       "      <td>0.467325</td>\n",
       "      <td>1.000000</td>\n",
       "    </tr>\n",
       "  </tbody>\n",
       "</table>\n",
       "</div>"
      ],
      "text/plain": [
       "Cor                             0         2         4         6         8  \\\n",
       "escolaridade                                                                \n",
       "0 - Sem instrução        0.000639  0.018526  0.010450  0.000117  0.046576   \n",
       "1 - Fund. I incompleto   0.000509  0.024919  0.010385  0.000078  0.047346   \n",
       "2 - Fund. I completo     0.000287  0.035004  0.009054  0.000274  0.043171   \n",
       "3 - Fund. II incompleto  0.000665  0.044358  0.014782  0.000183  0.065689   \n",
       "4 - Fund. II completo    0.000587  0.040470  0.011742  0.000339  0.050973   \n",
       "5 - Médio incompleto     0.000365  0.017443  0.006693  0.000130  0.027006   \n",
       "6 - Médio completo       0.001070  0.115305  0.031612  0.001148  0.122859   \n",
       "7 - Superior incompleto  0.000235  0.030072  0.005466  0.000339  0.022296   \n",
       "8 - Superior completo    0.000261  0.088168  0.009015  0.001983  0.041410   \n",
       "All                      0.004618  0.414265  0.109199  0.004592  0.467325   \n",
       "\n",
       "Cor                           All  \n",
       "escolaridade                       \n",
       "0 - Sem instrução        0.076309  \n",
       "1 - Fund. I incompleto   0.083237  \n",
       "2 - Fund. I completo     0.087790  \n",
       "3 - Fund. II incompleto  0.125677  \n",
       "4 - Fund. II completo    0.104111  \n",
       "5 - Médio incompleto     0.051638  \n",
       "6 - Médio completo       0.271993  \n",
       "7 - Superior incompleto  0.058409  \n",
       "8 - Superior completo    0.140837  \n",
       "All                      1.000000  "
      ]
     },
     "execution_count": 7,
     "metadata": {},
     "output_type": "execute_result"
    }
   ],
   "source": [
    "df_cross = pd.crosstab(df['escolaridade'], df['Cor'], normalize=True, margins=True)\n",
    "df_cross"
   ]
  },
  {
   "cell_type": "code",
   "execution_count": null,
   "id": "f282bb31",
   "metadata": {},
   "outputs": [],
   "source": []
  },
  {
   "cell_type": "markdown",
   "id": "e2e2aa83",
   "metadata": {},
   "source": [
    "**O PNAD é uma pesquisa por amostragem que, em 2015, entrevistou quase 77 mil familhas. Qual o intervalo de confiança da renda média do brasileiro?**"
   ]
  },
  {
   "cell_type": "code",
   "execution_count": null,
   "id": "eba70139",
   "metadata": {},
   "outputs": [],
   "source": []
  },
  {
   "cell_type": "markdown",
   "id": "d74e3f58",
   "metadata": {},
   "source": [
    "## (0,25)\n",
    "Considere o nível de significancia 3,5% e calcule passo-a-passo."
   ]
  },
  {
   "cell_type": "code",
   "execution_count": 8,
   "id": "da9007cf",
   "metadata": {
    "ExecuteTime": {
     "end_time": "2022-01-31T22:13:57.708618Z",
     "start_time": "2022-01-31T22:13:57.695622Z"
    }
   },
   "outputs": [],
   "source": [
    "media_amostral = round(df['Renda'].mean(),2)\n",
    "desvio_amostral = round(df['Renda'].std(),2)\n",
    "n = df.shape[0]"
   ]
  },
  {
   "cell_type": "code",
   "execution_count": 9,
   "id": "172ce3ae",
   "metadata": {
    "ExecuteTime": {
     "end_time": "2022-01-31T22:13:57.723651Z",
     "start_time": "2022-01-31T22:13:57.710585Z"
    }
   },
   "outputs": [
    {
     "name": "stdout",
     "output_type": "stream",
     "text": [
      "1977.3600000000001 2028.04\n"
     ]
    }
   ],
   "source": [
    "significancia = 0.035\n",
    "confianca = 1 - significancia\n",
    "\n",
    "probabilidade = confianca + significancia/2 \n",
    "\n",
    "z = norm.ppf(probabilidade)\n",
    "erro_inferencial = round(z * desvio_amostral / np.sqrt(n),2)\n",
    "\n",
    "print(media_amostral - erro_inferencial, media_amostral + erro_inferencial)"
   ]
  },
  {
   "cell_type": "code",
   "execution_count": null,
   "id": "fce0102a",
   "metadata": {},
   "outputs": [],
   "source": []
  },
  {
   "cell_type": "markdown",
   "id": "862a686b",
   "metadata": {},
   "source": [
    "\n",
    "## (0,10)\n",
    "Considere o nível de significancia 0,02% e calcule como preferir."
   ]
  },
  {
   "cell_type": "code",
   "execution_count": 10,
   "id": "4fddd9f3",
   "metadata": {
    "ExecuteTime": {
     "end_time": "2022-01-31T22:13:57.739641Z",
     "start_time": "2022-01-31T22:13:57.724778Z"
    }
   },
   "outputs": [
    {
     "data": {
      "text/plain": [
       "(1965.5649377857076, 2039.8350622142925)"
      ]
     },
     "execution_count": 10,
     "metadata": {},
     "output_type": "execute_result"
    }
   ],
   "source": [
    "significancia = 0.002\n",
    "confianca = 1 - significancia\n",
    "\n",
    "norm.interval(alpha=confianca, loc=media_amostral, scale=desvio_amostral/np.sqrt(n))"
   ]
  },
  {
   "cell_type": "code",
   "execution_count": null,
   "id": "1ae90666",
   "metadata": {},
   "outputs": [],
   "source": []
  },
  {
   "cell_type": "markdown",
   "id": "38b1cdd8",
   "metadata": {},
   "source": [
    "## (0,25)\n",
    "Por que os intervalos acima são diferentes?\n",
    "\n"
   ]
  },
  {
   "cell_type": "markdown",
   "id": "72f564e1",
   "metadata": {},
   "source": [
    "> "
   ]
  },
  {
   "cell_type": "code",
   "execution_count": null,
   "id": "35a39404",
   "metadata": {},
   "outputs": [],
   "source": []
  },
  {
   "cell_type": "markdown",
   "id": "6169bf0c",
   "metadata": {},
   "source": [
    "## (0,25)\n",
    "\n",
    "Explique o significado do intervalo de confiança para os níveis calculados."
   ]
  },
  {
   "cell_type": "markdown",
   "id": "eb2a1028",
   "metadata": {},
   "source": [
    "> "
   ]
  },
  {
   "cell_type": "code",
   "execution_count": null,
   "id": "774013d8",
   "metadata": {},
   "outputs": [],
   "source": []
  },
  {
   "cell_type": "markdown",
   "id": "b269d36f",
   "metadata": {},
   "source": [
    "## (0,25) \n",
    "A média é a melhor métrica para calcular rendimentos no Brasil? Justifique sua resposta."
   ]
  },
  {
   "cell_type": "markdown",
   "id": "45f41037",
   "metadata": {},
   "source": [
    ">"
   ]
  },
  {
   "cell_type": "code",
   "execution_count": null,
   "id": "8fced327",
   "metadata": {},
   "outputs": [],
   "source": []
  },
  {
   "cell_type": "markdown",
   "id": "f104b602",
   "metadata": {},
   "source": [
    "**Após a coleta dos dados, você foi indagado sobre o impacto do tempo de estudo na renda dos brasileiros.**\n",
    "\n",
    "## (0,25)\n",
    "\n",
    "Com base no conjunto de dados, calcule medidas de tendência central, de dispersão e os intervalos quartis da variável `Renda` para cada nível de `escolaridade`."
   ]
  },
  {
   "cell_type": "code",
   "execution_count": 11,
   "id": "42ee9de7",
   "metadata": {
    "ExecuteTime": {
     "end_time": "2022-01-31T22:13:57.786688Z",
     "start_time": "2022-01-31T22:13:57.740858Z"
    }
   },
   "outputs": [
    {
     "data": {
      "text/html": [
       "<div>\n",
       "<style scoped>\n",
       "    .dataframe tbody tr th:only-of-type {\n",
       "        vertical-align: middle;\n",
       "    }\n",
       "\n",
       "    .dataframe tbody tr th {\n",
       "        vertical-align: top;\n",
       "    }\n",
       "\n",
       "    .dataframe thead th {\n",
       "        text-align: right;\n",
       "    }\n",
       "</style>\n",
       "<table border=\"1\" class=\"dataframe\">\n",
       "  <thead>\n",
       "    <tr style=\"text-align: right;\">\n",
       "      <th></th>\n",
       "      <th>count</th>\n",
       "      <th>mean</th>\n",
       "      <th>std</th>\n",
       "      <th>min</th>\n",
       "      <th>25%</th>\n",
       "      <th>50%</th>\n",
       "      <th>75%</th>\n",
       "      <th>max</th>\n",
       "    </tr>\n",
       "    <tr>\n",
       "      <th>escolaridade</th>\n",
       "      <th></th>\n",
       "      <th></th>\n",
       "      <th></th>\n",
       "      <th></th>\n",
       "      <th></th>\n",
       "      <th></th>\n",
       "      <th></th>\n",
       "      <th></th>\n",
       "    </tr>\n",
       "  </thead>\n",
       "  <tbody>\n",
       "    <tr>\n",
       "      <th>0 - Sem instrução</th>\n",
       "      <td>5849.0</td>\n",
       "      <td>732.994187</td>\n",
       "      <td>955.274843</td>\n",
       "      <td>0.0</td>\n",
       "      <td>180.0</td>\n",
       "      <td>600.0</td>\n",
       "      <td>1000.0</td>\n",
       "      <td>30000.0</td>\n",
       "    </tr>\n",
       "    <tr>\n",
       "      <th>1 - Fund. I incompleto</th>\n",
       "      <td>6380.0</td>\n",
       "      <td>897.019279</td>\n",
       "      <td>1588.779043</td>\n",
       "      <td>0.0</td>\n",
       "      <td>320.0</td>\n",
       "      <td>788.0</td>\n",
       "      <td>1100.0</td>\n",
       "      <td>80000.0</td>\n",
       "    </tr>\n",
       "    <tr>\n",
       "      <th>2 - Fund. I completo</th>\n",
       "      <td>6729.0</td>\n",
       "      <td>1150.439293</td>\n",
       "      <td>1293.144934</td>\n",
       "      <td>0.0</td>\n",
       "      <td>560.0</td>\n",
       "      <td>900.0</td>\n",
       "      <td>1500.0</td>\n",
       "      <td>50000.0</td>\n",
       "    </tr>\n",
       "    <tr>\n",
       "      <th>3 - Fund. II incompleto</th>\n",
       "      <td>9633.0</td>\n",
       "      <td>1238.560884</td>\n",
       "      <td>1315.349041</td>\n",
       "      <td>0.0</td>\n",
       "      <td>788.0</td>\n",
       "      <td>1000.0</td>\n",
       "      <td>1500.0</td>\n",
       "      <td>40000.0</td>\n",
       "    </tr>\n",
       "    <tr>\n",
       "      <th>4 - Fund. II completo</th>\n",
       "      <td>7980.0</td>\n",
       "      <td>1437.744862</td>\n",
       "      <td>1404.280340</td>\n",
       "      <td>0.0</td>\n",
       "      <td>788.0</td>\n",
       "      <td>1100.0</td>\n",
       "      <td>1600.0</td>\n",
       "      <td>30000.0</td>\n",
       "    </tr>\n",
       "    <tr>\n",
       "      <th>5 - Médio incompleto</th>\n",
       "      <td>3958.0</td>\n",
       "      <td>1412.122537</td>\n",
       "      <td>1852.825333</td>\n",
       "      <td>0.0</td>\n",
       "      <td>788.0</td>\n",
       "      <td>1050.0</td>\n",
       "      <td>1576.0</td>\n",
       "      <td>60000.0</td>\n",
       "    </tr>\n",
       "    <tr>\n",
       "      <th>6 - Médio completo</th>\n",
       "      <td>20848.0</td>\n",
       "      <td>1841.671287</td>\n",
       "      <td>2457.197657</td>\n",
       "      <td>0.0</td>\n",
       "      <td>900.0</td>\n",
       "      <td>1350.0</td>\n",
       "      <td>2000.0</td>\n",
       "      <td>200000.0</td>\n",
       "    </tr>\n",
       "    <tr>\n",
       "      <th>7 - Superior incompleto</th>\n",
       "      <td>4477.0</td>\n",
       "      <td>2629.527362</td>\n",
       "      <td>3255.689938</td>\n",
       "      <td>0.0</td>\n",
       "      <td>1100.0</td>\n",
       "      <td>1800.0</td>\n",
       "      <td>3000.0</td>\n",
       "      <td>120000.0</td>\n",
       "    </tr>\n",
       "    <tr>\n",
       "      <th>8 - Superior completo</th>\n",
       "      <td>10795.0</td>\n",
       "      <td>5242.443353</td>\n",
       "      <td>6450.490806</td>\n",
       "      <td>0.0</td>\n",
       "      <td>2000.0</td>\n",
       "      <td>3500.0</td>\n",
       "      <td>6000.0</td>\n",
       "      <td>200000.0</td>\n",
       "    </tr>\n",
       "  </tbody>\n",
       "</table>\n",
       "</div>"
      ],
      "text/plain": [
       "                           count         mean          std  min     25%  \\\n",
       "escolaridade                                                              \n",
       "0 - Sem instrução         5849.0   732.994187   955.274843  0.0   180.0   \n",
       "1 - Fund. I incompleto    6380.0   897.019279  1588.779043  0.0   320.0   \n",
       "2 - Fund. I completo      6729.0  1150.439293  1293.144934  0.0   560.0   \n",
       "3 - Fund. II incompleto   9633.0  1238.560884  1315.349041  0.0   788.0   \n",
       "4 - Fund. II completo     7980.0  1437.744862  1404.280340  0.0   788.0   \n",
       "5 - Médio incompleto      3958.0  1412.122537  1852.825333  0.0   788.0   \n",
       "6 - Médio completo       20848.0  1841.671287  2457.197657  0.0   900.0   \n",
       "7 - Superior incompleto   4477.0  2629.527362  3255.689938  0.0  1100.0   \n",
       "8 - Superior completo    10795.0  5242.443353  6450.490806  0.0  2000.0   \n",
       "\n",
       "                            50%     75%       max  \n",
       "escolaridade                                       \n",
       "0 - Sem instrução         600.0  1000.0   30000.0  \n",
       "1 - Fund. I incompleto    788.0  1100.0   80000.0  \n",
       "2 - Fund. I completo      900.0  1500.0   50000.0  \n",
       "3 - Fund. II incompleto  1000.0  1500.0   40000.0  \n",
       "4 - Fund. II completo    1100.0  1600.0   30000.0  \n",
       "5 - Médio incompleto     1050.0  1576.0   60000.0  \n",
       "6 - Médio completo       1350.0  2000.0  200000.0  \n",
       "7 - Superior incompleto  1800.0  3000.0  120000.0  \n",
       "8 - Superior completo    3500.0  6000.0  200000.0  "
      ]
     },
     "execution_count": 11,
     "metadata": {},
     "output_type": "execute_result"
    }
   ],
   "source": [
    "df.groupby('escolaridade')['Renda'].describe()"
   ]
  },
  {
   "cell_type": "code",
   "execution_count": null,
   "id": "2a56bc08",
   "metadata": {},
   "outputs": [],
   "source": []
  },
  {
   "cell_type": "markdown",
   "id": "9e900281",
   "metadata": {},
   "source": [
    "## (0,25)\n",
    "\n",
    "Analisando as médias e desvios padrão acima, você consegue afirmar que o salário sempre aumenta quanto maior o tempo de estudo? Justifique.\n",
    "\n",
    "ps: Não é necessário fazer contas."
   ]
  },
  {
   "cell_type": "markdown",
   "id": "4780459b",
   "metadata": {},
   "source": [
    ">"
   ]
  },
  {
   "cell_type": "code",
   "execution_count": null,
   "id": "d53d31f6",
   "metadata": {},
   "outputs": [],
   "source": []
  },
  {
   "cell_type": "markdown",
   "id": "652f1a8c",
   "metadata": {},
   "source": [
    "## (0,10)\n",
    "\n",
    "Os valores da média e desvio padrão encontrados acima se referem à população? Justifique."
   ]
  },
  {
   "cell_type": "markdown",
   "id": "e7057df4",
   "metadata": {},
   "source": [
    ">"
   ]
  },
  {
   "cell_type": "code",
   "execution_count": null,
   "id": "414dab6f",
   "metadata": {},
   "outputs": [],
   "source": []
  },
  {
   "cell_type": "markdown",
   "id": "a4c53426",
   "metadata": {},
   "source": [
    "##### **Como a quantidade de pessoas em cada nível de escolaridade varia bastante e, por ser inviável realizar outra pesquisa para conseguir mais dados, você, ex-aluno do Prof. Carrasco, realizará um teste estátisco para responder à questão sobre a impacto do estudo na renda.**\n",
    "\n",
    "## (0,25)\n",
    "\n",
    "Observado que as variâncias de renda em cada um dos níveis é muito grande, calcule o tamanho amostral de cada grupo para assegurar que o erro inferencial da média populacional estimada em cada um dos níveis seja no máximo R\\\\$150,00 com confiança de 96,25\\%.\n",
    "\n",
    "Resultado esperado: `print(nivel, n)` para cada nível.\n",
    " "
   ]
  },
  {
   "cell_type": "code",
   "execution_count": 12,
   "id": "fe9803de",
   "metadata": {
    "ExecuteTime": {
     "end_time": "2022-01-31T22:13:57.896677Z",
     "start_time": "2022-01-31T22:13:57.787584Z"
    }
   },
   "outputs": [
    {
     "name": "stdout",
     "output_type": "stream",
     "text": [
      "0 - Sem instrução 146\n",
      "1 - Fund. I incompleto 405\n",
      "2 - Fund. I completo 268\n",
      "3 - Fund. II incompleto 277\n",
      "4 - Fund. II completo 316\n",
      "5 - Médio incompleto 551\n",
      "6 - Médio completo 968\n",
      "7 - Superior incompleto 1700\n",
      "8 - Superior completo 6672\n"
     ]
    }
   ],
   "source": [
    "confianca = 0.9425\n",
    "significancia = 1 - confianca\n",
    "\n",
    "probabilidade = confianca + significancia/2 \n",
    "z = norm.ppf(probabilidade)\n",
    "\n",
    "erro_maximo = 150\n",
    "\n",
    "samples = {}\n",
    "\n",
    "for nivel in niveis:\n",
    "    media_amostral = round(df[df['escolaridade']==nivel]['Renda'].mean(),2)\n",
    "    desvio_amostral = round(df[df['escolaridade']==nivel]['Renda'].std(),2)\n",
    "\n",
    "    n = round((z * desvio_amostral / erro_maximo)**2)\n",
    "    \n",
    "    samples[nivel] = n\n",
    "\n",
    "    print(nivel, n)\n",
    "\n"
   ]
  },
  {
   "cell_type": "code",
   "execution_count": null,
   "id": "972f9284",
   "metadata": {},
   "outputs": [],
   "source": []
  },
  {
   "cell_type": "markdown",
   "id": "31c09bbe",
   "metadata": {},
   "source": [
    "## (0,10)\n",
    "\n",
    "Você deve ter encontrado tamanhos amostrais diferentes para cada um dos níveis de escolaridade. Para evitar problemas de desbalanceamento de classes em análises futuras, usaremos o maior valor encontrado como o tamanho amostral de todas as classes. Esse valor deve ser armazendado na variável `sample_size`.\n",
    "\n",
    "Por que fizemos essa escolha?"
   ]
  },
  {
   "cell_type": "code",
   "execution_count": 13,
   "id": "d95f661a",
   "metadata": {
    "ExecuteTime": {
     "end_time": "2022-01-31T22:13:57.911620Z",
     "start_time": "2022-01-31T22:13:57.897835Z"
    }
   },
   "outputs": [
    {
     "name": "stdout",
     "output_type": "stream",
     "text": [
      "\n",
      " O tamanho amostral é 6672.\n"
     ]
    }
   ],
   "source": [
    "sample_size = max(samples.values())\n",
    "\n",
    "print(f'\\n O tamanho amostral é {sample_size}.')"
   ]
  },
  {
   "cell_type": "code",
   "execution_count": null,
   "id": "71a6ee03",
   "metadata": {},
   "outputs": [],
   "source": []
  },
  {
   "cell_type": "markdown",
   "id": "0385c994",
   "metadata": {},
   "source": [
    "## (0,10)\n",
    "\n",
    "Qual tipo de desvio padrão foi utilizado para calcular os tamanhos amostrais: amostral ou populacional? Justifique sua escolha."
   ]
  },
  {
   "cell_type": "markdown",
   "id": "e40f7521",
   "metadata": {},
   "source": [
    "> "
   ]
  },
  {
   "cell_type": "code",
   "execution_count": null,
   "id": "91ef2c44",
   "metadata": {},
   "outputs": [],
   "source": []
  },
  {
   "cell_type": "markdown",
   "id": "f8fac17e",
   "metadata": {},
   "source": [
    "## (0,10)\n",
    "\n",
    "Qual expressão para o cálculo de `n` foi utilizada: finito ou infinito? Justifique."
   ]
  },
  {
   "cell_type": "markdown",
   "id": "3257332b",
   "metadata": {},
   "source": [
    "> "
   ]
  },
  {
   "cell_type": "code",
   "execution_count": null,
   "id": "d93ce18c",
   "metadata": {},
   "outputs": [],
   "source": []
  },
  {
   "cell_type": "markdown",
   "id": "20c5e889",
   "metadata": {},
   "source": [
    "## (0,25)\n",
    "\n",
    "Crie um dataframe com `sample_size` amostras para cada nível de escolaridade.\n",
    "\n",
    "Use `random_state=5`."
   ]
  },
  {
   "cell_type": "markdown",
   "id": "b0bb07da",
   "metadata": {},
   "source": [
    "<details>\n",
    "    <summary>💪 Desafio (clique aqui) 💪</summary>\n",
    "\n",
    "Consegue pensar em como criar os 9 dataframes em 1 ou 2 linhas? \n",
    "\n",
    "ps: **Não** serão descontados pontos de quem não cumprir o desafio!\n",
    "    \n",
    "</details>    "
   ]
  },
  {
   "cell_type": "code",
   "execution_count": 14,
   "id": "3fdb2e01",
   "metadata": {
    "ExecuteTime": {
     "end_time": "2022-01-31T22:13:57.974020Z",
     "start_time": "2022-01-31T22:13:57.912584Z"
    }
   },
   "outputs": [],
   "source": [
    "fix_seed = 5\n",
    "\n",
    "dados_2 = {}\n",
    "\n",
    "for nivel in niveis:\n",
    "    dados_2[nivel] = df[df['escolaridade']==nivel].sample(n=sample_size, \n",
    "                                                                 random_state=fix_seed, \n",
    "                                                                 replace=True)"
   ]
  },
  {
   "cell_type": "code",
   "execution_count": null,
   "id": "817fb7f0",
   "metadata": {},
   "outputs": [],
   "source": []
  },
  {
   "cell_type": "markdown",
   "id": "233811d7",
   "metadata": {},
   "source": [
    "## (0,25)\n",
    "\n",
    "Calcule a media e desvio amostrais e o erro inferencial de cada uma das amostras criadas acima.\n",
    "\n",
    "Resultado esperado: `print([nivel, media_amostral, desvio_amostral, erro_inferencial])` para cada nível."
   ]
  },
  {
   "cell_type": "code",
   "execution_count": 15,
   "id": "af6b7374",
   "metadata": {
    "ExecuteTime": {
     "end_time": "2022-01-31T22:13:58.005742Z",
     "start_time": "2022-01-31T22:13:57.980719Z"
    }
   },
   "outputs": [
    {
     "name": "stdout",
     "output_type": "stream",
     "text": [
      "['0 - Sem instrução', 735.97, 933.47, 21.71]\n",
      "['1 - Fund. I incompleto', 890.82, 1558.99, 36.25]\n",
      "['2 - Fund. I completo', 1154.37, 1327.98, 30.88]\n",
      "['3 - Fund. II incompleto', 1206.46, 1136.48, 26.43]\n",
      "['4 - Fund. II completo', 1457.23, 1446.2, 33.63]\n",
      "['5 - Médio incompleto', 1391.15, 1578.96, 36.72]\n",
      "['6 - Médio completo', 1845.15, 1941.08, 45.14]\n",
      "['7 - Superior incompleto', 2587.74, 3392.02, 78.88]\n",
      "['8 - Superior completo', 5086.56, 5546.74, 128.99]\n"
     ]
    }
   ],
   "source": [
    "for nivel in niveis:\n",
    "    media_amostral = round(dados_2[nivel]['Renda'].mean(),2)\n",
    "    desvio_amostral = round(dados_2[nivel]['Renda'].std(),2)\n",
    "\n",
    "    erro_inferencial = round(z * desvio_amostral / np.sqrt(sample_size),2)\n",
    "    \n",
    "\n",
    "    print([nivel, media_amostral, desvio_amostral, erro_inferencial])"
   ]
  },
  {
   "cell_type": "code",
   "execution_count": null,
   "id": "266d543a",
   "metadata": {},
   "outputs": [],
   "source": []
  },
  {
   "cell_type": "markdown",
   "id": "04683394",
   "metadata": {},
   "source": [
    "**Estamos prontos para testar nossa hippótese de que, quanto mais anos de estudo, maior o salário. Para isso, vamos análisar se ocorre um aumento significativo de renda entre dois níveis de instrução, conforme definidos no começo da aula.**\n",
    "\n",
    "**Exemplo:** \n",
    "1. Comparar renda média do grupo `0 - Sem instrução` com o grupo `1 - Fund. I incompleto`. \n",
    "2. Comparar renda média do grupo `1 - Fund. I incompleto` com o grupo `2 - Fund. I completo`.\n",
    "3. E assim por diante...."
   ]
  },
  {
   "cell_type": "markdown",
   "id": "c042fe90",
   "metadata": {},
   "source": [
    "## (1,0)\n",
    "\n",
    "Para cada dois níveis de escolaridade consecutivos, teste se as médias de renda são iguais com nível de confiança de 99%.  \n",
    "\n",
    "Resultado esperado para cada comparação. Imprimir as seguintes informações (as opções dos termos entre paraenteses dependem das suas escolhas):\n",
    "\n",
    "* H_0: Renda de pessosas `nivel[i]` **(= ou !=)** `nivel[i+1]`.\n",
    "* [(**t ou z)**, p] \n",
    "* **(Aceitar ou Rejeitar)** H_0. "
   ]
  },
  {
   "cell_type": "markdown",
   "id": "6bc13edf",
   "metadata": {},
   "source": [
    "<details>\n",
    "    <summary>🙆‍♂️ Dica (clique aqui) 🙋‍</summary>\n",
    "\n",
    "Você terá que repetir o mesmo cálculo diversas vezes. Use o poder do computador e escreva sua solução de forma genérica, de tal forma que você possa mudar os parâmetros necessários para realizar novos cálculos rapidamente.   \n",
    "</details>    "
   ]
  },
  {
   "cell_type": "code",
   "execution_count": 16,
   "id": "eb3e59fd",
   "metadata": {
    "ExecuteTime": {
     "end_time": "2022-01-31T22:13:58.021707Z",
     "start_time": "2022-01-31T22:13:58.007707Z"
    }
   },
   "outputs": [
    {
     "name": "stdout",
     "output_type": "stream",
     "text": [
      "H_0: Renda de pessosas 0 - Sem instrução = 1 - Fund. I incompleto.\n",
      "[-6.960656985241055, 3.5451849394784234e-12]\n",
      "Rejeitar H_0.\n",
      "\n",
      "H_0: Renda de pessosas 1 - Fund. I incompleto = 2 - Fund. I completo.\n",
      "[-10.511985633750273, 9.590592601661403e-26]\n",
      "Rejeitar H_0.\n",
      "\n",
      "H_0: Renda de pessosas 2 - Fund. I completo = 3 - Fund. II incompleto.\n",
      "[-2.4338558438168247, 0.014951976598672388]\n",
      "Aceitar H_0.\n",
      "\n",
      "H_0: Renda de pessosas 3 - Fund. II incompleto = 4 - Fund. II completo.\n",
      "[-11.136518645266618, 1.1145841038298547e-28]\n",
      "Rejeitar H_0.\n",
      "\n",
      "H_0: Renda de pessosas 4 - Fund. II completo = 5 - Médio incompleto.\n",
      "[2.5205558980730096, 0.011728527370649965]\n",
      "Aceitar H_0.\n",
      "\n",
      "H_0: Renda de pessosas 5 - Médio incompleto = 6 - Médio completo.\n",
      "[-14.820320417745858, 2.669082353076942e-49]\n",
      "Rejeitar H_0.\n",
      "\n",
      "H_0: Renda de pessosas 6 - Médio completo = 7 - Superior incompleto.\n",
      "[-15.520527185844912, 7.444341057823433e-54]\n",
      "Rejeitar H_0.\n",
      "\n",
      "H_0: Renda de pessosas 7 - Superior incompleto = 8 - Superior completo.\n",
      "[-31.393231995727543, 8.893336622238486e-209]\n",
      "Rejeitar H_0.\n",
      "\n"
     ]
    }
   ],
   "source": [
    "confianca = 0.99\n",
    "significancia = 1 - confianca\n",
    "\n",
    "for nivel in range(len(niveis)-1):\n",
    "    nivel_1 = dados_2[niveis[nivel]]['Renda']\n",
    "    nivel_2 = dados_2[niveis[nivel+1]]['Renda']\n",
    "    \n",
    "    t, p, dof = ttest_ind(nivel_1, nivel_2, alternative='two-sided')\n",
    "    \n",
    "    print(f'H_0: Renda de pessosas {niveis[nivel]} = {niveis[nivel+1]}.')\n",
    "    print([t, p] )\n",
    "    if (p>=significancia):\n",
    "        print('Aceitar H_0.')\n",
    "    else:\n",
    "        print('Rejeitar H_0.')\n",
    "    print('')\n",
    "    \n",
    "    "
   ]
  },
  {
   "cell_type": "code",
   "execution_count": null,
   "id": "aebf608d",
   "metadata": {},
   "outputs": [],
   "source": []
  },
  {
   "cell_type": "markdown",
   "id": "e4199144",
   "metadata": {},
   "source": [
    "## (0,25)\n",
    "\n",
    "Quais suas conclusões sobre os resultados encontrados?"
   ]
  },
  {
   "cell_type": "markdown",
   "id": "8257fc62",
   "metadata": {},
   "source": [
    "> "
   ]
  },
  {
   "cell_type": "code",
   "execution_count": null,
   "id": "b0d69101",
   "metadata": {},
   "outputs": [],
   "source": []
  },
  {
   "cell_type": "markdown",
   "id": "f896dfed",
   "metadata": {},
   "source": [
    "## (0,5)\n",
    "\n",
    "No exercício acima avaliamos se as médias de renda entre dois grupos são iguais ou diferentes, mas isso não diz muito sobre qual grupo ganha mais. Reformule sua hipótese inicial assumindo que o grupo com menor nível de escolaridade ganhe menos que o grupo seguinte com significância de 1%.\n",
    "\n",
    "Resultado esperado para cada comparação. Imprimir as seguintes informações (as opções dos termos entre paraenteses dependem das suas escolhas):\n",
    "\n",
    "* H_0: Renda de pessosas `nivel[i]` **(<= ou >= ou < ou >)** `nivel[i+1]`.\n",
    "* [(**t ou z)**, p] \n",
    "* **(Aceitar ou Rejeitar)** H_0. "
   ]
  },
  {
   "cell_type": "code",
   "execution_count": 17,
   "id": "6a43088b",
   "metadata": {
    "ExecuteTime": {
     "end_time": "2022-01-31T22:13:58.037739Z",
     "start_time": "2022-01-31T22:13:58.022707Z"
    }
   },
   "outputs": [
    {
     "name": "stdout",
     "output_type": "stream",
     "text": [
      "H_0: Renda de pessosas 0 - Sem instrução <= 1 - Fund. I incompleto.\n",
      "[-6.960656985241055, 0.9999999999982274]\n",
      "Aceitar H_0.\n",
      "\n",
      "H_0: Renda de pessosas 1 - Fund. I incompleto <= 2 - Fund. I completo.\n",
      "[-10.511985633750273, 1.0]\n",
      "Aceitar H_0.\n",
      "\n",
      "H_0: Renda de pessosas 2 - Fund. I completo <= 3 - Fund. II incompleto.\n",
      "[-2.4338558438168247, 0.9925240117006637]\n",
      "Aceitar H_0.\n",
      "\n",
      "H_0: Renda de pessosas 3 - Fund. II incompleto <= 4 - Fund. II completo.\n",
      "[-11.136518645266618, 1.0]\n",
      "Aceitar H_0.\n",
      "\n",
      "H_0: Renda de pessosas 4 - Fund. II completo <= 5 - Médio incompleto.\n",
      "[2.5205558980730096, 0.005864263685324982]\n",
      "Rejeitar H_0.\n",
      "\n",
      "H_0: Renda de pessosas 5 - Médio incompleto <= 6 - Médio completo.\n",
      "[-14.820320417745858, 1.0]\n",
      "Aceitar H_0.\n",
      "\n",
      "H_0: Renda de pessosas 6 - Médio completo <= 7 - Superior incompleto.\n",
      "[-15.520527185844912, 1.0]\n",
      "Aceitar H_0.\n",
      "\n",
      "H_0: Renda de pessosas 7 - Superior incompleto <= 8 - Superior completo.\n",
      "[-31.393231995727543, 1.0]\n",
      "Aceitar H_0.\n",
      "\n"
     ]
    }
   ],
   "source": [
    "confianca = 0.99\n",
    "significancia = 1 - confianca\n",
    "\n",
    "for nivel in range(len(niveis)-1):\n",
    "    nivel_1 = dados_2[niveis[nivel]]['Renda']\n",
    "    nivel_2 = dados_2[niveis[nivel+1]]['Renda']\n",
    "    \n",
    "    t, p, dof = ttest_ind(nivel_1, nivel_2, alternative='larger')\n",
    "    \n",
    "    print(f'H_0: Renda de pessosas {niveis[nivel]} <= {niveis[nivel+1]}.')\n",
    "    print([t, p] )\n",
    "    if (p>=significancia):\n",
    "        print('Aceitar H_0.')\n",
    "    else:\n",
    "        print('Rejeitar H_0.')\n",
    "    print('')"
   ]
  },
  {
   "cell_type": "code",
   "execution_count": null,
   "id": "a3bfa3f8",
   "metadata": {},
   "outputs": [],
   "source": []
  },
  {
   "cell_type": "markdown",
   "id": "d84c404a",
   "metadata": {},
   "source": [
    "## (0,25)\n",
    "\n",
    "Quais suas conclusões sobre os resultados encontrados?"
   ]
  },
  {
   "cell_type": "markdown",
   "id": "1eaaeacb",
   "metadata": {},
   "source": [
    "> "
   ]
  },
  {
   "cell_type": "code",
   "execution_count": null,
   "id": "5f14d2dc",
   "metadata": {},
   "outputs": [],
   "source": []
  },
  {
   "cell_type": "markdown",
   "id": "0312d01f",
   "metadata": {},
   "source": [
    "## (0,5)\n",
    "\n",
    "Qual seria sua recomendação de resultados sobre o impacto do tempo de estudo na renda dos brasileiros? Escreva de forma resumida sua conclusão, pontos de atenção e sugestões, caso necessário. "
   ]
  },
  {
   "cell_type": "markdown",
   "id": "980854b0",
   "metadata": {},
   "source": [
    "> "
   ]
  },
  {
   "cell_type": "markdown",
   "id": "1a0e9457",
   "metadata": {},
   "source": [
    "## (1,0)\n",
    "\n",
    "Enquanto estava realizando a análise acima, um colega de trabalho lhe apresentou 4 opções de solução, que você pensou em usar para validar seus cálculos. Contudo, ele, que não foi aluno do Dr. Carrasco, foi demitido pela baixa qualidade de trabalho e, ao olhar as notas dele, você entendeu o porquê.\n",
    "\n",
    "---\n",
    "**Relatório de testes de hipóteses da renda.**\n",
    "\n",
    "``` python\n",
    "nivel_1 = media de renda para nível Fund. II completo   \n",
    "nivel_2 = media de renda para nível Médio incompleto\n",
    "\n",
    "1.\n",
    "ztest(nivel_1, nivel_2, alternative='larger')\n",
    "(2.5205558980730096, 0.005858481326660286)\n",
    "\n",
    "2.\n",
    "ztest(nivel_2, nivel_1, alternative='smaller')\n",
    "(-2.5205558980730096, 0.005858481326660286)\n",
    "\n",
    "3.\n",
    "ztest(nivel_1, nivel_2, alternative='two-sided')\n",
    "(2.5205558980730096, 0.011716962653320572)\n",
    "\n",
    "4.\n",
    "ztest(nivel_1, nivel_2, alternative='smaller')\n",
    "(-2.5205558980730096, 0.9941415186733397)\n",
    "````\n",
    "--- \n",
    "\n",
    "Defina para cada caso as hipóteses nula e alternativa bem como a aceitação ou rejeição da hipótese nula com um nível de significância de 5%."
   ]
  },
  {
   "cell_type": "code",
   "execution_count": 18,
   "id": "87bcd0cf",
   "metadata": {
    "ExecuteTime": {
     "end_time": "2022-01-31T22:13:58.053708Z",
     "start_time": "2022-01-31T22:13:58.039707Z"
    }
   },
   "outputs": [],
   "source": [
    "significancia = 0.05"
   ]
  },
  {
   "cell_type": "code",
   "execution_count": 19,
   "id": "e99b3af8",
   "metadata": {
    "ExecuteTime": {
     "end_time": "2022-01-31T22:13:58.069705Z",
     "start_time": "2022-01-31T22:13:58.054704Z"
    }
   },
   "outputs": [
    {
     "name": "stdout",
     "output_type": "stream",
     "text": [
      "1\n",
      "H_0: nivel_1 <= nivel_2\n",
      "H_1: nivel_1 > nivel_2\n",
      "2.5205558980730096 0.005858481326660286\n",
      "Rejeitar H_0.\n",
      "\n",
      "2\n",
      "H_0: nivel_2 >= nivel_1\n",
      "H_1: nivel_2 < nivel_1\n",
      "-2.5205558980730096 0.005858481326660286\n",
      "Rejeitar H_0.\n",
      "\n",
      "3\n",
      "H_0: nivel_2 = nivel_1\n",
      "H_1: nivel_1 <> nivel_2\n",
      "2.5205558980730096 0.011716962653320572\n",
      "Rejeitar H_0.\n",
      "\n",
      "4\n",
      "H_0: nivel_1 >= nivel_2\n",
      "H_1: nivel_1 < nivel_2\n",
      "2.5205558980730096 0.9941415186733397\n",
      "Aceitar H_0.\n",
      "\n"
     ]
    }
   ],
   "source": [
    "# 1\n",
    "nivel_1 = dados_2['4 - Fund. II completo']['Renda']   \n",
    "nivel_2 = dados_2['5 - Médio incompleto']['Renda']\n",
    "\n",
    "z, p = ztest(nivel_1, nivel_2, alternative='larger')\n",
    "\n",
    "print(1)\n",
    "print('H_0: nivel_1 <= nivel_2')\n",
    "print('H_1: nivel_1 > nivel_2')\n",
    "print(z,p)\n",
    "\n",
    "if (p>=significancia):\n",
    "    print('Aceitar H_0.')\n",
    "else:\n",
    "    print('Rejeitar H_0.')\n",
    "print('')\n",
    "\n",
    "# 2\n",
    "nivel_1 = dados_2['4 - Fund. II completo']['Renda']   \n",
    "nivel_2 = dados_2['5 - Médio incompleto']['Renda']\n",
    "\n",
    "z, p = ztest(nivel_2, nivel_1, alternative='smaller')\n",
    "\n",
    "print(2)\n",
    "print('H_0: nivel_2 >= nivel_1')\n",
    "print('H_1: nivel_2 < nivel_1')\n",
    "print(z,p)\n",
    "\n",
    "if (p>=significancia):\n",
    "    print('Aceitar H_0.')\n",
    "else:\n",
    "    print('Rejeitar H_0.')\n",
    "print('')\n",
    "\n",
    "# 3\n",
    "nivel_1 = dados_2['4 - Fund. II completo']['Renda']   \n",
    "nivel_2 = dados_2['5 - Médio incompleto']['Renda']\n",
    "\n",
    "z, p = ztest(nivel_1, nivel_2, alternative='two-sided')\n",
    "\n",
    "print(3)\n",
    "print('H_0: nivel_2 = nivel_1')\n",
    "print('H_1: nivel_1 <> nivel_2')\n",
    "print(z,p)\n",
    "\n",
    "if (p>=significancia):\n",
    "    print('Aceitar H_0.')\n",
    "else:\n",
    "    print('Rejeitar H_0.')\n",
    "print('')\n",
    "\n",
    "# 4\n",
    "nivel_1 = dados_2['4 - Fund. II completo']['Renda']   \n",
    "nivel_2 = dados_2['5 - Médio incompleto']['Renda']\n",
    "\n",
    "z, p = ztest(nivel_1, nivel_2, alternative='smaller')\n",
    "\n",
    "print(4)\n",
    "print('H_0: nivel_1 >= nivel_2')\n",
    "print('H_1: nivel_1 < nivel_2')\n",
    "print(z,p)\n",
    "\n",
    "if (p>=significancia):\n",
    "    print('Aceitar H_0.')\n",
    "else:\n",
    "    print('Rejeitar H_0.')\n",
    "print('')"
   ]
  },
  {
   "cell_type": "code",
   "execution_count": null,
   "id": "ca2e3aa5",
   "metadata": {},
   "outputs": [],
   "source": []
  },
  {
   "cell_type": "markdown",
   "id": "08accf2f",
   "metadata": {},
   "source": [
    "**Vamos analisar alguns dados sobre o acesso de diferentes raças à educação.**\n",
    "\n",
    "A tabela abaixo mostra as probabilidades para o seguinte diagrama.\n",
    "\n",
    "![image.png](diagrama_pessoas.png)"
   ]
  },
  {
   "cell_type": "markdown",
   "id": "4954a927",
   "metadata": {},
   "source": [
    "![dataframe.png](dataframe.png)"
   ]
  },
  {
   "cell_type": "code",
   "execution_count": 20,
   "id": "0c973146",
   "metadata": {
    "ExecuteTime": {
     "end_time": "2022-01-31T22:13:58.493314Z",
     "start_time": "2022-01-31T22:13:58.070705Z"
    },
    "scrolled": true
   },
   "outputs": [
    {
     "data": {
      "text/html": [
       "<div>\n",
       "<style scoped>\n",
       "    .dataframe tbody tr th:only-of-type {\n",
       "        vertical-align: middle;\n",
       "    }\n",
       "\n",
       "    .dataframe tbody tr th {\n",
       "        vertical-align: top;\n",
       "    }\n",
       "\n",
       "    .dataframe thead th {\n",
       "        text-align: right;\n",
       "    }\n",
       "</style>\n",
       "<table border=\"1\" class=\"dataframe\">\n",
       "  <thead>\n",
       "    <tr style=\"text-align: right;\">\n",
       "      <th></th>\n",
       "      <th>cor</th>\n",
       "      <th>P_C</th>\n",
       "      <th>nivel</th>\n",
       "      <th>P_NC</th>\n",
       "      <th>P_NC*P_C</th>\n",
       "    </tr>\n",
       "  </thead>\n",
       "  <tbody>\n",
       "    <tr>\n",
       "      <th>0</th>\n",
       "      <td>0.0</td>\n",
       "      <td>0.004618</td>\n",
       "      <td>0 - Sem instrução</td>\n",
       "      <td>0.138418</td>\n",
       "      <td>0.000639</td>\n",
       "    </tr>\n",
       "    <tr>\n",
       "      <th>1</th>\n",
       "      <td>0.0</td>\n",
       "      <td>0.004618</td>\n",
       "      <td>1 - Fund. I incompleto</td>\n",
       "      <td>0.110169</td>\n",
       "      <td>0.000509</td>\n",
       "    </tr>\n",
       "    <tr>\n",
       "      <th>2</th>\n",
       "      <td>0.0</td>\n",
       "      <td>0.004618</td>\n",
       "      <td>2 - Fund. I completo</td>\n",
       "      <td>0.062147</td>\n",
       "      <td>0.000287</td>\n",
       "    </tr>\n",
       "    <tr>\n",
       "      <th>3</th>\n",
       "      <td>0.0</td>\n",
       "      <td>0.004618</td>\n",
       "      <td>3 - Fund. II incompleto</td>\n",
       "      <td>0.144068</td>\n",
       "      <td>0.000665</td>\n",
       "    </tr>\n",
       "    <tr>\n",
       "      <th>4</th>\n",
       "      <td>0.0</td>\n",
       "      <td>0.004618</td>\n",
       "      <td>4 - Fund. II completo</td>\n",
       "      <td>0.127119</td>\n",
       "      <td>0.000587</td>\n",
       "    </tr>\n",
       "    <tr>\n",
       "      <th>5</th>\n",
       "      <td>0.0</td>\n",
       "      <td>0.004618</td>\n",
       "      <td>5 - Médio incompleto</td>\n",
       "      <td>0.079096</td>\n",
       "      <td>0.000365</td>\n",
       "    </tr>\n",
       "    <tr>\n",
       "      <th>6</th>\n",
       "      <td>0.0</td>\n",
       "      <td>0.004618</td>\n",
       "      <td>6 - Médio completo</td>\n",
       "      <td>0.231638</td>\n",
       "      <td>0.001070</td>\n",
       "    </tr>\n",
       "    <tr>\n",
       "      <th>7</th>\n",
       "      <td>0.0</td>\n",
       "      <td>0.004618</td>\n",
       "      <td>7 - Superior incompleto</td>\n",
       "      <td>0.050847</td>\n",
       "      <td>0.000235</td>\n",
       "    </tr>\n",
       "    <tr>\n",
       "      <th>8</th>\n",
       "      <td>0.0</td>\n",
       "      <td>0.004618</td>\n",
       "      <td>8 - Superior completo</td>\n",
       "      <td>0.056497</td>\n",
       "      <td>0.000261</td>\n",
       "    </tr>\n",
       "    <tr>\n",
       "      <th>9</th>\n",
       "      <td>2.0</td>\n",
       "      <td>0.414265</td>\n",
       "      <td>0 - Sem instrução</td>\n",
       "      <td>0.044720</td>\n",
       "      <td>0.018526</td>\n",
       "    </tr>\n",
       "    <tr>\n",
       "      <th>10</th>\n",
       "      <td>2.0</td>\n",
       "      <td>0.414265</td>\n",
       "      <td>1 - Fund. I incompleto</td>\n",
       "      <td>0.060152</td>\n",
       "      <td>0.024919</td>\n",
       "    </tr>\n",
       "    <tr>\n",
       "      <th>11</th>\n",
       "      <td>2.0</td>\n",
       "      <td>0.414265</td>\n",
       "      <td>2 - Fund. I completo</td>\n",
       "      <td>0.084496</td>\n",
       "      <td>0.035004</td>\n",
       "    </tr>\n",
       "    <tr>\n",
       "      <th>12</th>\n",
       "      <td>2.0</td>\n",
       "      <td>0.414265</td>\n",
       "      <td>3 - Fund. II incompleto</td>\n",
       "      <td>0.107076</td>\n",
       "      <td>0.044358</td>\n",
       "    </tr>\n",
       "    <tr>\n",
       "      <th>13</th>\n",
       "      <td>2.0</td>\n",
       "      <td>0.414265</td>\n",
       "      <td>4 - Fund. II completo</td>\n",
       "      <td>0.097692</td>\n",
       "      <td>0.040470</td>\n",
       "    </tr>\n",
       "    <tr>\n",
       "      <th>14</th>\n",
       "      <td>2.0</td>\n",
       "      <td>0.414265</td>\n",
       "      <td>5 - Médio incompleto</td>\n",
       "      <td>0.042106</td>\n",
       "      <td>0.017443</td>\n",
       "    </tr>\n",
       "    <tr>\n",
       "      <th>15</th>\n",
       "      <td>2.0</td>\n",
       "      <td>0.414265</td>\n",
       "      <td>6 - Médio completo</td>\n",
       "      <td>0.278336</td>\n",
       "      <td>0.115305</td>\n",
       "    </tr>\n",
       "    <tr>\n",
       "      <th>16</th>\n",
       "      <td>2.0</td>\n",
       "      <td>0.414265</td>\n",
       "      <td>7 - Superior incompleto</td>\n",
       "      <td>0.072592</td>\n",
       "      <td>0.030072</td>\n",
       "    </tr>\n",
       "    <tr>\n",
       "      <th>17</th>\n",
       "      <td>2.0</td>\n",
       "      <td>0.414265</td>\n",
       "      <td>8 - Superior completo</td>\n",
       "      <td>0.212830</td>\n",
       "      <td>0.088168</td>\n",
       "    </tr>\n",
       "    <tr>\n",
       "      <th>18</th>\n",
       "      <td>4.0</td>\n",
       "      <td>0.109199</td>\n",
       "      <td>0 - Sem instrução</td>\n",
       "      <td>0.095699</td>\n",
       "      <td>0.010450</td>\n",
       "    </tr>\n",
       "    <tr>\n",
       "      <th>19</th>\n",
       "      <td>4.0</td>\n",
       "      <td>0.109199</td>\n",
       "      <td>1 - Fund. I incompleto</td>\n",
       "      <td>0.095102</td>\n",
       "      <td>0.010385</td>\n",
       "    </tr>\n",
       "    <tr>\n",
       "      <th>20</th>\n",
       "      <td>4.0</td>\n",
       "      <td>0.109199</td>\n",
       "      <td>2 - Fund. I completo</td>\n",
       "      <td>0.082915</td>\n",
       "      <td>0.009054</td>\n",
       "    </tr>\n",
       "    <tr>\n",
       "      <th>21</th>\n",
       "      <td>4.0</td>\n",
       "      <td>0.109199</td>\n",
       "      <td>3 - Fund. II incompleto</td>\n",
       "      <td>0.135364</td>\n",
       "      <td>0.014782</td>\n",
       "    </tr>\n",
       "    <tr>\n",
       "      <th>22</th>\n",
       "      <td>4.0</td>\n",
       "      <td>0.109199</td>\n",
       "      <td>4 - Fund. II completo</td>\n",
       "      <td>0.107527</td>\n",
       "      <td>0.011742</td>\n",
       "    </tr>\n",
       "    <tr>\n",
       "      <th>23</th>\n",
       "      <td>4.0</td>\n",
       "      <td>0.109199</td>\n",
       "      <td>5 - Médio incompleto</td>\n",
       "      <td>0.061290</td>\n",
       "      <td>0.006693</td>\n",
       "    </tr>\n",
       "    <tr>\n",
       "      <th>24</th>\n",
       "      <td>4.0</td>\n",
       "      <td>0.109199</td>\n",
       "      <td>6 - Médio completo</td>\n",
       "      <td>0.289486</td>\n",
       "      <td>0.031612</td>\n",
       "    </tr>\n",
       "    <tr>\n",
       "      <th>25</th>\n",
       "      <td>4.0</td>\n",
       "      <td>0.109199</td>\n",
       "      <td>7 - Superior incompleto</td>\n",
       "      <td>0.050060</td>\n",
       "      <td>0.005466</td>\n",
       "    </tr>\n",
       "    <tr>\n",
       "      <th>26</th>\n",
       "      <td>4.0</td>\n",
       "      <td>0.109199</td>\n",
       "      <td>8 - Superior completo</td>\n",
       "      <td>0.082557</td>\n",
       "      <td>0.009015</td>\n",
       "    </tr>\n",
       "    <tr>\n",
       "      <th>27</th>\n",
       "      <td>6.0</td>\n",
       "      <td>0.004592</td>\n",
       "      <td>0 - Sem instrução</td>\n",
       "      <td>0.025568</td>\n",
       "      <td>0.000117</td>\n",
       "    </tr>\n",
       "    <tr>\n",
       "      <th>28</th>\n",
       "      <td>6.0</td>\n",
       "      <td>0.004592</td>\n",
       "      <td>1 - Fund. I incompleto</td>\n",
       "      <td>0.017045</td>\n",
       "      <td>0.000078</td>\n",
       "    </tr>\n",
       "    <tr>\n",
       "      <th>29</th>\n",
       "      <td>6.0</td>\n",
       "      <td>0.004592</td>\n",
       "      <td>2 - Fund. I completo</td>\n",
       "      <td>0.059659</td>\n",
       "      <td>0.000274</td>\n",
       "    </tr>\n",
       "    <tr>\n",
       "      <th>30</th>\n",
       "      <td>6.0</td>\n",
       "      <td>0.004592</td>\n",
       "      <td>3 - Fund. II incompleto</td>\n",
       "      <td>0.039773</td>\n",
       "      <td>0.000183</td>\n",
       "    </tr>\n",
       "    <tr>\n",
       "      <th>31</th>\n",
       "      <td>6.0</td>\n",
       "      <td>0.004592</td>\n",
       "      <td>4 - Fund. II completo</td>\n",
       "      <td>0.073864</td>\n",
       "      <td>0.000339</td>\n",
       "    </tr>\n",
       "    <tr>\n",
       "      <th>32</th>\n",
       "      <td>6.0</td>\n",
       "      <td>0.004592</td>\n",
       "      <td>5 - Médio incompleto</td>\n",
       "      <td>0.028409</td>\n",
       "      <td>0.000130</td>\n",
       "    </tr>\n",
       "    <tr>\n",
       "      <th>33</th>\n",
       "      <td>6.0</td>\n",
       "      <td>0.004592</td>\n",
       "      <td>6 - Médio completo</td>\n",
       "      <td>0.250000</td>\n",
       "      <td>0.001148</td>\n",
       "    </tr>\n",
       "    <tr>\n",
       "      <th>34</th>\n",
       "      <td>6.0</td>\n",
       "      <td>0.004592</td>\n",
       "      <td>7 - Superior incompleto</td>\n",
       "      <td>0.073864</td>\n",
       "      <td>0.000339</td>\n",
       "    </tr>\n",
       "    <tr>\n",
       "      <th>35</th>\n",
       "      <td>6.0</td>\n",
       "      <td>0.004592</td>\n",
       "      <td>8 - Superior completo</td>\n",
       "      <td>0.431818</td>\n",
       "      <td>0.001983</td>\n",
       "    </tr>\n",
       "    <tr>\n",
       "      <th>36</th>\n",
       "      <td>8.0</td>\n",
       "      <td>0.467325</td>\n",
       "      <td>0 - Sem instrução</td>\n",
       "      <td>0.099665</td>\n",
       "      <td>0.046576</td>\n",
       "    </tr>\n",
       "    <tr>\n",
       "      <th>37</th>\n",
       "      <td>8.0</td>\n",
       "      <td>0.467325</td>\n",
       "      <td>1 - Fund. I incompleto</td>\n",
       "      <td>0.101312</td>\n",
       "      <td>0.047346</td>\n",
       "    </tr>\n",
       "    <tr>\n",
       "      <th>38</th>\n",
       "      <td>8.0</td>\n",
       "      <td>0.467325</td>\n",
       "      <td>2 - Fund. I completo</td>\n",
       "      <td>0.092379</td>\n",
       "      <td>0.043171</td>\n",
       "    </tr>\n",
       "    <tr>\n",
       "      <th>39</th>\n",
       "      <td>8.0</td>\n",
       "      <td>0.467325</td>\n",
       "      <td>3 - Fund. II incompleto</td>\n",
       "      <td>0.140564</td>\n",
       "      <td>0.065689</td>\n",
       "    </tr>\n",
       "    <tr>\n",
       "      <th>40</th>\n",
       "      <td>8.0</td>\n",
       "      <td>0.467325</td>\n",
       "      <td>4 - Fund. II completo</td>\n",
       "      <td>0.109073</td>\n",
       "      <td>0.050973</td>\n",
       "    </tr>\n",
       "    <tr>\n",
       "      <th>41</th>\n",
       "      <td>8.0</td>\n",
       "      <td>0.467325</td>\n",
       "      <td>5 - Médio incompleto</td>\n",
       "      <td>0.057789</td>\n",
       "      <td>0.027006</td>\n",
       "    </tr>\n",
       "    <tr>\n",
       "      <th>42</th>\n",
       "      <td>8.0</td>\n",
       "      <td>0.467325</td>\n",
       "      <td>6 - Médio completo</td>\n",
       "      <td>0.262898</td>\n",
       "      <td>0.122859</td>\n",
       "    </tr>\n",
       "    <tr>\n",
       "      <th>43</th>\n",
       "      <td>8.0</td>\n",
       "      <td>0.467325</td>\n",
       "      <td>7 - Superior incompleto</td>\n",
       "      <td>0.047711</td>\n",
       "      <td>0.022296</td>\n",
       "    </tr>\n",
       "    <tr>\n",
       "      <th>44</th>\n",
       "      <td>8.0</td>\n",
       "      <td>0.467325</td>\n",
       "      <td>8 - Superior completo</td>\n",
       "      <td>0.088610</td>\n",
       "      <td>0.041410</td>\n",
       "    </tr>\n",
       "  </tbody>\n",
       "</table>\n",
       "</div>"
      ],
      "text/plain": [
       "    cor       P_C                    nivel      P_NC  P_NC*P_C\n",
       "0   0.0  0.004618        0 - Sem instrução  0.138418  0.000639\n",
       "1   0.0  0.004618   1 - Fund. I incompleto  0.110169  0.000509\n",
       "2   0.0  0.004618     2 - Fund. I completo  0.062147  0.000287\n",
       "3   0.0  0.004618  3 - Fund. II incompleto  0.144068  0.000665\n",
       "4   0.0  0.004618    4 - Fund. II completo  0.127119  0.000587\n",
       "5   0.0  0.004618     5 - Médio incompleto  0.079096  0.000365\n",
       "6   0.0  0.004618       6 - Médio completo  0.231638  0.001070\n",
       "7   0.0  0.004618  7 - Superior incompleto  0.050847  0.000235\n",
       "8   0.0  0.004618    8 - Superior completo  0.056497  0.000261\n",
       "9   2.0  0.414265        0 - Sem instrução  0.044720  0.018526\n",
       "10  2.0  0.414265   1 - Fund. I incompleto  0.060152  0.024919\n",
       "11  2.0  0.414265     2 - Fund. I completo  0.084496  0.035004\n",
       "12  2.0  0.414265  3 - Fund. II incompleto  0.107076  0.044358\n",
       "13  2.0  0.414265    4 - Fund. II completo  0.097692  0.040470\n",
       "14  2.0  0.414265     5 - Médio incompleto  0.042106  0.017443\n",
       "15  2.0  0.414265       6 - Médio completo  0.278336  0.115305\n",
       "16  2.0  0.414265  7 - Superior incompleto  0.072592  0.030072\n",
       "17  2.0  0.414265    8 - Superior completo  0.212830  0.088168\n",
       "18  4.0  0.109199        0 - Sem instrução  0.095699  0.010450\n",
       "19  4.0  0.109199   1 - Fund. I incompleto  0.095102  0.010385\n",
       "20  4.0  0.109199     2 - Fund. I completo  0.082915  0.009054\n",
       "21  4.0  0.109199  3 - Fund. II incompleto  0.135364  0.014782\n",
       "22  4.0  0.109199    4 - Fund. II completo  0.107527  0.011742\n",
       "23  4.0  0.109199     5 - Médio incompleto  0.061290  0.006693\n",
       "24  4.0  0.109199       6 - Médio completo  0.289486  0.031612\n",
       "25  4.0  0.109199  7 - Superior incompleto  0.050060  0.005466\n",
       "26  4.0  0.109199    8 - Superior completo  0.082557  0.009015\n",
       "27  6.0  0.004592        0 - Sem instrução  0.025568  0.000117\n",
       "28  6.0  0.004592   1 - Fund. I incompleto  0.017045  0.000078\n",
       "29  6.0  0.004592     2 - Fund. I completo  0.059659  0.000274\n",
       "30  6.0  0.004592  3 - Fund. II incompleto  0.039773  0.000183\n",
       "31  6.0  0.004592    4 - Fund. II completo  0.073864  0.000339\n",
       "32  6.0  0.004592     5 - Médio incompleto  0.028409  0.000130\n",
       "33  6.0  0.004592       6 - Médio completo  0.250000  0.001148\n",
       "34  6.0  0.004592  7 - Superior incompleto  0.073864  0.000339\n",
       "35  6.0  0.004592    8 - Superior completo  0.431818  0.001983\n",
       "36  8.0  0.467325        0 - Sem instrução  0.099665  0.046576\n",
       "37  8.0  0.467325   1 - Fund. I incompleto  0.101312  0.047346\n",
       "38  8.0  0.467325     2 - Fund. I completo  0.092379  0.043171\n",
       "39  8.0  0.467325  3 - Fund. II incompleto  0.140564  0.065689\n",
       "40  8.0  0.467325    4 - Fund. II completo  0.109073  0.050973\n",
       "41  8.0  0.467325     5 - Médio incompleto  0.057789  0.027006\n",
       "42  8.0  0.467325       6 - Médio completo  0.262898  0.122859\n",
       "43  8.0  0.467325  7 - Superior incompleto  0.047711  0.022296\n",
       "44  8.0  0.467325    8 - Superior completo  0.088610  0.041410"
      ]
     },
     "execution_count": 20,
     "metadata": {},
     "output_type": "execute_result"
    }
   ],
   "source": [
    "P_C = {}\n",
    "for cor in cores:\n",
    "    P_C[cor] = df[df['Cor']==cor].shape[0] / df.shape[0]\n",
    "\n",
    "P_NC = {}\n",
    "for cor in cores:\n",
    "    temp = {}\n",
    "    for nivel in niveis:\n",
    "        temp[nivel] = df[(df['Cor']==cor) & (df['escolaridade']==nivel)].shape[0] /  df[df['Cor']==cor].shape[0]\n",
    "    P_NC[cor] = temp\n",
    "\n",
    "\n",
    "df_cn = pd.DataFrame()\n",
    "for cor in cores:\n",
    "    for nivel in niveis:\n",
    "        df_cn = df_cn.append(pd.Series([cor, P_C[cor], nivel, P_NC[cor][nivel], P_NC[cor][nivel]*P_C[cor]]), ignore_index=True)\n",
    "\n",
    "df_cn.columns = columns=['cor', 'P_C', 'nivel', 'P_NC', 'P_NC*P_C']\n",
    "df_cn"
   ]
  },
  {
   "cell_type": "code",
   "execution_count": null,
   "id": "e579c311",
   "metadata": {},
   "outputs": [],
   "source": []
  },
  {
   "cell_type": "code",
   "execution_count": 21,
   "id": "a838acbb",
   "metadata": {
    "ExecuteTime": {
     "end_time": "2022-01-31T22:13:59.079711Z",
     "start_time": "2022-01-31T22:13:58.494315Z"
    }
   },
   "outputs": [
    {
     "data": {
      "text/html": [
       "<div>\n",
       "<style scoped>\n",
       "    .dataframe tbody tr th:only-of-type {\n",
       "        vertical-align: middle;\n",
       "    }\n",
       "\n",
       "    .dataframe tbody tr th {\n",
       "        vertical-align: top;\n",
       "    }\n",
       "\n",
       "    .dataframe thead th {\n",
       "        text-align: right;\n",
       "    }\n",
       "</style>\n",
       "<table border=\"1\" class=\"dataframe\">\n",
       "  <thead>\n",
       "    <tr style=\"text-align: right;\">\n",
       "      <th></th>\n",
       "      <th>nivel</th>\n",
       "      <th>P_N</th>\n",
       "      <th>cor</th>\n",
       "      <th>P_CN</th>\n",
       "      <th>P_CN*P_N</th>\n",
       "    </tr>\n",
       "  </thead>\n",
       "  <tbody>\n",
       "    <tr>\n",
       "      <th>0</th>\n",
       "      <td>0 - Sem instrução</td>\n",
       "      <td>0.076309</td>\n",
       "      <td>0.0</td>\n",
       "      <td>0.008378</td>\n",
       "      <td>0.000639</td>\n",
       "    </tr>\n",
       "    <tr>\n",
       "      <th>1</th>\n",
       "      <td>0 - Sem instrução</td>\n",
       "      <td>0.076309</td>\n",
       "      <td>2.0</td>\n",
       "      <td>0.242777</td>\n",
       "      <td>0.018526</td>\n",
       "    </tr>\n",
       "    <tr>\n",
       "      <th>2</th>\n",
       "      <td>0 - Sem instrução</td>\n",
       "      <td>0.076309</td>\n",
       "      <td>4.0</td>\n",
       "      <td>0.136946</td>\n",
       "      <td>0.010450</td>\n",
       "    </tr>\n",
       "    <tr>\n",
       "      <th>3</th>\n",
       "      <td>0 - Sem instrução</td>\n",
       "      <td>0.076309</td>\n",
       "      <td>6.0</td>\n",
       "      <td>0.001539</td>\n",
       "      <td>0.000117</td>\n",
       "    </tr>\n",
       "    <tr>\n",
       "      <th>4</th>\n",
       "      <td>0 - Sem instrução</td>\n",
       "      <td>0.076309</td>\n",
       "      <td>8.0</td>\n",
       "      <td>0.610361</td>\n",
       "      <td>0.046576</td>\n",
       "    </tr>\n",
       "    <tr>\n",
       "      <th>5</th>\n",
       "      <td>1 - Fund. I incompleto</td>\n",
       "      <td>0.083237</td>\n",
       "      <td>0.0</td>\n",
       "      <td>0.006113</td>\n",
       "      <td>0.000509</td>\n",
       "    </tr>\n",
       "    <tr>\n",
       "      <th>6</th>\n",
       "      <td>1 - Fund. I incompleto</td>\n",
       "      <td>0.083237</td>\n",
       "      <td>2.0</td>\n",
       "      <td>0.299373</td>\n",
       "      <td>0.024919</td>\n",
       "    </tr>\n",
       "    <tr>\n",
       "      <th>7</th>\n",
       "      <td>1 - Fund. I incompleto</td>\n",
       "      <td>0.083237</td>\n",
       "      <td>4.0</td>\n",
       "      <td>0.124765</td>\n",
       "      <td>0.010385</td>\n",
       "    </tr>\n",
       "    <tr>\n",
       "      <th>8</th>\n",
       "      <td>1 - Fund. I incompleto</td>\n",
       "      <td>0.083237</td>\n",
       "      <td>6.0</td>\n",
       "      <td>0.000940</td>\n",
       "      <td>0.000078</td>\n",
       "    </tr>\n",
       "    <tr>\n",
       "      <th>9</th>\n",
       "      <td>1 - Fund. I incompleto</td>\n",
       "      <td>0.083237</td>\n",
       "      <td>8.0</td>\n",
       "      <td>0.568809</td>\n",
       "      <td>0.047346</td>\n",
       "    </tr>\n",
       "    <tr>\n",
       "      <th>10</th>\n",
       "      <td>2 - Fund. I completo</td>\n",
       "      <td>0.087790</td>\n",
       "      <td>0.0</td>\n",
       "      <td>0.003269</td>\n",
       "      <td>0.000287</td>\n",
       "    </tr>\n",
       "    <tr>\n",
       "      <th>11</th>\n",
       "      <td>2 - Fund. I completo</td>\n",
       "      <td>0.087790</td>\n",
       "      <td>2.0</td>\n",
       "      <td>0.398722</td>\n",
       "      <td>0.035004</td>\n",
       "    </tr>\n",
       "    <tr>\n",
       "      <th>12</th>\n",
       "      <td>2 - Fund. I completo</td>\n",
       "      <td>0.087790</td>\n",
       "      <td>4.0</td>\n",
       "      <td>0.103136</td>\n",
       "      <td>0.009054</td>\n",
       "    </tr>\n",
       "    <tr>\n",
       "      <th>13</th>\n",
       "      <td>2 - Fund. I completo</td>\n",
       "      <td>0.087790</td>\n",
       "      <td>6.0</td>\n",
       "      <td>0.003121</td>\n",
       "      <td>0.000274</td>\n",
       "    </tr>\n",
       "    <tr>\n",
       "      <th>14</th>\n",
       "      <td>2 - Fund. I completo</td>\n",
       "      <td>0.087790</td>\n",
       "      <td>8.0</td>\n",
       "      <td>0.491752</td>\n",
       "      <td>0.043171</td>\n",
       "    </tr>\n",
       "    <tr>\n",
       "      <th>15</th>\n",
       "      <td>3 - Fund. II incompleto</td>\n",
       "      <td>0.125677</td>\n",
       "      <td>0.0</td>\n",
       "      <td>0.005294</td>\n",
       "      <td>0.000665</td>\n",
       "    </tr>\n",
       "    <tr>\n",
       "      <th>16</th>\n",
       "      <td>3 - Fund. II incompleto</td>\n",
       "      <td>0.125677</td>\n",
       "      <td>2.0</td>\n",
       "      <td>0.352953</td>\n",
       "      <td>0.044358</td>\n",
       "    </tr>\n",
       "    <tr>\n",
       "      <th>17</th>\n",
       "      <td>3 - Fund. II incompleto</td>\n",
       "      <td>0.125677</td>\n",
       "      <td>4.0</td>\n",
       "      <td>0.117617</td>\n",
       "      <td>0.014782</td>\n",
       "    </tr>\n",
       "    <tr>\n",
       "      <th>18</th>\n",
       "      <td>3 - Fund. II incompleto</td>\n",
       "      <td>0.125677</td>\n",
       "      <td>6.0</td>\n",
       "      <td>0.001453</td>\n",
       "      <td>0.000183</td>\n",
       "    </tr>\n",
       "    <tr>\n",
       "      <th>19</th>\n",
       "      <td>3 - Fund. II incompleto</td>\n",
       "      <td>0.125677</td>\n",
       "      <td>8.0</td>\n",
       "      <td>0.522682</td>\n",
       "      <td>0.065689</td>\n",
       "    </tr>\n",
       "    <tr>\n",
       "      <th>20</th>\n",
       "      <td>4 - Fund. II completo</td>\n",
       "      <td>0.104111</td>\n",
       "      <td>0.0</td>\n",
       "      <td>0.005639</td>\n",
       "      <td>0.000587</td>\n",
       "    </tr>\n",
       "    <tr>\n",
       "      <th>21</th>\n",
       "      <td>4 - Fund. II completo</td>\n",
       "      <td>0.104111</td>\n",
       "      <td>2.0</td>\n",
       "      <td>0.388722</td>\n",
       "      <td>0.040470</td>\n",
       "    </tr>\n",
       "    <tr>\n",
       "      <th>22</th>\n",
       "      <td>4 - Fund. II completo</td>\n",
       "      <td>0.104111</td>\n",
       "      <td>4.0</td>\n",
       "      <td>0.112782</td>\n",
       "      <td>0.011742</td>\n",
       "    </tr>\n",
       "    <tr>\n",
       "      <th>23</th>\n",
       "      <td>4 - Fund. II completo</td>\n",
       "      <td>0.104111</td>\n",
       "      <td>6.0</td>\n",
       "      <td>0.003258</td>\n",
       "      <td>0.000339</td>\n",
       "    </tr>\n",
       "    <tr>\n",
       "      <th>24</th>\n",
       "      <td>4 - Fund. II completo</td>\n",
       "      <td>0.104111</td>\n",
       "      <td>8.0</td>\n",
       "      <td>0.489599</td>\n",
       "      <td>0.050973</td>\n",
       "    </tr>\n",
       "    <tr>\n",
       "      <th>25</th>\n",
       "      <td>5 - Médio incompleto</td>\n",
       "      <td>0.051638</td>\n",
       "      <td>0.0</td>\n",
       "      <td>0.007074</td>\n",
       "      <td>0.000365</td>\n",
       "    </tr>\n",
       "    <tr>\n",
       "      <th>26</th>\n",
       "      <td>5 - Médio incompleto</td>\n",
       "      <td>0.051638</td>\n",
       "      <td>2.0</td>\n",
       "      <td>0.337797</td>\n",
       "      <td>0.017443</td>\n",
       "    </tr>\n",
       "    <tr>\n",
       "      <th>27</th>\n",
       "      <td>5 - Médio incompleto</td>\n",
       "      <td>0.051638</td>\n",
       "      <td>4.0</td>\n",
       "      <td>0.129611</td>\n",
       "      <td>0.006693</td>\n",
       "    </tr>\n",
       "    <tr>\n",
       "      <th>28</th>\n",
       "      <td>5 - Médio incompleto</td>\n",
       "      <td>0.051638</td>\n",
       "      <td>6.0</td>\n",
       "      <td>0.002527</td>\n",
       "      <td>0.000130</td>\n",
       "    </tr>\n",
       "    <tr>\n",
       "      <th>29</th>\n",
       "      <td>5 - Médio incompleto</td>\n",
       "      <td>0.051638</td>\n",
       "      <td>8.0</td>\n",
       "      <td>0.522991</td>\n",
       "      <td>0.027006</td>\n",
       "    </tr>\n",
       "    <tr>\n",
       "      <th>30</th>\n",
       "      <td>6 - Médio completo</td>\n",
       "      <td>0.271993</td>\n",
       "      <td>0.0</td>\n",
       "      <td>0.003933</td>\n",
       "      <td>0.001070</td>\n",
       "    </tr>\n",
       "    <tr>\n",
       "      <th>31</th>\n",
       "      <td>6 - Médio completo</td>\n",
       "      <td>0.271993</td>\n",
       "      <td>2.0</td>\n",
       "      <td>0.423926</td>\n",
       "      <td>0.115305</td>\n",
       "    </tr>\n",
       "    <tr>\n",
       "      <th>32</th>\n",
       "      <td>6 - Médio completo</td>\n",
       "      <td>0.271993</td>\n",
       "      <td>4.0</td>\n",
       "      <td>0.116222</td>\n",
       "      <td>0.031612</td>\n",
       "    </tr>\n",
       "    <tr>\n",
       "      <th>33</th>\n",
       "      <td>6 - Médio completo</td>\n",
       "      <td>0.271993</td>\n",
       "      <td>6.0</td>\n",
       "      <td>0.004221</td>\n",
       "      <td>0.001148</td>\n",
       "    </tr>\n",
       "    <tr>\n",
       "      <th>34</th>\n",
       "      <td>6 - Médio completo</td>\n",
       "      <td>0.271993</td>\n",
       "      <td>8.0</td>\n",
       "      <td>0.451698</td>\n",
       "      <td>0.122859</td>\n",
       "    </tr>\n",
       "    <tr>\n",
       "      <th>35</th>\n",
       "      <td>7 - Superior incompleto</td>\n",
       "      <td>0.058409</td>\n",
       "      <td>0.0</td>\n",
       "      <td>0.004021</td>\n",
       "      <td>0.000235</td>\n",
       "    </tr>\n",
       "    <tr>\n",
       "      <th>36</th>\n",
       "      <td>7 - Superior incompleto</td>\n",
       "      <td>0.058409</td>\n",
       "      <td>2.0</td>\n",
       "      <td>0.514854</td>\n",
       "      <td>0.030072</td>\n",
       "    </tr>\n",
       "    <tr>\n",
       "      <th>37</th>\n",
       "      <td>7 - Superior incompleto</td>\n",
       "      <td>0.058409</td>\n",
       "      <td>4.0</td>\n",
       "      <td>0.093589</td>\n",
       "      <td>0.005466</td>\n",
       "    </tr>\n",
       "    <tr>\n",
       "      <th>38</th>\n",
       "      <td>7 - Superior incompleto</td>\n",
       "      <td>0.058409</td>\n",
       "      <td>6.0</td>\n",
       "      <td>0.005807</td>\n",
       "      <td>0.000339</td>\n",
       "    </tr>\n",
       "    <tr>\n",
       "      <th>39</th>\n",
       "      <td>7 - Superior incompleto</td>\n",
       "      <td>0.058409</td>\n",
       "      <td>8.0</td>\n",
       "      <td>0.381729</td>\n",
       "      <td>0.022296</td>\n",
       "    </tr>\n",
       "    <tr>\n",
       "      <th>40</th>\n",
       "      <td>8 - Superior completo</td>\n",
       "      <td>0.140837</td>\n",
       "      <td>0.0</td>\n",
       "      <td>0.001853</td>\n",
       "      <td>0.000261</td>\n",
       "    </tr>\n",
       "    <tr>\n",
       "      <th>41</th>\n",
       "      <td>8 - Superior completo</td>\n",
       "      <td>0.140837</td>\n",
       "      <td>2.0</td>\n",
       "      <td>0.626031</td>\n",
       "      <td>0.088168</td>\n",
       "    </tr>\n",
       "    <tr>\n",
       "      <th>42</th>\n",
       "      <td>8 - Superior completo</td>\n",
       "      <td>0.140837</td>\n",
       "      <td>4.0</td>\n",
       "      <td>0.064011</td>\n",
       "      <td>0.009015</td>\n",
       "    </tr>\n",
       "    <tr>\n",
       "      <th>43</th>\n",
       "      <td>8 - Superior completo</td>\n",
       "      <td>0.140837</td>\n",
       "      <td>6.0</td>\n",
       "      <td>0.014081</td>\n",
       "      <td>0.001983</td>\n",
       "    </tr>\n",
       "    <tr>\n",
       "      <th>44</th>\n",
       "      <td>8 - Superior completo</td>\n",
       "      <td>0.140837</td>\n",
       "      <td>8.0</td>\n",
       "      <td>0.294025</td>\n",
       "      <td>0.041410</td>\n",
       "    </tr>\n",
       "  </tbody>\n",
       "</table>\n",
       "</div>"
      ],
      "text/plain": [
       "                      nivel       P_N  cor      P_CN  P_CN*P_N\n",
       "0         0 - Sem instrução  0.076309  0.0  0.008378  0.000639\n",
       "1         0 - Sem instrução  0.076309  2.0  0.242777  0.018526\n",
       "2         0 - Sem instrução  0.076309  4.0  0.136946  0.010450\n",
       "3         0 - Sem instrução  0.076309  6.0  0.001539  0.000117\n",
       "4         0 - Sem instrução  0.076309  8.0  0.610361  0.046576\n",
       "5    1 - Fund. I incompleto  0.083237  0.0  0.006113  0.000509\n",
       "6    1 - Fund. I incompleto  0.083237  2.0  0.299373  0.024919\n",
       "7    1 - Fund. I incompleto  0.083237  4.0  0.124765  0.010385\n",
       "8    1 - Fund. I incompleto  0.083237  6.0  0.000940  0.000078\n",
       "9    1 - Fund. I incompleto  0.083237  8.0  0.568809  0.047346\n",
       "10     2 - Fund. I completo  0.087790  0.0  0.003269  0.000287\n",
       "11     2 - Fund. I completo  0.087790  2.0  0.398722  0.035004\n",
       "12     2 - Fund. I completo  0.087790  4.0  0.103136  0.009054\n",
       "13     2 - Fund. I completo  0.087790  6.0  0.003121  0.000274\n",
       "14     2 - Fund. I completo  0.087790  8.0  0.491752  0.043171\n",
       "15  3 - Fund. II incompleto  0.125677  0.0  0.005294  0.000665\n",
       "16  3 - Fund. II incompleto  0.125677  2.0  0.352953  0.044358\n",
       "17  3 - Fund. II incompleto  0.125677  4.0  0.117617  0.014782\n",
       "18  3 - Fund. II incompleto  0.125677  6.0  0.001453  0.000183\n",
       "19  3 - Fund. II incompleto  0.125677  8.0  0.522682  0.065689\n",
       "20    4 - Fund. II completo  0.104111  0.0  0.005639  0.000587\n",
       "21    4 - Fund. II completo  0.104111  2.0  0.388722  0.040470\n",
       "22    4 - Fund. II completo  0.104111  4.0  0.112782  0.011742\n",
       "23    4 - Fund. II completo  0.104111  6.0  0.003258  0.000339\n",
       "24    4 - Fund. II completo  0.104111  8.0  0.489599  0.050973\n",
       "25     5 - Médio incompleto  0.051638  0.0  0.007074  0.000365\n",
       "26     5 - Médio incompleto  0.051638  2.0  0.337797  0.017443\n",
       "27     5 - Médio incompleto  0.051638  4.0  0.129611  0.006693\n",
       "28     5 - Médio incompleto  0.051638  6.0  0.002527  0.000130\n",
       "29     5 - Médio incompleto  0.051638  8.0  0.522991  0.027006\n",
       "30       6 - Médio completo  0.271993  0.0  0.003933  0.001070\n",
       "31       6 - Médio completo  0.271993  2.0  0.423926  0.115305\n",
       "32       6 - Médio completo  0.271993  4.0  0.116222  0.031612\n",
       "33       6 - Médio completo  0.271993  6.0  0.004221  0.001148\n",
       "34       6 - Médio completo  0.271993  8.0  0.451698  0.122859\n",
       "35  7 - Superior incompleto  0.058409  0.0  0.004021  0.000235\n",
       "36  7 - Superior incompleto  0.058409  2.0  0.514854  0.030072\n",
       "37  7 - Superior incompleto  0.058409  4.0  0.093589  0.005466\n",
       "38  7 - Superior incompleto  0.058409  6.0  0.005807  0.000339\n",
       "39  7 - Superior incompleto  0.058409  8.0  0.381729  0.022296\n",
       "40    8 - Superior completo  0.140837  0.0  0.001853  0.000261\n",
       "41    8 - Superior completo  0.140837  2.0  0.626031  0.088168\n",
       "42    8 - Superior completo  0.140837  4.0  0.064011  0.009015\n",
       "43    8 - Superior completo  0.140837  6.0  0.014081  0.001983\n",
       "44    8 - Superior completo  0.140837  8.0  0.294025  0.041410"
      ]
     },
     "execution_count": 21,
     "metadata": {},
     "output_type": "execute_result"
    }
   ],
   "source": [
    "P_N = {}\n",
    "for nivel in niveis:\n",
    "    P_N[nivel] = df[df['escolaridade']==nivel].shape[0] / df.shape[0]\n",
    "    \n",
    "P_CN = {}\n",
    "for nivel in niveis:\n",
    "    temp = {}\n",
    "    for cor in cores:\n",
    "        temp[cor] = df[(df['Cor']==cor) & (df['escolaridade']==nivel)].shape[0] / df[df['escolaridade']==nivel].shape[0]\n",
    "    P_CN[nivel] = temp\n",
    "\n",
    "df_nc = pd.DataFrame()\n",
    "for nivel in niveis:\n",
    "    for cor in cores:\n",
    "        df_nc = df_nc.append(pd.Series([nivel, P_N[nivel], cor, P_CN[nivel][cor], P_CN[nivel][cor]*P_N[nivel]]), ignore_index=True)\n",
    "\n",
    "df_nc.columns = columns=['nivel', 'P_N', 'cor', 'P_CN',  'P_CN*P_N']\n",
    "df_nc"
   ]
  },
  {
   "cell_type": "markdown",
   "id": "c0d089fc",
   "metadata": {},
   "source": [
    "## (0,5)\n",
    "\n",
    "O que as variáveis P_C e P_NC significam?"
   ]
  },
  {
   "cell_type": "markdown",
   "id": "a9796190",
   "metadata": {},
   "source": [
    "> "
   ]
  },
  {
   "cell_type": "code",
   "execution_count": null,
   "id": "05003a47",
   "metadata": {},
   "outputs": [],
   "source": []
  },
  {
   "cell_type": "markdown",
   "id": "f01c21f1",
   "metadata": {},
   "source": [
    "## (0,5)\n",
    "\n",
    "Se selecionarmos uma pessoa ao acaso, qual a chance dela ser `parda` e ter nível superior completo? Qual a chance no caso dela ser `branca`?"
   ]
  },
  {
   "cell_type": "code",
   "execution_count": 22,
   "id": "0970d87a",
   "metadata": {
    "ExecuteTime": {
     "end_time": "2022-01-31T22:13:59.095071Z",
     "start_time": "2022-01-31T22:13:59.080679Z"
    }
   },
   "outputs": [
    {
     "data": {
      "text/plain": [
       "4.140954219885452"
      ]
     },
     "execution_count": 22,
     "metadata": {},
     "output_type": "execute_result"
    }
   ],
   "source": [
    "cor = 8\n",
    "P_NC[cor]['8 - Superior completo']*P_C[cor]*100"
   ]
  },
  {
   "cell_type": "code",
   "execution_count": 23,
   "id": "bc2638df",
   "metadata": {
    "ExecuteTime": {
     "end_time": "2022-01-31T22:13:59.111070Z",
     "start_time": "2022-01-31T22:13:59.097070Z"
    }
   },
   "outputs": [
    {
     "data": {
      "text/plain": [
       "8.816814309384338"
      ]
     },
     "execution_count": 23,
     "metadata": {},
     "output_type": "execute_result"
    }
   ],
   "source": [
    "cor = 2\n",
    "P_NC[cor]['8 - Superior completo']*P_C[cor]*100"
   ]
  },
  {
   "cell_type": "code",
   "execution_count": null,
   "id": "70d808b5",
   "metadata": {},
   "outputs": [],
   "source": []
  },
  {
   "cell_type": "markdown",
   "id": "b60fb981",
   "metadata": {},
   "source": [
    "## (0,25)\n",
    "\n",
    "Qual a chance das pessoas dessas mesmas raças terem apenas o ensino fundamental I completo?"
   ]
  },
  {
   "cell_type": "code",
   "execution_count": 24,
   "id": "6da22f23",
   "metadata": {
    "ExecuteTime": {
     "end_time": "2022-01-31T22:13:59.127104Z",
     "start_time": "2022-01-31T22:13:59.112071Z"
    }
   },
   "outputs": [
    {
     "data": {
      "text/plain": [
       "4.317081762319143"
      ]
     },
     "execution_count": 24,
     "metadata": {},
     "output_type": "execute_result"
    }
   ],
   "source": [
    "cor = 8\n",
    "P_NC[cor]['2 - Fund. I completo']*P_C[cor]*100"
   ]
  },
  {
   "cell_type": "code",
   "execution_count": 25,
   "id": "ad5a08ef",
   "metadata": {
    "ExecuteTime": {
     "end_time": "2022-01-31T22:13:59.143100Z",
     "start_time": "2022-01-31T22:13:59.128070Z"
    }
   },
   "outputs": [
    {
     "data": {
      "text/plain": [
       "3.500371824811804"
      ]
     },
     "execution_count": 25,
     "metadata": {},
     "output_type": "execute_result"
    }
   ],
   "source": [
    "cor = 2\n",
    "P_NC[cor]['2 - Fund. I completo']*P_C[cor]*100"
   ]
  },
  {
   "cell_type": "code",
   "execution_count": null,
   "id": "c0faaa22",
   "metadata": {},
   "outputs": [],
   "source": []
  },
  {
   "cell_type": "markdown",
   "id": "46fc73d2",
   "metadata": {},
   "source": [
    "## (0,25)\n",
    "Se pegarmos uma pessoa aleatória, qual a chance dela ser indigena e ter terminado o ensino médio?"
   ]
  },
  {
   "cell_type": "code",
   "execution_count": 26,
   "id": "b543860a",
   "metadata": {
    "ExecuteTime": {
     "end_time": "2022-01-31T22:13:59.159159Z",
     "start_time": "2022-01-31T22:13:59.144070Z"
    }
   },
   "outputs": [
    {
     "data": {
      "text/plain": [
       "0.10698117392268654"
      ]
     },
     "execution_count": 26,
     "metadata": {},
     "output_type": "execute_result"
    }
   ],
   "source": [
    "cor = 0\n",
    "P_NC[cor]['6 - Médio completo']*P_C[cor]*100"
   ]
  },
  {
   "cell_type": "code",
   "execution_count": null,
   "id": "4dc28b5b",
   "metadata": {},
   "outputs": [],
   "source": []
  },
  {
   "cell_type": "markdown",
   "id": "7afdbfb4",
   "metadata": {},
   "source": [
    "## (0,5)\n",
    "\n",
    "Se pegarmos uma pessoa aleatória que estudou até o ensino médio, qual a chance dela ser indigena?"
   ]
  },
  {
   "cell_type": "code",
   "execution_count": 27,
   "id": "1f934fc0",
   "metadata": {
    "ExecuteTime": {
     "end_time": "2022-01-31T22:13:59.175071Z",
     "start_time": "2022-01-31T22:13:59.160071Z"
    }
   },
   "outputs": [
    {
     "data": {
      "text/plain": [
       "0.3933231005372218"
      ]
     },
     "execution_count": 27,
     "metadata": {},
     "output_type": "execute_result"
    }
   ],
   "source": [
    "cor = 0\n",
    "P_NC[cor]['6 - Médio completo']*P_C[cor]*100 / P_N['6 - Médio completo']"
   ]
  },
  {
   "cell_type": "code",
   "execution_count": null,
   "id": "8111a4a2",
   "metadata": {},
   "outputs": [],
   "source": []
  },
  {
   "cell_type": "markdown",
   "id": "9ff5abeb",
   "metadata": {},
   "source": [
    "## (0,5)\n",
    "\n",
    "Por que as probabilidades acima são diferentes? Explique com suas palavras."
   ]
  },
  {
   "cell_type": "markdown",
   "id": "7e45fb6d",
   "metadata": {},
   "source": [
    "> "
   ]
  },
  {
   "cell_type": "code",
   "execution_count": null,
   "id": "ceb1c3dc",
   "metadata": {},
   "outputs": [],
   "source": []
  },
  {
   "cell_type": "markdown",
   "id": "3fc8a876",
   "metadata": {},
   "source": [
    "# Sistemas lineares"
   ]
  },
  {
   "cell_type": "markdown",
   "id": "06ea6b09",
   "metadata": {},
   "source": [
    "A **regressão linear** é uma ferramenta importantissíma no dia-a-dia de uma pessoa que trabalha com dados. Enquanto não estudamos a fundo suas propriedades e alguns métodos eficientes para o cálculo, vamos ver o que acontece 'por baixo dos panos'.\n",
    "\n",
    "Para isso, vamos encontrar um polinômio de 3º grau que passe pelos pontos(−1, 4), (0, -3),\n",
    "(3, 2) e (4, 5).\n",
    "\n",
    "**Atenção:** Tente resolver o problema **antes** de olhar as dicas!"
   ]
  },
  {
   "cell_type": "code",
   "execution_count": null,
   "id": "b2ddaa1e",
   "metadata": {},
   "outputs": [],
   "source": []
  },
  {
   "cell_type": "markdown",
   "id": "9b3fe306",
   "metadata": {},
   "source": [
    "## (0,1)\n",
    "\n",
    "Escreva uma equação genérica do 3º grau com coeficientes a,b,c,d."
   ]
  },
  {
   "cell_type": "markdown",
   "id": "d144dae1",
   "metadata": {},
   "source": [
    "<details>\n",
    "    <summary>🙆‍♂️ Dica 🙋‍</summary>\n",
    "\n",
    "Econtrou algo parecido com: $y = f(x) = ax^3 + bx^2 + cx + d$ ? \n",
    "    \n",
    "</details> \n",
    "\n"
   ]
  },
  {
   "cell_type": "code",
   "execution_count": null,
   "id": "935433ee",
   "metadata": {},
   "outputs": [],
   "source": []
  },
  {
   "cell_type": "markdown",
   "id": "ad5a3cf2",
   "metadata": {},
   "source": [
    "## (0,1)\n",
    "\n",
    "Represente os pontos num sistema de coordenadas bi-dimensional. "
   ]
  },
  {
   "cell_type": "markdown",
   "id": "33b84cb3",
   "metadata": {},
   "source": [
    "<details>\n",
    "    <summary>🙆‍♂️ Dica 🙋‍</summary>\n",
    "\n",
    "Crie dois vetores, x e y, e faça um scatterplot.    \n",
    "</details>    "
   ]
  },
  {
   "cell_type": "code",
   "execution_count": 28,
   "id": "8e9aee48",
   "metadata": {
    "ExecuteTime": {
     "end_time": "2022-01-31T22:13:59.318182Z",
     "start_time": "2022-01-31T22:13:59.176075Z"
    }
   },
   "outputs": [
    {
     "name": "stderr",
     "output_type": "stream",
     "text": [
      "C:\\Users\\lcode\\anaconda3\\lib\\site-packages\\seaborn\\_decorators.py:36: FutureWarning: Pass the following variables as keyword args: x, y. From version 0.12, the only valid positional argument will be `data`, and passing other arguments without an explicit keyword will result in an error or misinterpretation.\n",
      "  warnings.warn(\n"
     ]
    },
    {
     "data": {
      "text/plain": [
       "<AxesSubplot:>"
      ]
     },
     "execution_count": 28,
     "metadata": {},
     "output_type": "execute_result"
    },
    {
     "data": {
      "image/png": "[encoded data removed]",
      "text/plain": [
       "<Figure size 432x288 with 1 Axes>"
      ]
     },
     "metadata": {
      "needs_background": "light"
     },
     "output_type": "display_data"
    }
   ],
   "source": [
    "x = [-1, 0, 3, 4]\n",
    "y = [4, -3, 2, 5]\n",
    "\n",
    "sns.scatterplot(x, y)"
   ]
  },
  {
   "cell_type": "code",
   "execution_count": null,
   "id": "37e9d7fc",
   "metadata": {},
   "outputs": [],
   "source": []
  },
  {
   "cell_type": "markdown",
   "id": "b2f1a346",
   "metadata": {},
   "source": [
    "## (0,3)\n",
    "\n",
    "Escreva o sistema de equações lineares para o problema."
   ]
  },
  {
   "cell_type": "markdown",
   "id": "edf727f4",
   "metadata": {},
   "source": [
    "<details>\n",
    "    <summary>🙆‍♂️ Dica 🙋‍</summary>\n",
    "\n",
    "Substitua os valores de x e y na expressão acima. \n",
    "    \n",
    "</details>    "
   ]
  },
  {
   "cell_type": "markdown",
   "id": "43fda435",
   "metadata": {
    "ExecuteTime": {
     "end_time": "2022-01-31T20:41:33.037634Z",
     "start_time": "2022-01-31T20:41:33.023663Z"
    }
   },
   "source": [
    "<details>\n",
    "    <summary>🙆‍♂️ Resultado  🙋‍</summary>\n",
    "\n",
    "$\\begin{equation} \\begin{cases}\n",
    "-a + b - c + d = 0\\\\  \n",
    "d = 1 \\\\\n",
    "27a + 9b + 3c + d = -1\\\\\n",
    "64a + 16b +4c + d = 0\n",
    "\\end{cases} \\end{equation}$\n",
    "    \n",
    "</details>    \n",
    "\n"
   ]
  },
  {
   "cell_type": "code",
   "execution_count": null,
   "id": "611920d2",
   "metadata": {},
   "outputs": [],
   "source": []
  },
  {
   "cell_type": "markdown",
   "id": "5ed26c8a",
   "metadata": {},
   "source": [
    "## (0,3)\n",
    "\n",
    "Reescreva o sistema na forma matricial."
   ]
  },
  {
   "cell_type": "markdown",
   "id": "553c48d7",
   "metadata": {},
   "source": [
    "<details>\n",
    "    <summary>🙆‍♂️ Resposta 🙋‍</summary>\n",
    "\n",
    "$\\begin{bmatrix}\n",
    "-1 & 1 & -1 & 1 \\\\\n",
    "0 & 0 & 0 & 1 \\\\\n",
    "27 & 9 & 3 & 1 \\\\\n",
    "64 & 16 & 4 & 1\n",
    "\\end{bmatrix}\n",
    "\\begin{bmatrix}\n",
    "a \\\\ b \\\\ c \\\\ d\n",
    "\\end{bmatrix}\n",
    "= \\begin{bmatrix}\n",
    "0 \\\\ 1 \\\\ -1 \\\\ 0\n",
    " \\end{bmatrix}$\n",
    "    \n",
    "</details>   "
   ]
  },
  {
   "cell_type": "code",
   "execution_count": null,
   "id": "93c72fd0",
   "metadata": {},
   "outputs": [],
   "source": []
  },
  {
   "cell_type": "markdown",
   "id": "23026480",
   "metadata": {},
   "source": [
    "## (0,5)\n",
    "\n",
    "Resolva o sistema. "
   ]
  },
  {
   "cell_type": "code",
   "execution_count": 29,
   "id": "077ccd16",
   "metadata": {
    "ExecuteTime": {
     "end_time": "2022-01-31T22:13:59.334104Z",
     "start_time": "2022-01-31T22:13:59.319289Z"
    }
   },
   "outputs": [
    {
     "data": {
      "text/plain": [
       "array([-0.36666667,  2.9       , -3.73333333, -3.        ])"
      ]
     },
     "execution_count": 29,
     "metadata": {},
     "output_type": "execute_result"
    }
   ],
   "source": [
    "X = np.array([[-1, 1, -1, 1],\n",
    "              [0, 0, 0, 1],\n",
    "              [27, 9, 3, 1],\n",
    "              [64, 16, 4, 1]])\n",
    "\n",
    "y = np.array([4, -3, 2, 5])\n",
    "\n",
    "np.linalg.solve(X, y)"
   ]
  },
  {
   "cell_type": "code",
   "execution_count": null,
   "id": "45bec3ab",
   "metadata": {},
   "outputs": [],
   "source": []
  },
  {
   "cell_type": "markdown",
   "id": "266bba03",
   "metadata": {},
   "source": [
    "## (0,1)\n",
    "\n",
    "Reescreva o polinômio, substituindo a,b,c e d por seus respectivos valores."
   ]
  },
  {
   "cell_type": "markdown",
   "id": "9a4d5351",
   "metadata": {},
   "source": [
    "<details>\n",
    "    <summary>🙆‍♂️ Resposta 🙋‍</summary>\n",
    "\n",
    "Substitua os valores de x e y na expressão acima. Você deve encontrar:  \n",
    "$y = p(x) = -0.36666667x^3 - + 2.9x^2 - 3.73333333x - 3$   \n",
    "</details>   "
   ]
  },
  {
   "cell_type": "code",
   "execution_count": null,
   "id": "c95a41aa",
   "metadata": {},
   "outputs": [],
   "source": []
  },
  {
   "cell_type": "markdown",
   "id": "3706f0c5",
   "metadata": {},
   "source": [
    "## (0,1)\n",
    "Crie uma função que represente o polinômio acima. Em substitua os valores de x para calcular y. O resultado encontrado é igual ao do começo do problema?"
   ]
  },
  {
   "cell_type": "code",
   "execution_count": 30,
   "id": "370cfe2b",
   "metadata": {
    "ExecuteTime": {
     "end_time": "2022-01-31T22:13:59.350133Z",
     "start_time": "2022-01-31T22:13:59.335072Z"
    }
   },
   "outputs": [
    {
     "name": "stdout",
     "output_type": "stream",
     "text": [
      "-1 4.0\n",
      "0 -3.0\n",
      "3 1.9999999200000005\n",
      "4 4.999999800000001\n"
     ]
    }
   ],
   "source": [
    "def f(x):\n",
    "    return -0.36666667*x**3 + 2.9*x**2 - 3.73333333*x -3\n",
    "\n",
    "x = [-1, 0, 3, 4] \n",
    "\n",
    "for i in x:\n",
    "    print(i, f(i))"
   ]
  },
  {
   "cell_type": "code",
   "execution_count": null,
   "id": "2350f8b7",
   "metadata": {},
   "outputs": [],
   "source": []
  },
  {
   "cell_type": "markdown",
   "id": "66300f22",
   "metadata": {},
   "source": [
    "## (0,5)\n",
    "\n",
    "De forma simplificada, acabamos de realizar um cálculo muito similar ao que ocorre na **regressão linear**, onde precisamos encontrar os coeficientes que satisfazem um conjuto de equações de acordo com os dados do problema.\n",
    "\n",
    "Note que encontramos os coeficientes de um polinômio de 3º grau usando sistemas lineares. Se isso está correto, por que ainda dizemos **sistemas lineares**?"
   ]
  },
  {
   "cell_type": "code",
   "execution_count": null,
   "id": "3d96adde",
   "metadata": {},
   "outputs": [],
   "source": []
  }
 ],
 "metadata": {
  "kernelspec": {
   "display_name": "Python 3",
   "language": "python",
   "name": "python3"
  },
  "language_info": {
   "codemirror_mode": {
    "name": "ipython",
    "version": 3
   },
   "file_extension": ".py",
   "mimetype": "text/x-python",
   "name": "python",
   "nbconvert_exporter": "python",
   "pygments_lexer": "ipython3",
   "version": "3.8.8"
  },
  "toc": {
   "base_numbering": 1,
   "nav_menu": {},
   "number_sections": true,
   "sideBar": true,
   "skip_h1_title": false,
   "title_cell": "Table of Contents",
   "title_sidebar": "Contents",
   "toc_cell": false,
   "toc_position": {
    "height": "calc(100% - 180px)",
    "left": "10px",
    "top": "150px",
    "width": "384px"
   },
   "toc_section_display": true,
   "toc_window_display": true
  }
 },
 "nbformat": 4,
 "nbformat_minor": 5
}
