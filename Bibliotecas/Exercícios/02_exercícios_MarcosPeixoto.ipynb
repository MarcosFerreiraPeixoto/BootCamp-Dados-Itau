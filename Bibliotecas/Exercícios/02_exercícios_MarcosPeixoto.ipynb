{
 "cells": [
  {
   "cell_type": "markdown",
   "metadata": {},
   "source": [
    "# Exercícios\n",
    "\n",
    "#### Series - Pandas\n",
    "\n",
    "---\n",
    "\n",
    "<img src=\"https://selecao.letscode.com.br/favicon.png\" width=\"40px\" style=\"position: absolute; top: 0px; right: 40px; border-radius: 5px;\" />"
   ]
  },
  {
   "cell_type": "markdown",
   "metadata": {},
   "source": [
    "### Para entregar! 🔥"
   ]
  },
  {
   "cell_type": "markdown",
   "metadata": {},
   "source": [
    "**01. Crie uma Series com os índices registrados pelo [TIOBE Index](https://www.tiobe.com/tiobe-index/) para as top 10 linguagens de programação. Os índices da Series devem ser os nomes das linguagens, e os valores devem ser as taxas de popularidade de cada respectiva linguagem de programação. Em seguida, utilize os métodos da Series para:**\n",
    "\n",
    "- Exibir os cinco primeiros valores da Series\n",
    "- Exibir os cinco últimos valores da Series"
   ]
  },
  {
   "cell_type": "code",
   "execution_count": 34,
   "metadata": {},
   "outputs": [
    {
     "name": "stdout",
     "output_type": "stream",
     "text": [
      "                     Ratings\n",
      "Programming Language        \n",
      "Python                13.58%\n",
      "Java                  10.66%\n",
      "C++                    8.29%\n",
      "C#                     5.68%\n",
      "Visual Basic           4.74%\n",
      "JavaScript             2.09%\n",
      "Assembly language      1.85%\n",
      "SQL                    1.80%\n",
      "Swift                  1.41%\n",
      "PHP                    1.40%\n",
      "R                      1.25%\n",
      "Go                     1.04%\n",
      "Delphi/Object Pascal   0.99%\n",
      "Classic Visual Basic   0.98%\n",
      "MATLAB                 0.96%\n",
      "Groovy                 0.94%\n",
      "Ruby                   0.88%\n",
      "Fortran                0.77%\n",
      "Perl                   0.71%\n"
     ]
    }
   ],
   "source": [
    "import pandas as pd\n",
    "\n",
    "data = pd.read_clipboard()\n",
    "data.loc[0] = list(data.columns)\n",
    "data.columns = ['Jan 2022', 'Jan 2021', 'Change', 'Page', 'Programming Language', 'Ratings', 'Change']\n",
    "\n",
    "data = data[['Programming Language','Ratings']]\n",
    "data = data.set_index('Programming Language')\n",
    "\n",
    "print(data)"
   ]
  },
  {
   "cell_type": "markdown",
   "metadata": {},
   "source": [
    "**02. Crie uma Series com os 11 primeiros termos da sequência de Fibonacci. Utilize letras (em ordem alfabética) como os índices da Series. Em seguida, obtenha apenas aqueles elementos que forem superiores a 10 e inferiores a 50.**\n",
    "\n",
    "- Sequência de Fibonacci: 0, 1, 1, 2, 3, 5, 8, 13, 21, 34, 55..."
   ]
  },
  {
   "cell_type": "code",
   "execution_count": 54,
   "metadata": {},
   "outputs": [
    {
     "name": "stdout",
     "output_type": "stream",
     "text": [
      "7    13\n",
      "8    21\n",
      "9    34\n",
      "dtype: int64\n"
     ]
    }
   ],
   "source": [
    "def fibonacci(n):\n",
    "    if n == 0:\n",
    "        return 0\n",
    "\n",
    "    elif n == 1 or n == 2:\n",
    "        return 1\n",
    " \n",
    "    else:\n",
    "        return fibonacci(n-1) + fibonacci(n-2)\n",
    "\n",
    "\n",
    "df = pd.Series(data = [fibonacci(i) for i in range(11)])\n",
    "\n",
    "\n",
    "print(df[(df>10) & (df<50)])"
   ]
  },
  {
   "cell_type": "markdown",
   "metadata": {},
   "source": [
    "**03. Crie um programa para calcular a média e o desvio padrão de uma series. Observe o exemplo abaixo:**\n",
    "\n",
    "Series\n",
    "```\n",
    "0 1\n",
    "1 2\n",
    "2 3\n",
    "3 4\n",
    "4 5\n",
    "5 6\n",
    "6 7\n",
    "7 8\n",
    "8 9\n",
    "9 5\n",
    "10 3\n",
    "dtype: int64\n",
    "```\n",
    "\n",
    "Saída\n",
    "```\n",
    "Média: 4.818181818181818\n",
    "Desvio Padrão: 2.522624895547565\n",
    "```"
   ]
  },
  {
   "cell_type": "code",
   "execution_count": 56,
   "metadata": {},
   "outputs": [],
   "source": [
    "def calcula_media_e_desvio (pd_series):\n",
    "    media = pd_series.mean()\n",
    "    desvio = pd_series.std()\n",
    "\n",
    "    return media, desvio"
   ]
  },
  {
   "cell_type": "markdown",
   "metadata": {},
   "source": [
    "**04. Crie um array com 20 números aleatórios inteiros entre 1 e 5. Em seguida, calcule a frequência (percentual) de cada valor específico da Series.**"
   ]
  },
  {
   "cell_type": "code",
   "execution_count": 98,
   "metadata": {},
   "outputs": [
    {
     "name": "stdout",
     "output_type": "stream",
     "text": [
      "A frequência dos número é dada pelos os seguintes valores: \n",
      " 3    6\n",
      "4    4\n",
      "1    4\n",
      "5    4\n",
      "2    2\n",
      "dtype: int64\n"
     ]
    }
   ],
   "source": [
    "import numpy as np\n",
    "df = pd.Series(np.random.randint(1, 6, 20))\n",
    "\n",
    "print(f'A frequência dos número é dada pelos os seguintes valores: \\n {df.value_counts()}')\n"
   ]
  },
  {
   "cell_type": "markdown",
   "metadata": {},
   "source": [
    "**05. Crie um programa para mostrar qual é o valor mais frequente de uma series e, em seguida, substitua todos os demais valores dela por \"Outro valor\".**"
   ]
  },
  {
   "cell_type": "code",
   "execution_count": 100,
   "metadata": {},
   "outputs": [],
   "source": [
    "def mais_frequente (pd_series):\n",
    "    mais_frequente = list(pd_series.mode())\n",
    "    pd_series[~pd_series.isin(mais_frequente)] = 'Outro Valor'\n",
    "\n",
    "    return pd_series"
   ]
  },
  {
   "cell_type": "markdown",
   "metadata": {},
   "source": [
    "**06. Crie um array com números entre 1 e 10, com passo 1. Em seguida, embaralhe esses números utilizando o método [`shuffle`](https://numpy.org/doc/stable/reference/random/generated/numpy.random.shuffle.html) do Numpy. Crie uma lista com o fatorial desses números, nessa nova ordem (após o embaralhamento). Por fim, crie uma Series cujo os valores são os fatoriais (embaralhados) e os índices são os números associados ao fatorial.**\n",
    "\n",
    "**Exemplo de saída**\n",
    "\n",
    "```python\n",
    "3           6\n",
    "5         120\n",
    "1           1\n",
    "9      362880\n",
    "4          24\n",
    "7        5040\n",
    "10    3628800\n",
    "2           2\n",
    "6         720\n",
    "8       40320\n",
    "dtype: int64\n",
    "```"
   ]
  },
  {
   "cell_type": "code",
   "execution_count": 124,
   "metadata": {},
   "outputs": [
    {
     "data": {
      "text/plain": [
       "9      362880\n",
       "7        5040\n",
       "2           2\n",
       "3           6\n",
       "10    3628800\n",
       "5         120\n",
       "1           1\n",
       "8       40320\n",
       "4          24\n",
       "6         720\n",
       "dtype: int64"
      ]
     },
     "execution_count": 124,
     "metadata": {},
     "output_type": "execute_result"
    }
   ],
   "source": [
    "import math\n",
    "\n",
    "vetor = np.arange(1,11,1)\n",
    "np.random.shuffle(vetor)\n",
    "\n",
    "vetor = pd.Series(vetor)\n",
    "\n",
    "fatorial = [math.factorial(numero) for numero in vetor]\n",
    "\n",
    "series_final = pd.Series(fatorial, index = vetor)\n",
    "series_final"
   ]
  }
 ],
 "metadata": {
  "interpreter": {
   "hash": "a23c8859640bc1fbc613091da76fbf96a069fd467f295e7bb8213e839167d67d"
  },
  "kernelspec": {
   "display_name": "Python 3.8.10 64-bit",
   "language": "python",
   "name": "python3"
  },
  "language_info": {
   "codemirror_mode": {
    "name": "ipython",
    "version": 3
   },
   "file_extension": ".py",
   "mimetype": "text/x-python",
   "name": "python",
   "nbconvert_exporter": "python",
   "pygments_lexer": "ipython3",
   "version": "3.8.10"
  },
  "orig_nbformat": 4
 },
 "nbformat": 4,
 "nbformat_minor": 2
}
