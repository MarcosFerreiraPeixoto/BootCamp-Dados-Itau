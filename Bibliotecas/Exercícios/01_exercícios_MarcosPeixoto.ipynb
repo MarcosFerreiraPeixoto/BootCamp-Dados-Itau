{
 "cells": [
  {
   "cell_type": "markdown",
   "metadata": {},
   "source": [
    "# Exercícios\n",
    "\n",
    "#### 01. Numpy\n",
    "\n",
    "---\n",
    "\n",
    "<img src=\"https://selecao.letscode.com.br/favicon.png\" width=\"40px\" style=\"position: absolute; top: 0px; right: 40px; border-radius: 5px;\" />"
   ]
  },
  {
   "cell_type": "markdown",
   "metadata": {},
   "source": [
    "### Para entregar! 🔥"
   ]
  },
  {
   "cell_type": "markdown",
   "metadata": {},
   "source": [
    "**01. Crie um array com 40 elementos entre 0 e π.**"
   ]
  },
  {
   "cell_type": "code",
   "execution_count": 9,
   "metadata": {},
   "outputs": [],
   "source": [
    "import numpy as np \n",
    "\n",
    "array_pi = np.linspace(0, np.pi, 40)"
   ]
  },
  {
   "cell_type": "markdown",
   "metadata": {},
   "source": [
    "**02. Crie um array com 40 números aleatórios, distribuídos uniformemente, entre [0, 5). Em seguida, some-o com o array obtido na Questão anterior. Por fim, para cada elemento do array da questão anterior, calcule:**\n",
    "\n",
    "- O seno  \n",
    "- O cosseno  \n",
    "- O log na base 10  \n",
    "- O valor arredondado para inteiro  \n",
    "\n",
    "> OBS.: Utilize a seed 17 para a criação do array aleatório."
   ]
  },
  {
   "cell_type": "code",
   "execution_count": 20,
   "metadata": {},
   "outputs": [
    {
     "name": "stdout",
     "output_type": "stream",
     "text": [
      "A soma dos dois array criados é igual a: [2.17866001 3.20290068 1.92719046 1.51326241 4.47015647 4.02810238\n",
      " 4.03340553 3.86628718 1.80068093 3.15623734 5.58826933 2.12626896\n",
      " 5.42281231 5.55635966 2.33252587 4.81797933 4.495864   4.7594652\n",
      " 4.38408034 3.66247214 3.80197603 4.93766243 4.35637022 6.00753697\n",
      " 4.60722533 3.58945713 3.69802188 3.39591416 6.12765119 4.50532549\n",
      " 4.21170522 6.82261908 5.84968153 3.9876297  5.91881866 4.455213\n",
      " 6.60698122 4.4543744  5.84102326 7.69352239]\n",
      "O seno dos elementos do array criado na questão anterior é igual a: [0.00000000e+00 8.04665687e-02 1.60411281e-01 2.39315664e-01\n",
      " 3.16667994e-01 3.91966610e-01 4.64723172e-01 5.34465826e-01\n",
      " 6.00742264e-01 6.63122658e-01 7.21202447e-01 7.74604962e-01\n",
      " 8.22983866e-01 8.66025404e-01 9.03450435e-01 9.35016243e-01\n",
      " 9.60518112e-01 9.79790652e-01 9.92708874e-01 9.99188998e-01\n",
      " 9.99188998e-01 9.92708874e-01 9.79790652e-01 9.60518112e-01\n",
      " 9.35016243e-01 9.03450435e-01 8.66025404e-01 8.22983866e-01\n",
      " 7.74604962e-01 7.21202447e-01 6.63122658e-01 6.00742264e-01\n",
      " 5.34465826e-01 4.64723172e-01 3.91966610e-01 3.16667994e-01\n",
      " 2.39315664e-01 1.60411281e-01 8.04665687e-02 1.22464680e-16]\n",
      "O cosseno dos elementos do array criado na questão anterior é igual a: [ 1.          0.99675731  0.98705026  0.97094182  0.94853644  0.91997944\n",
      "  0.88545603  0.84519009  0.79944276  0.74851075  0.69272435  0.63244538\n",
      "  0.56806475  0.5         0.42869256  0.35460489  0.27821746  0.20002569\n",
      "  0.12053668  0.04026594 -0.04026594 -0.12053668 -0.20002569 -0.27821746\n",
      " -0.35460489 -0.42869256 -0.5        -0.56806475 -0.63244538 -0.69272435\n",
      " -0.74851075 -0.79944276 -0.84519009 -0.88545603 -0.91997944 -0.94853644\n",
      " -0.97094182 -0.98705026 -0.99675731 -1.        ]\n",
      "O log na base 10 dos elementos do array criado na questão anterior é igual a: [       -inf -1.09391473 -0.79288474 -0.61679348 -0.49185474 -0.39494473\n",
      " -0.31576348 -0.24881669 -0.19082475 -0.13967222 -0.09391473 -0.05252205\n",
      " -0.01473349  0.02002862  0.0522133   0.08217652  0.11020525  0.13653419\n",
      "  0.16135777  0.18483887  0.20711526  0.22830456  0.24850795  0.2678131\n",
      "  0.28629651  0.30402527  0.32105861  0.33744903  0.3532433   0.36848326\n",
      "  0.38320652  0.39744696  0.41123524  0.42459921  0.43756418  0.45015331\n",
      "  0.46238777  0.47428699  0.48586886  0.49714987]\n",
      "O valor arredondado para inteiro dos elementos do array criado na questão anterior é igual a: [0. 0. 0. 0. 0. 0. 0. 1. 1. 1. 1. 1. 1. 1. 1. 1. 1. 1. 1. 2. 2. 2. 2. 2.\n",
      " 2. 2. 2. 2. 2. 2. 2. 2. 3. 3. 3. 3. 3. 3. 3. 3.]\n"
     ]
    },
    {
     "name": "stderr",
     "output_type": "stream",
     "text": [
      "C:\\Users\\MARCOS~1\\AppData\\Local\\Temp/ipykernel_7824/3941369886.py:13: RuntimeWarning: divide by zero encountered in log10\n",
      "  array_log10 = np.log10(array_pi)\n"
     ]
    }
   ],
   "source": [
    "np.random.seed(17)\n",
    "\n",
    "array_uniform = np.random.uniform(1, 5, 40)\n",
    "array_soma = array_pi + array_uniform\n",
    "print(f'A soma dos dois array criados é igual a: {array_soma}')\n",
    "\n",
    "array_seno = np.sin(array_pi)\n",
    "print(f'O seno dos elementos do array criado na questão anterior é igual a: {array_seno}')\n",
    "\n",
    "array_cosseno = np.cos(array_pi)\n",
    "print(f'O cosseno dos elementos do array criado na questão anterior é igual a: {array_cosseno}')\n",
    "\n",
    "array_log10 = np.log10(array_pi)\n",
    "print(f'O log na base 10 dos elementos do array criado na questão anterior é igual a: {array_log10}')\n",
    "\n",
    "array_int = np.round(array_pi, 0)\n",
    "print(f'O valor arredondado para inteiro dos elementos do array criado na questão anterior é igual a: {array_int}')"
   ]
  },
  {
   "cell_type": "markdown",
   "metadata": {},
   "source": [
    "**03. Crie outro array aleatório, porém, dessa vez, com 25 elementos inteiros, no intervalo [50, 100). Em seguida, converta esse array em uma matriz 5 x 5.**"
   ]
  },
  {
   "cell_type": "code",
   "execution_count": 29,
   "metadata": {},
   "outputs": [
    {
     "name": "stdout",
     "output_type": "stream",
     "text": [
      "O array reformatado para um matriz 5x5: [[91 86 83 54 79]\n",
      " [82 96 90 55 77]\n",
      " [56 59 76 65 85]\n",
      " [84 90 62 63 71]\n",
      " [81 58 93 70 60]]\n"
     ]
    }
   ],
   "source": [
    "\n",
    "array_int2 = np.random.randint(50, 100, 25)\n",
    "array_int2 = np.reshape(array_int2, (5,5))\n",
    "print(f'O array reformatado para um matriz 5x5: {array_int2}')\n"
   ]
  },
  {
   "cell_type": "markdown",
   "metadata": {},
   "source": [
    "**04. Construa a matriz ilustrada pela figura abaixo. Em seguida, obtenha os slices (fatiamentos) destacados em cada cor. Em outras palavras, utilizando o conceito de slices, crie um novo array que contenha os dados destacados em vermelho, azul, roxo e verde.**\n",
    "\n",
    "![Slices em arrays - Q11](https://lh3.googleusercontent.com/TEYs3x4bTQ8OVk54ZIOzBRFN6k6HMKgdl3KDxKjREkVJYs0fBwkkMhDlLo29JN1HyN6NOgjvvnNQ7dZrvi6crgH6SB4-KT09nQSd1SIUV8YP087IK3ud3C3rkMPQxn5AzsS-jsCElZQ=w2400)"
   ]
  },
  {
   "cell_type": "code",
   "execution_count": 47,
   "metadata": {},
   "outputs": [
    {
     "name": "stdout",
     "output_type": "stream",
     "text": [
      "Matriz base: [[ 0  1  2  3  4  5]\n",
      " [10 11 12 13 14 15]\n",
      " [20 21 22 23 24 25]\n",
      " [30 31 32 33 34 35]\n",
      " [40 41 42 43 44 45]\n",
      " [50 51 52 53 54 55]]\n",
      "O slice azul é dado pelo seguinte array [ 2 12 22 32 42 52]\n",
      "O slice verde é dado pelo seguinte array [[44 45]\n",
      " [54 55]]\n",
      "O slice roxo ém dado pelo seguinte array [[20 22 24]\n",
      " [40 42 44]]\n"
     ]
    }
   ],
   "source": [
    "matriz_inicial = np.arange(0, 100).reshape((10,10))[:6,0:6]\n",
    "print(f'Matriz base: {matriz_inicial}')\n",
    "\n",
    "slice_azul = matriz_inicial[:,2]\n",
    "print(f'O slice azul é dado pelo seguinte array {slice_azul}')\n",
    "\n",
    "slice_verde = matriz_inicial[4:,4:]\n",
    "print(f'O slice verde é dado pelo seguinte array {slice_verde}')\n",
    "\n",
    "slice_roxo = matriz_inicial[2::2,::2]\n",
    "print(f'O slice roxo ém dado pelo seguinte array {slice_roxo}')"
   ]
  },
  {
   "cell_type": "markdown",
   "metadata": {},
   "source": [
    "**05. Nessa questão, iremos praticar o conceito de indexação em imagens! Pois é, caso você ainda não saiba, as imagens são formadas com conjuntos de *pixels*, e esses *pixels* são números inteiros (entre 0 e 255). Sendo assim, quando carregamos uma imagem no Python, essa imagem será armazenada em um matriz (Numpy), ou seja, cada *pixel* dessa imagem será um elemento dessa matriz.**\n",
    "\n",
    "No entanto, é importante que você também saiba que uma imagem colorida é composta por três matrizes, visto que uma imagem colorida é formada por 3 cores básicas: vermelho, verde e azul. Esse é o famoso padrão RGB. Portanto, sua imagem será armazenada em um array tridimensional.\n",
    "\n",
    "Sabendo disso, sua missão será carregar uma imagem colorida (em jpg) e exibir apenas a metade dessa imagem, tanto na horizontal quanto na vertical. Mas, calma... vamos te dar uma ajuda.\n",
    "\n",
    "Primeiro, você precisa instalar a biblioteca skimage para carregar a imagem, além da biblioteca do matplotlib para exibir a imagem (veremos essa biblioteca com mais detalhes nesse curso!), caso você ainda não tenha elas instaladas, claro. Para isso, utilize o comando `pip install scikit-image matplotlib`, se você estiver utilizando o pip, ou `conda install scikit-image matplotlib`, se estiver utilizando o Anaconda.\n",
    "\n",
    "Em seguida, observe o código abaixo; ele te mostra como você pode carregar uma imagem e exibi-la. Lembrando... **Sua missão será carregar uma imagem colorida (em jpg) e exibir apenas a metade dessa imagem, tanto na horizontal quanto na vertical.**\n",
    "\n",
    "```Python\n",
    "from skimage import io\n",
    "import numpy as np\n",
    "import matplotlib.pyplot as plt\n",
    "\n",
    "img = io.imread('images/numpy-logo.jpg') # Carregamento da imagem\n",
    "\n",
    "print(type(img))\n",
    "\n",
    "plt.imshow(img) # Exibição da imagem\n",
    "```"
   ]
  },
  {
   "cell_type": "code",
   "execution_count": 70,
   "metadata": {},
   "outputs": [
    {
     "data": {
      "image/png": "[encoded data removed]",
      "text/plain": [
       "<Figure size 720x504 with 2 Axes>"
      ]
     },
     "metadata": {
      "needs_background": "light"
     },
     "output_type": "display_data"
    }
   ],
   "source": [
    "from skimage import io\n",
    "import numpy as np\n",
    "import matplotlib.pyplot as plt\n",
    "\n",
    "img = io.imread('numpy-logo.png') # Carregamento da imagem\n",
    "\n",
    "tamanho_vertical = np.shape(img)[0]\n",
    "tamanho_horizontal = np.shape(img)[1]\n",
    "\n",
    "img_metade_vertical = img[int(tamanho_vertical/2):,:,:]\n",
    "img_metade_horizontal = img[:,int(tamanho_horizontal/2):,:]\n",
    "\n",
    "\n",
    "fig = plt.figure(figsize=(10, 7))\n",
    "fig.add_subplot(2, 1, 1)\n",
    "\n",
    "plt.imshow(img_metade_vertical)\n",
    "\n",
    "fig.add_subplot(2, 1, 2)\n",
    "plt.imshow(img_metade_horizontal)\n",
    "\n",
    "plt.show()\n"
   ]
  },
  {
   "cell_type": "markdown",
   "metadata": {},
   "source": [
    "---\n",
    "\n",
    "### Para evoluir! 🚀"
   ]
  },
  {
   "cell_type": "markdown",
   "metadata": {},
   "source": [
    "**01. Crie uma lista do Python que contenha 10 inteiros aleatórios (entre 0 e 100). Em seguida, a partir da lista criada anteriormente, crie um array do Numpy, utilizando a função array.**"
   ]
  },
  {
   "cell_type": "code",
   "execution_count": null,
   "metadata": {},
   "outputs": [],
   "source": []
  },
  {
   "cell_type": "markdown",
   "metadata": {},
   "source": [
    "**02. Crie um array com 10 elementos (iniciando em zero), em que os elementos tenham um intervalo de 3 unidades entre si.**"
   ]
  },
  {
   "cell_type": "markdown",
   "metadata": {},
   "source": []
  },
  {
   "cell_type": "markdown",
   "metadata": {},
   "source": [
    "**03. Crie um array com 40 elementos entre $-\\pi$ e $\\pi$.**"
   ]
  },
  {
   "cell_type": "code",
   "execution_count": null,
   "metadata": {},
   "outputs": [],
   "source": []
  },
  {
   "cell_type": "markdown",
   "metadata": {},
   "source": [
    "**04. Crie um array com 40 elementos, todos iguais a 6.**"
   ]
  },
  {
   "cell_type": "code",
   "execution_count": null,
   "metadata": {},
   "outputs": [],
   "source": []
  },
  {
   "cell_type": "markdown",
   "metadata": {},
   "source": [
    "**05. Divida o array obtido na Questão 4 por 3 e, em seguida, multiplique-o pelo array obtido na Questão 3.**"
   ]
  },
  {
   "cell_type": "code",
   "execution_count": null,
   "metadata": {},
   "outputs": [],
   "source": []
  },
  {
   "cell_type": "markdown",
   "metadata": {},
   "source": [
    "**06. Gere um array com 20 elementos aleatórios, entre $-\\pi$ e $\\pi$ e, em seguida, obtenha um novo array que contenha apenas os valores positivos do array aleatório gerado anteriormente.**"
   ]
  },
  {
   "cell_type": "code",
   "execution_count": null,
   "metadata": {},
   "outputs": [],
   "source": []
  },
  {
   "cell_type": "markdown",
   "metadata": {},
   "source": [
    "**07. Para o array aleatório gerado na questão anterior (com 20 elementos), obtenha:**\n",
    "\n",
    "- O valor mínimo  \n",
    "- O valor máximo  \n",
    "- A posição do valor mínimo  \n",
    "- A posição do valor máximo  \n",
    "- A média dos dados  \n",
    "- A mediana  \n",
    "- A moda  \n",
    "- A variância  \n",
    "- O desvio padrão  \n",
    "- O array ordenado (forma crescente)  "
   ]
  },
  {
   "cell_type": "code",
   "execution_count": null,
   "metadata": {},
   "outputs": [],
   "source": []
  }
 ],
 "metadata": {
  "interpreter": {
   "hash": "a23c8859640bc1fbc613091da76fbf96a069fd467f295e7bb8213e839167d67d"
  },
  "kernelspec": {
   "display_name": "Python 3.8.10 64-bit",
   "language": "python",
   "name": "python3"
  },
  "language_info": {
   "codemirror_mode": {
    "name": "ipython",
    "version": 3
   },
   "file_extension": ".py",
   "mimetype": "text/x-python",
   "name": "python",
   "nbconvert_exporter": "python",
   "pygments_lexer": "ipython3",
   "version": "3.8.10"
  },
  "orig_nbformat": 4
 },
 "nbformat": 4,
 "nbformat_minor": 2
}
